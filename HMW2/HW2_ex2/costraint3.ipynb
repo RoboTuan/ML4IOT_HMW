{
  "nbformat": 4,
  "nbformat_minor": 0,
  "metadata": {
    "colab": {
      "name": "HW2_ex2.ipynb",
      "provenance": [],
      "toc_visible": true,
      "include_colab_link": true
    },
    "kernelspec": {
      "name": "python3",
      "display_name": "Python 3"
    }
  },
  "cells": [
    {
      "cell_type": "markdown",
      "metadata": {
        "id": "view-in-github",
        "colab_type": "text"
      },
      "source": [
        "<a href=\"https://colab.research.google.com/github/RoboTuan/ML4IOT_HMW/blob/main/HMW2/HW2_ex2/costraint3.ipynb\" target=\"_parent\"><img src=\"https://colab.research.google.com/assets/colab-badge.svg\" alt=\"Open In Colab\"/></a>"
      ]
    },
    {
      "cell_type": "code",
      "metadata": {
        "colab": {
          "base_uri": "https://localhost:8080/",
          "height": 1000
        },
        "id": "EtNsmv43APVI",
        "outputId": "5fc56298-681e-4f82-bf0d-bee2040f1b76"
      },
      "source": [
        "\r\n",
        "!pip uninstall tensorflow \r\n",
        "!pip install tensorflow===2.3.0\r\n",
        "!pip install -q tensorflow-model-optimization"
      ],
      "execution_count": 1,
      "outputs": [
        {
          "output_type": "stream",
          "text": [
            "Uninstalling tensorflow-2.4.0:\n",
            "  Would remove:\n",
            "    /usr/local/bin/estimator_ckpt_converter\n",
            "    /usr/local/bin/import_pb_to_tensorboard\n",
            "    /usr/local/bin/saved_model_cli\n",
            "    /usr/local/bin/tensorboard\n",
            "    /usr/local/bin/tf_upgrade_v2\n",
            "    /usr/local/bin/tflite_convert\n",
            "    /usr/local/bin/toco\n",
            "    /usr/local/bin/toco_from_protos\n",
            "    /usr/local/lib/python3.6/dist-packages/tensorflow-2.4.0.dist-info/*\n",
            "    /usr/local/lib/python3.6/dist-packages/tensorflow/*\n",
            "Proceed (y/n)? y\n",
            "  Successfully uninstalled tensorflow-2.4.0\n",
            "Collecting tensorflow===2.3.0\n",
            "\u001b[?25l  Downloading https://files.pythonhosted.org/packages/97/ae/0b08f53498417914f2274cc3b5576d2b83179b0cbb209457d0fde0152174/tensorflow-2.3.0-cp36-cp36m-manylinux2010_x86_64.whl (320.4MB)\n",
            "\u001b[K     |████████████████████████████████| 320.4MB 49kB/s \n",
            "\u001b[?25hRequirement already satisfied: keras-preprocessing<1.2,>=1.1.1 in /usr/local/lib/python3.6/dist-packages (from tensorflow===2.3.0) (1.1.2)\n",
            "Collecting numpy<1.19.0,>=1.16.0\n",
            "\u001b[?25l  Downloading https://files.pythonhosted.org/packages/b3/a9/b1bc4c935ed063766bce7d3e8c7b20bd52e515ff1c732b02caacf7918e5a/numpy-1.18.5-cp36-cp36m-manylinux1_x86_64.whl (20.1MB)\n",
            "\u001b[K     |████████████████████████████████| 20.1MB 1.2MB/s \n",
            "\u001b[?25hCollecting tensorflow-estimator<2.4.0,>=2.3.0\n",
            "\u001b[?25l  Downloading https://files.pythonhosted.org/packages/e9/ed/5853ec0ae380cba4588eab1524e18ece1583b65f7ae0e97321f5ff9dfd60/tensorflow_estimator-2.3.0-py2.py3-none-any.whl (459kB)\n",
            "\u001b[K     |████████████████████████████████| 460kB 41.0MB/s \n",
            "\u001b[?25hRequirement already satisfied: google-pasta>=0.1.8 in /usr/local/lib/python3.6/dist-packages (from tensorflow===2.3.0) (0.2.0)\n",
            "Requirement already satisfied: tensorboard<3,>=2.3.0 in /usr/local/lib/python3.6/dist-packages (from tensorflow===2.3.0) (2.4.0)\n",
            "Requirement already satisfied: protobuf>=3.9.2 in /usr/local/lib/python3.6/dist-packages (from tensorflow===2.3.0) (3.12.4)\n",
            "Requirement already satisfied: h5py<2.11.0,>=2.10.0 in /usr/local/lib/python3.6/dist-packages (from tensorflow===2.3.0) (2.10.0)\n",
            "Requirement already satisfied: wrapt>=1.11.1 in /usr/local/lib/python3.6/dist-packages (from tensorflow===2.3.0) (1.12.1)\n",
            "Requirement already satisfied: wheel>=0.26 in /usr/local/lib/python3.6/dist-packages (from tensorflow===2.3.0) (0.36.2)\n",
            "Requirement already satisfied: scipy==1.4.1 in /usr/local/lib/python3.6/dist-packages (from tensorflow===2.3.0) (1.4.1)\n",
            "Requirement already satisfied: astunparse==1.6.3 in /usr/local/lib/python3.6/dist-packages (from tensorflow===2.3.0) (1.6.3)\n",
            "Requirement already satisfied: six>=1.12.0 in /usr/local/lib/python3.6/dist-packages (from tensorflow===2.3.0) (1.15.0)\n",
            "Requirement already satisfied: gast==0.3.3 in /usr/local/lib/python3.6/dist-packages (from tensorflow===2.3.0) (0.3.3)\n",
            "Requirement already satisfied: absl-py>=0.7.0 in /usr/local/lib/python3.6/dist-packages (from tensorflow===2.3.0) (0.10.0)\n",
            "Requirement already satisfied: grpcio>=1.8.6 in /usr/local/lib/python3.6/dist-packages (from tensorflow===2.3.0) (1.32.0)\n",
            "Requirement already satisfied: opt-einsum>=2.3.2 in /usr/local/lib/python3.6/dist-packages (from tensorflow===2.3.0) (3.3.0)\n",
            "Requirement already satisfied: termcolor>=1.1.0 in /usr/local/lib/python3.6/dist-packages (from tensorflow===2.3.0) (1.1.0)\n",
            "Requirement already satisfied: requests<3,>=2.21.0 in /usr/local/lib/python3.6/dist-packages (from tensorboard<3,>=2.3.0->tensorflow===2.3.0) (2.23.0)\n",
            "Requirement already satisfied: google-auth-oauthlib<0.5,>=0.4.1 in /usr/local/lib/python3.6/dist-packages (from tensorboard<3,>=2.3.0->tensorflow===2.3.0) (0.4.2)\n",
            "Requirement already satisfied: setuptools>=41.0.0 in /usr/local/lib/python3.6/dist-packages (from tensorboard<3,>=2.3.0->tensorflow===2.3.0) (50.3.2)\n",
            "Requirement already satisfied: tensorboard-plugin-wit>=1.6.0 in /usr/local/lib/python3.6/dist-packages (from tensorboard<3,>=2.3.0->tensorflow===2.3.0) (1.7.0)\n",
            "Requirement already satisfied: google-auth<2,>=1.6.3 in /usr/local/lib/python3.6/dist-packages (from tensorboard<3,>=2.3.0->tensorflow===2.3.0) (1.17.2)\n",
            "Requirement already satisfied: werkzeug>=0.11.15 in /usr/local/lib/python3.6/dist-packages (from tensorboard<3,>=2.3.0->tensorflow===2.3.0) (1.0.1)\n",
            "Requirement already satisfied: markdown>=2.6.8 in /usr/local/lib/python3.6/dist-packages (from tensorboard<3,>=2.3.0->tensorflow===2.3.0) (3.3.3)\n",
            "Requirement already satisfied: urllib3!=1.25.0,!=1.25.1,<1.26,>=1.21.1 in /usr/local/lib/python3.6/dist-packages (from requests<3,>=2.21.0->tensorboard<3,>=2.3.0->tensorflow===2.3.0) (1.24.3)\n",
            "Requirement already satisfied: idna<3,>=2.5 in /usr/local/lib/python3.6/dist-packages (from requests<3,>=2.21.0->tensorboard<3,>=2.3.0->tensorflow===2.3.0) (2.10)\n",
            "Requirement already satisfied: chardet<4,>=3.0.2 in /usr/local/lib/python3.6/dist-packages (from requests<3,>=2.21.0->tensorboard<3,>=2.3.0->tensorflow===2.3.0) (3.0.4)\n",
            "Requirement already satisfied: certifi>=2017.4.17 in /usr/local/lib/python3.6/dist-packages (from requests<3,>=2.21.0->tensorboard<3,>=2.3.0->tensorflow===2.3.0) (2020.12.5)\n",
            "Requirement already satisfied: requests-oauthlib>=0.7.0 in /usr/local/lib/python3.6/dist-packages (from google-auth-oauthlib<0.5,>=0.4.1->tensorboard<3,>=2.3.0->tensorflow===2.3.0) (1.3.0)\n",
            "Requirement already satisfied: pyasn1-modules>=0.2.1 in /usr/local/lib/python3.6/dist-packages (from google-auth<2,>=1.6.3->tensorboard<3,>=2.3.0->tensorflow===2.3.0) (0.2.8)\n",
            "Requirement already satisfied: cachetools<5.0,>=2.0.0 in /usr/local/lib/python3.6/dist-packages (from google-auth<2,>=1.6.3->tensorboard<3,>=2.3.0->tensorflow===2.3.0) (4.2.0)\n",
            "Requirement already satisfied: rsa<5,>=3.1.4; python_version >= \"3\" in /usr/local/lib/python3.6/dist-packages (from google-auth<2,>=1.6.3->tensorboard<3,>=2.3.0->tensorflow===2.3.0) (4.6)\n",
            "Requirement already satisfied: importlib-metadata; python_version < \"3.8\" in /usr/local/lib/python3.6/dist-packages (from markdown>=2.6.8->tensorboard<3,>=2.3.0->tensorflow===2.3.0) (3.3.0)\n",
            "Requirement already satisfied: oauthlib>=3.0.0 in /usr/local/lib/python3.6/dist-packages (from requests-oauthlib>=0.7.0->google-auth-oauthlib<0.5,>=0.4.1->tensorboard<3,>=2.3.0->tensorflow===2.3.0) (3.1.0)\n",
            "Requirement already satisfied: pyasn1<0.5.0,>=0.4.6 in /usr/local/lib/python3.6/dist-packages (from pyasn1-modules>=0.2.1->google-auth<2,>=1.6.3->tensorboard<3,>=2.3.0->tensorflow===2.3.0) (0.4.8)\n",
            "Requirement already satisfied: typing-extensions>=3.6.4; python_version < \"3.8\" in /usr/local/lib/python3.6/dist-packages (from importlib-metadata; python_version < \"3.8\"->markdown>=2.6.8->tensorboard<3,>=2.3.0->tensorflow===2.3.0) (3.7.4.3)\n",
            "Requirement already satisfied: zipp>=0.5 in /usr/local/lib/python3.6/dist-packages (from importlib-metadata; python_version < \"3.8\"->markdown>=2.6.8->tensorboard<3,>=2.3.0->tensorflow===2.3.0) (3.4.0)\n",
            "\u001b[31mERROR: datascience 0.10.6 has requirement folium==0.2.1, but you'll have folium 0.8.3 which is incompatible.\u001b[0m\n",
            "\u001b[31mERROR: albumentations 0.1.12 has requirement imgaug<0.2.7,>=0.2.5, but you'll have imgaug 0.2.9 which is incompatible.\u001b[0m\n",
            "Installing collected packages: numpy, tensorflow-estimator, tensorflow\n",
            "  Found existing installation: numpy 1.19.4\n",
            "    Uninstalling numpy-1.19.4:\n",
            "      Successfully uninstalled numpy-1.19.4\n",
            "  Found existing installation: tensorflow-estimator 2.4.0\n",
            "    Uninstalling tensorflow-estimator-2.4.0:\n",
            "      Successfully uninstalled tensorflow-estimator-2.4.0\n",
            "Successfully installed numpy-1.18.5 tensorflow-2.3.0 tensorflow-estimator-2.3.0\n"
          ],
          "name": "stdout"
        },
        {
          "output_type": "display_data",
          "data": {
            "application/vnd.colab-display-data+json": {
              "pip_warning": {
                "packages": [
                  "numpy"
                ]
              }
            }
          },
          "metadata": {
            "tags": []
          }
        },
        {
          "output_type": "stream",
          "text": [
            "\u001b[?25l\r\u001b[K     |██                              | 10kB 18.6MB/s eta 0:00:01\r\u001b[K     |███▉                            | 20kB 23.4MB/s eta 0:00:01\r\u001b[K     |█████▊                          | 30kB 9.8MB/s eta 0:00:01\r\u001b[K     |███████▋                        | 40kB 9.0MB/s eta 0:00:01\r\u001b[K     |█████████▌                      | 51kB 4.5MB/s eta 0:00:01\r\u001b[K     |███████████▍                    | 61kB 5.0MB/s eta 0:00:01\r\u001b[K     |█████████████▎                  | 71kB 5.1MB/s eta 0:00:01\r\u001b[K     |███████████████▏                | 81kB 5.6MB/s eta 0:00:01\r\u001b[K     |█████████████████               | 92kB 5.4MB/s eta 0:00:01\r\u001b[K     |███████████████████             | 102kB 5.8MB/s eta 0:00:01\r\u001b[K     |████████████████████▉           | 112kB 5.8MB/s eta 0:00:01\r\u001b[K     |██████████████████████▊         | 122kB 5.8MB/s eta 0:00:01\r\u001b[K     |████████████████████████▊       | 133kB 5.8MB/s eta 0:00:01\r\u001b[K     |██████████████████████████▋     | 143kB 5.8MB/s eta 0:00:01\r\u001b[K     |████████████████████████████▌   | 153kB 5.8MB/s eta 0:00:01\r\u001b[K     |██████████████████████████████▍ | 163kB 5.8MB/s eta 0:00:01\r\u001b[K     |████████████████████████████████| 174kB 5.8MB/s \n",
            "\u001b[?25h"
          ],
          "name": "stdout"
        }
      ]
    },
    {
      "cell_type": "code",
      "metadata": {
        "id": "jCB53wPLLWaR"
      },
      "source": [
        "import tensorflow as tf\n",
        "import numpy as np\n",
        "from tensorflow import keras\n",
        "import pandas as pd\n",
        "import matplotlib.pyplot as plt\n",
        "import os\n",
        "from zipfile import ZipFile\n",
        "import tensorflow_model_optimization as tfmot\n",
        "from tensorflow_model_optimization.python.core.api.sparsity import keras as sparsity\n",
        "import zlib\n",
        "\n"
      ],
      "execution_count": 2,
      "outputs": []
    },
    {
      "cell_type": "code",
      "metadata": {
        "colab": {
          "base_uri": "https://localhost:8080/"
        },
        "id": "ZNmNFu8Mjsxl",
        "outputId": "81d8f296-1e35-44ab-ad27-ddbc3e20b491"
      },
      "source": [
        "if not os.path.isdir('./HMW'):\n",
        "  !git clone \"https://github.com/RoboTuan/ML4IOT_HMW.git\"  \n",
        "  !mv 'ML4IOT_HMW' 'HMW'\n",
        "\n",
        "ROOT_DIR = 'HMW/HMW2/'\n",
        "tflite_models=ROOT_DIR + \"tflite_models/\""
      ],
      "execution_count": 3,
      "outputs": [
        {
          "output_type": "stream",
          "text": [
            "Cloning into 'ML4IOT_HMW'...\n",
            "remote: Enumerating objects: 234, done.\u001b[K\n",
            "remote: Counting objects: 100% (234/234), done.\u001b[K\n",
            "remote: Compressing objects: 100% (198/198), done.\u001b[K\n",
            "remote: Total 234 (delta 101), reused 100 (delta 30), pack-reused 0\u001b[K\n",
            "Receiving objects: 100% (234/234), 1.81 MiB | 7.89 MiB/s, done.\n",
            "Resolving deltas: 100% (101/101), done.\n"
          ],
          "name": "stdout"
        }
      ]
    },
    {
      "cell_type": "code",
      "metadata": {
        "id": "p-26mjjDSR1F"
      },
      "source": [
        "#parser = argparse.ArgumentParser()\n",
        "#parser.add_argument('--version', type=str, required=True, help='a,b or c')\n",
        "#parser.add_argument('--mfcc', action='store_true', help='use MFCCs')\n",
        "#args = parser.parse_args()\n",
        "\n",
        "model_type='c' #args.version\n",
        "mfcc=True\n",
        "alpha=0.5"
      ],
      "execution_count": 4,
      "outputs": []
    },
    {
      "cell_type": "code",
      "metadata": {
        "id": "X7K0B4RTTkNI"
      },
      "source": [
        "seed = 42\n",
        "tf.random.set_seed(seed)\n",
        "np.random.seed(seed)"
      ],
      "execution_count": 5,
      "outputs": []
    },
    {
      "cell_type": "code",
      "metadata": {
        "id": "EFbVU7mgTmr5",
        "colab": {
          "base_uri": "https://localhost:8080/"
        },
        "outputId": "a795cd3a-723c-41a6-c44f-93143122e6c2"
      },
      "source": [
        "zip_path = tf.keras.utils.get_file(\n",
        "        origin=\"http://storage.googleapis.com/download.tensorflow.org/data/mini_speech_commands.zip\",\n",
        "        fname='mini_speech_commands.zip',\n",
        "        extract=True,\n",
        "        cache_dir='.', cache_subdir='data')\n",
        "data_dir = os.path.join('.', 'data', 'mini_speech_commands')\n",
        "filenames = tf.io.gfile.glob(str(data_dir) + '/*/*')\n",
        "filenames = tf.random.shuffle(filenames) #fa tanto\n",
        "num_samples = len(filenames)\n",
        "total = 8000"
      ],
      "execution_count": 6,
      "outputs": [
        {
          "output_type": "stream",
          "text": [
            "Downloading data from http://storage.googleapis.com/download.tensorflow.org/data/mini_speech_commands.zip\n",
            "182083584/182082353 [==============================] - 1s 0us/step\n"
          ],
          "name": "stdout"
        }
      ]
    },
    {
      "cell_type": "code",
      "metadata": {
        "id": "mmen3RxJWUE7"
      },
      "source": [
        "train_files = tf.strings.split(tf.io.read_file(ROOT_DIR +'kws_train_split.txt'),sep='\\n')[:-1]\n",
        "val_files= tf.strings.split(tf.io.read_file(ROOT_DIR +'kws_val_split.txt'),sep='\\n')[:-1]\n",
        "test_files = tf.strings.split(tf.io.read_file(ROOT_DIR +'kws_test_split.txt'),sep='\\n')[:-1]\n",
        "\n",
        " \n"
      ],
      "execution_count": 7,
      "outputs": []
    },
    {
      "cell_type": "code",
      "metadata": {
        "id": "O46MZr_UV8sM"
      },
      "source": [
        ""
      ],
      "execution_count": 7,
      "outputs": []
    },
    {
      "cell_type": "code",
      "metadata": {
        "id": "j-MfBnKZcfEF"
      },
      "source": [
        "LABELS = np.array(tf.io.gfile.listdir(str(data_dir)))\n",
        "LABELS = LABELS[LABELS != 'README.md']"
      ],
      "execution_count": 8,
      "outputs": []
    },
    {
      "cell_type": "code",
      "metadata": {
        "id": "C1HWKgl4cgGs"
      },
      "source": [
        "class SignalGenerator:\n",
        "    def __init__(self, labels, sampling_rate, frame_length, frame_step,\n",
        "            num_mel_bins=None, lower_frequency=None, upper_frequency=None,\n",
        "            num_coefficients=None, mfcc=False, resampling_rate = None):\n",
        "\n",
        "        self.labels = labels\n",
        "\n",
        "        # Added resampling_rte\n",
        "        self.sampling_rate = sampling_rate\n",
        "        self.resampling_rate = resampling_rate\n",
        "\n",
        "        self.frame_length = frame_length\n",
        "        self.frame_step = frame_step\n",
        "\n",
        "        self.lower_frequency = lower_frequency\n",
        "        self.upper_frequency = upper_frequency\n",
        "\n",
        "        self.num_mel_bins = num_mel_bins\n",
        "        self.num_coefficients = num_coefficients\n",
        "\n",
        "        num_spectrogram_bins = (frame_length) // 2 + 1\n",
        "\n",
        "\n",
        "        if self.resampling_rate is not None:\n",
        "            # Step for resampling\n",
        "            self.step = int(self.sampling_rate/self.resampling_rate)\n",
        "            \n",
        "            if mfcc is True:\n",
        "                self.linear_to_mel_weight_matrix = tf.signal.linear_to_mel_weight_matrix(\n",
        "                        self.num_mel_bins, num_spectrogram_bins, self.resampling_rate,\n",
        "                        self.lower_frequency, self.upper_frequency)\n",
        "                self.preprocess = self.preprocess_with_mfcc\n",
        "            else:\n",
        "                self.preprocess = self.preprocess_with_stft\n",
        "\n",
        "        else:\n",
        "            self.step = 1\n",
        "            \n",
        "            if mfcc is True:\n",
        "                self.linear_to_mel_weight_matrix = tf.signal.linear_to_mel_weight_matrix(\n",
        "                        self.num_mel_bins, num_spectrogram_bins, self.sampling_rate,\n",
        "                        self.lower_frequency, self.upper_frequency)\n",
        "                self.preprocess = self.preprocess_with_mfcc\n",
        "            else:\n",
        "                self.preprocess = self.preprocess_with_stft\n",
        "\n",
        "    def read(self, file_path):\n",
        "        parts = tf.strings.split(file_path, os.path.sep)\n",
        "        label = parts[-2]\n",
        "        label_id = tf.argmax(label == self.labels)\n",
        "        audio_binary = tf.io.read_file(file_path)\n",
        "        audio, _ = tf.audio.decode_wav(audio_binary)\n",
        "        audio = tf.squeeze(audio, axis=1)\n",
        "\n",
        "        #print(self.step)\n",
        "\n",
        "        audio = audio[::self.step]\n",
        "        return audio, label_id\n",
        "\n",
        "\n",
        "    def pad(self, audio):\n",
        "        if self.resampling_rate is not None:\n",
        "            rate = self.resampling_rate\n",
        "        else:\n",
        "            rate = self.sampling_rate\n",
        "        zero_padding = tf.zeros([rate] - tf.shape(audio), dtype=tf.float32)\n",
        "        #print(self.sampling_rate)\n",
        "        audio = tf.concat([audio, zero_padding], 0)\n",
        "        audio.set_shape([rate])\n",
        "\n",
        "        return audio\n",
        "\n",
        "    def get_spectrogram(self, audio):\n",
        "        stft = tf.signal.stft(audio, frame_length=self.frame_length,\n",
        "                frame_step=self.frame_step, fft_length=self.frame_length)\n",
        "        spectrogram = tf.abs(stft)\n",
        "\n",
        "        return spectrogram\n",
        "\n",
        "    def get_mfccs(self, spectrogram):\n",
        "        mel_spectrogram = tf.tensordot(spectrogram,\n",
        "                self.linear_to_mel_weight_matrix, 1)\n",
        "        log_mel_spectrogram = tf.math.log(mel_spectrogram + 1.e-6)\n",
        "        mfccs = tf.signal.mfccs_from_log_mel_spectrograms(log_mel_spectrogram)\n",
        "        mfccs = mfccs[..., :self.num_coefficients]\n",
        "\n",
        "        return mfccs\n",
        "\n",
        "    def preprocess_with_stft(self, file_path):\n",
        "        audio, label = self.read(file_path)\n",
        "        audio = self.pad(audio)\n",
        "        spectrogram = self.get_spectrogram(audio)\n",
        "        spectrogram = tf.expand_dims(spectrogram, -1)\n",
        "        spectrogram = tf.image.resize(spectrogram, [32, 32])\n",
        "\n",
        "        return spectrogram, label\n",
        "\n",
        "    def preprocess_with_mfcc(self, file_path):\n",
        "        audio, label = self.read(file_path)\n",
        "        audio = self.pad(audio)\n",
        "        spectrogram = self.get_spectrogram(audio)\n",
        "        mfccs = self.get_mfccs(spectrogram)\n",
        "        mfccs = tf.expand_dims(mfccs, -1)\n",
        "\n",
        "        return mfccs, label\n",
        "\n",
        "    def make_dataset(self, files, train):\n",
        "        ds = tf.data.Dataset.from_tensor_slices(files)\n",
        "        ds = ds.map(self.preprocess, num_parallel_calls=4)\n",
        "        ds = ds.batch(32)\n",
        "        ds = ds.cache()\n",
        "        if train is True:\n",
        "            ds = ds.shuffle(100, reshuffle_each_iteration=True)\n",
        "\n",
        "        return ds\n"
      ],
      "execution_count": 9,
      "outputs": []
    },
    {
      "cell_type": "code",
      "metadata": {
        "id": "uF2ceXoTc6X_"
      },
      "source": [
        "STFT_OPTIONS = {'frame_length': 256, 'frame_step': 128, 'mfcc': False}\n",
        "'''MFCC_OPTIONS = {'frame_length': 640, 'frame_step': 320, 'mfcc': True,\n",
        "        'lower_frequency': 20, 'upper_frequency': 4000, 'num_mel_bins': 40,\n",
        "        'num_coefficients': 10}'''\n",
        "MFCC_OPTIONS = {'frame_length': 320, 'frame_step': 160, 'mfcc': True,\n",
        "        'lower_frequency': 20, 'upper_frequency': 4000, 'num_mel_bins': 40,\n",
        "        'num_coefficients': 10}"
      ],
      "execution_count": 10,
      "outputs": []
    },
    {
      "cell_type": "code",
      "metadata": {
        "id": "6mpDzH9GdmBs"
      },
      "source": [
        "#if args.mfcc is True:\n",
        "if mfcc is True:\n",
        "    options = MFCC_OPTIONS\n",
        "    strides = [2, 1]\n",
        "else:\n",
        "    options = STFT_OPTIONS\n",
        "    strides = [2, 2]"
      ],
      "execution_count": 11,
      "outputs": []
    },
    {
      "cell_type": "code",
      "metadata": {
        "id": "Tg8Cg36tdrLd"
      },
      "source": [
        "generator = SignalGenerator(LABELS, sampling_rate = 16000, resampling_rate=8000, **options)\n",
        "train_ds = generator.make_dataset(train_files, True)\n",
        "val_ds = generator.make_dataset(val_files, False)\n",
        "test_ds = generator.make_dataset(test_files, False)\n",
        "units=8"
      ],
      "execution_count": 12,
      "outputs": []
    },
    {
      "cell_type": "code",
      "metadata": {
        "id": "N_hJ3fLKwGxh"
      },
      "source": [
        "dataset_dir= ROOT_DIR + \"dataset\"\r\n",
        "\r\n",
        "tf.data.experimental.save(train_ds, f'{dataset_dir}/train_ds')\r\n",
        "tf.data.experimental.save(val_ds, f'{dataset_dir}/val_ds')\r\n",
        "tf.data.experimental.save(test_ds, f'{dataset_dir}/test_ds')"
      ],
      "execution_count": 13,
      "outputs": []
    },
    {
      "cell_type": "code",
      "metadata": {
        "colab": {
          "base_uri": "https://localhost:8080/"
        },
        "id": "5cUpzXNwxS7H",
        "outputId": "1261e8b2-0499-45e4-b777-a0499d51b388"
      },
      "source": [
        "!zip -r test_ds.zip {dataset_dir + \"/test_ds\"}\r\n"
      ],
      "execution_count": 14,
      "outputs": [
        {
          "output_type": "stream",
          "text": [
            "  adding: HMW/HMW2/dataset/test_ds/ (stored 0%)\n",
            "  adding: HMW/HMW2/dataset/test_ds/snapshot.metadata (stored 0%)\n",
            "  adding: HMW/HMW2/dataset/test_ds/10385866568862828457/ (stored 0%)\n",
            "  adding: HMW/HMW2/dataset/test_ds/10385866568862828457/00000000.shard/ (stored 0%)\n",
            "  adding: HMW/HMW2/dataset/test_ds/10385866568862828457/00000000.shard/00000000.snapshot (deflated 8%)\n"
          ],
          "name": "stdout"
        }
      ]
    },
    {
      "cell_type": "markdown",
      "metadata": {
        "id": "u6ue7OwCvSg-"
      },
      "source": [
        "#Model"
      ]
    },
    {
      "cell_type": "markdown",
      "metadata": {
        "id": "-j7vRZkLziid"
      },
      "source": [
        "##Model A"
      ]
    },
    {
      "cell_type": "code",
      "metadata": {
        "id": "2lcrcEETzlox"
      },
      "source": [
        "ds_cnn_model = keras.Sequential([\n",
        "    keras.layers.Conv2D(filters=(alpha*256),kernel_size=[3,3],strides=strides, use_bias=False),\n",
        "    keras.layers.BatchNormalization(momentum=0.1),\n",
        "    keras.layers.ReLU(),\n",
        "    keras.layers.DepthwiseConv2D(kernel_size=[3,3],strides=[1, 1], use_bias=False),\n",
        "    keras.layers.Conv2D(filters=(alpha*256),kernel_size=[1,1],strides=[1,1], use_bias=False),\n",
        "    keras.layers.BatchNormalization(momentum=0.1),\n",
        "    keras.layers.ReLU(),\n",
        "    keras.layers.DepthwiseConv2D(kernel_size=[3,3],strides=[1, 1], use_bias=False),\n",
        "    keras.layers.Conv2D(filters=(alpha*256),kernel_size=[1,1],strides=[1,1], use_bias=False),\n",
        "    keras.layers.BatchNormalization(momentum=0.1),\n",
        "    keras.layers.ReLU(),\n",
        "    keras.layers.GlobalAveragePooling2D(),\n",
        "    keras.layers.Dense(units=8) #10 if silence else 8\n",
        "])"
      ],
      "execution_count": 15,
      "outputs": []
    },
    {
      "cell_type": "markdown",
      "metadata": {
        "id": "sjtKHmqJzmPH"
      },
      "source": [
        "##Model B"
      ]
    },
    {
      "cell_type": "code",
      "metadata": {
        "id": "PXmdPXRyznwO"
      },
      "source": [
        "#CNN_2D Model definition\n",
        "\n",
        "cnn_model = keras.Sequential([\n",
        "    keras.layers.Conv2D(filters=128,kernel_size=[3,3],strides=strides, use_bias=False),\n",
        "    keras.layers.BatchNormalization(momentum=0.1),\n",
        "    keras.layers.ReLU(),\n",
        "    keras.layers.Conv2D(filters=128,kernel_size=[3,3],strides=strides, use_bias=False),\n",
        "    keras.layers.BatchNormalization(momentum=0.1),\n",
        "    keras.layers.ReLU(),\n",
        "    keras.layers.Conv2D(filters=128,kernel_size=[3,3],strides=strides, use_bias=False),\n",
        "    keras.layers.BatchNormalization(momentum=0.1),\n",
        "    keras.layers.ReLU(),\n",
        "    keras.layers.GlobalAveragePooling2D(),\n",
        "    keras.layers.Dense(units=8) #10 if silence\n",
        "])"
      ],
      "execution_count": 16,
      "outputs": []
    },
    {
      "cell_type": "markdown",
      "metadata": {
        "id": "FKkktzv2zoWx"
      },
      "source": [
        "##Model C"
      ]
    },
    {
      "cell_type": "code",
      "metadata": {
        "id": "vgNVG-jzzsUk"
      },
      "source": [
        "ds_cnn_model = keras.Sequential([\n",
        "    keras.layers.Conv2D(filters=(alpha*256),kernel_size=[3,3],strides=strides, use_bias=False),\n",
        "    keras.layers.BatchNormalization(momentum=0.1),\n",
        "    keras.layers.ReLU(),\n",
        "    keras.layers.DepthwiseConv2D(kernel_size=[3,3],strides=[1, 1], use_bias=False),\n",
        "    keras.layers.Conv2D(filters=(alpha*256),kernel_size=[1,1],strides=[1,1], use_bias=False),\n",
        "    keras.layers.BatchNormalization(momentum=0.1),\n",
        "    keras.layers.ReLU(),\n",
        "    keras.layers.DepthwiseConv2D(kernel_size=[3,3],strides=[1, 1], use_bias=False),\n",
        "    keras.layers.Conv2D(filters=(alpha*256),kernel_size=[1,1],strides=[1,1], use_bias=False),\n",
        "    keras.layers.BatchNormalization(momentum=0.1),\n",
        "    keras.layers.ReLU(),\n",
        "    keras.layers.GlobalAveragePooling2D(),\n",
        "    keras.layers.Dense(units=8) #10 if silence else 8\n",
        "])"
      ],
      "execution_count": 17,
      "outputs": []
    },
    {
      "cell_type": "markdown",
      "metadata": {
        "id": "Xcdo-vXFvZpg"
      },
      "source": [
        "##Model definition"
      ]
    },
    {
      "cell_type": "code",
      "metadata": {
        "id": "F58fd8zpvR6m"
      },
      "source": [
        "if model_type=='a':\n",
        "  model=mlp_model\n",
        "  if (mfcc==True):\n",
        "    path= './callback_val_chkp/mfcc_model_a'\n",
        "  else:\n",
        "    path= './callback_val_chkp/stft_model_a'\n",
        "\n",
        "if model_type=='b':\n",
        "  model=cnn_model\n",
        "  if (mfcc==True):\n",
        "    path= './callback_val_chkp/mfcc_model_b'\n",
        "  else:\n",
        "    path= './callback_val_chkp/stft_model_b'\n",
        "\n",
        "if model_type=='c':\n",
        "  model=ds_cnn_model\n",
        "  if (mfcc==True):\n",
        "    path= './callback_val_chkp/mfcc_model_c'\n",
        "  else:\n",
        "    path= './callback_val_chkp/stft_model_c'"
      ],
      "execution_count": 18,
      "outputs": []
    },
    {
      "cell_type": "code",
      "metadata": {
        "id": "DkhUmj-V46H2"
      },
      "source": [
        "\n",
        "cp_callback = keras.callbacks.ModelCheckpoint(\n",
        "    filepath=path,\n",
        "    # './callback_test_chkp/chkp_best',\n",
        "    monitor='val_accuracy',\n",
        "    verbose=0, \n",
        "    save_best_only=True,\n",
        "    # save_best_only=True,\n",
        "    save_weights_only=False,\n",
        "    mode='auto',\n",
        "    save_freq='epoch'\n",
        ")"
      ],
      "execution_count": 19,
      "outputs": []
    },
    {
      "cell_type": "markdown",
      "metadata": {
        "id": "iJQc4JTpvcfi"
      },
      "source": [
        "##Training"
      ]
    },
    {
      "cell_type": "code",
      "metadata": {
        "colab": {
          "base_uri": "https://localhost:8080/"
        },
        "id": "HITYllmYvoXx",
        "outputId": "c6ee588f-4f0a-4051-f347-c23a184e0ad8"
      },
      "source": [
        "model.compile(loss=tf.keras.losses.SparseCategoricalCrossentropy(from_logits=True) ,optimizer='adam', metrics=['accuracy'])\n",
        "model.fit(train_ds, epochs=20, validation_data=val_ds,callbacks=[cp_callback])"
      ],
      "execution_count": 20,
      "outputs": [
        {
          "output_type": "stream",
          "text": [
            "Epoch 1/20\n",
            "200/200 [==============================] - ETA: 0s - loss: 1.4224 - accuracy: 0.5688WARNING:tensorflow:From /usr/local/lib/python3.6/dist-packages/tensorflow/python/training/tracking/tracking.py:111: Model.state_updates (from tensorflow.python.keras.engine.training) is deprecated and will be removed in a future version.\n",
            "Instructions for updating:\n",
            "This property should not be used in TensorFlow 2.0, as updates are applied automatically.\n",
            "WARNING:tensorflow:From /usr/local/lib/python3.6/dist-packages/tensorflow/python/training/tracking/tracking.py:111: Layer.updates (from tensorflow.python.keras.engine.base_layer) is deprecated and will be removed in a future version.\n",
            "Instructions for updating:\n",
            "This property should not be used in TensorFlow 2.0, as updates are applied automatically.\n",
            "INFO:tensorflow:Assets written to: ./callback_val_chkp/mfcc_model_c/assets\n",
            "200/200 [==============================] - 15s 74ms/step - loss: 1.4224 - accuracy: 0.5688 - val_loss: 0.9296 - val_accuracy: 0.7525\n",
            "Epoch 2/20\n",
            "200/200 [==============================] - ETA: 0s - loss: 0.7975 - accuracy: 0.7877INFO:tensorflow:Assets written to: ./callback_val_chkp/mfcc_model_c/assets\n",
            "200/200 [==============================] - 15s 73ms/step - loss: 0.7975 - accuracy: 0.7877 - val_loss: 0.6143 - val_accuracy: 0.8350\n",
            "Epoch 3/20\n",
            "200/200 [==============================] - ETA: 0s - loss: 0.5639 - accuracy: 0.8505INFO:tensorflow:Assets written to: ./callback_val_chkp/mfcc_model_c/assets\n",
            "200/200 [==============================] - 15s 73ms/step - loss: 0.5639 - accuracy: 0.8505 - val_loss: 0.5235 - val_accuracy: 0.8438\n",
            "Epoch 4/20\n",
            "200/200 [==============================] - ETA: 0s - loss: 0.4457 - accuracy: 0.8769INFO:tensorflow:Assets written to: ./callback_val_chkp/mfcc_model_c/assets\n",
            "200/200 [==============================] - 15s 74ms/step - loss: 0.4457 - accuracy: 0.8769 - val_loss: 0.4001 - val_accuracy: 0.8925\n",
            "Epoch 5/20\n",
            "200/200 [==============================] - 13s 64ms/step - loss: 0.3798 - accuracy: 0.8913 - val_loss: 0.3812 - val_accuracy: 0.8813\n",
            "Epoch 6/20\n",
            "200/200 [==============================] - ETA: 0s - loss: 0.3222 - accuracy: 0.9070INFO:tensorflow:Assets written to: ./callback_val_chkp/mfcc_model_c/assets\n",
            "200/200 [==============================] - 16s 82ms/step - loss: 0.3222 - accuracy: 0.9070 - val_loss: 0.3372 - val_accuracy: 0.9000\n",
            "Epoch 7/20\n",
            "200/200 [==============================] - ETA: 0s - loss: 0.2821 - accuracy: 0.9222INFO:tensorflow:Assets written to: ./callback_val_chkp/mfcc_model_c/assets\n",
            "200/200 [==============================] - 15s 74ms/step - loss: 0.2821 - accuracy: 0.9222 - val_loss: 0.2842 - val_accuracy: 0.9175\n",
            "Epoch 8/20\n",
            "200/200 [==============================] - ETA: 0s - loss: 0.2576 - accuracy: 0.9280INFO:tensorflow:Assets written to: ./callback_val_chkp/mfcc_model_c/assets\n",
            "200/200 [==============================] - 15s 74ms/step - loss: 0.2576 - accuracy: 0.9280 - val_loss: 0.2626 - val_accuracy: 0.9212\n",
            "Epoch 9/20\n",
            "200/200 [==============================] - 13s 67ms/step - loss: 0.2303 - accuracy: 0.9337 - val_loss: 0.2966 - val_accuracy: 0.9087\n",
            "Epoch 10/20\n",
            "200/200 [==============================] - 13s 66ms/step - loss: 0.2077 - accuracy: 0.9422 - val_loss: 0.2577 - val_accuracy: 0.9200\n",
            "Epoch 11/20\n",
            "200/200 [==============================] - 13s 66ms/step - loss: 0.1978 - accuracy: 0.9461 - val_loss: 0.2716 - val_accuracy: 0.9112\n",
            "Epoch 12/20\n",
            "200/200 [==============================] - 13s 65ms/step - loss: 0.1779 - accuracy: 0.9508 - val_loss: 0.2868 - val_accuracy: 0.9137\n",
            "Epoch 13/20\n",
            "200/200 [==============================] - ETA: 0s - loss: 0.1585 - accuracy: 0.9558INFO:tensorflow:Assets written to: ./callback_val_chkp/mfcc_model_c/assets\n",
            "200/200 [==============================] - 15s 75ms/step - loss: 0.1585 - accuracy: 0.9558 - val_loss: 0.2592 - val_accuracy: 0.9262\n",
            "Epoch 14/20\n",
            "200/200 [==============================] - 13s 65ms/step - loss: 0.1496 - accuracy: 0.9589 - val_loss: 0.2535 - val_accuracy: 0.9250\n",
            "Epoch 15/20\n",
            "200/200 [==============================] - 13s 65ms/step - loss: 0.1319 - accuracy: 0.9645 - val_loss: 0.2531 - val_accuracy: 0.9125\n",
            "Epoch 16/20\n",
            "200/200 [==============================] - 13s 67ms/step - loss: 0.1307 - accuracy: 0.9609 - val_loss: 0.2391 - val_accuracy: 0.9212\n",
            "Epoch 17/20\n",
            "200/200 [==============================] - 13s 66ms/step - loss: 0.1147 - accuracy: 0.9677 - val_loss: 0.2917 - val_accuracy: 0.9237\n",
            "Epoch 18/20\n",
            "200/200 [==============================] - 13s 66ms/step - loss: 0.1083 - accuracy: 0.9714 - val_loss: 0.2312 - val_accuracy: 0.9212\n",
            "Epoch 19/20\n",
            "200/200 [==============================] - 13s 66ms/step - loss: 0.0993 - accuracy: 0.9736 - val_loss: 0.2370 - val_accuracy: 0.9125\n",
            "Epoch 20/20\n",
            "200/200 [==============================] - 13s 66ms/step - loss: 0.0899 - accuracy: 0.9755 - val_loss: 0.2535 - val_accuracy: 0.9237\n"
          ],
          "name": "stdout"
        },
        {
          "output_type": "execute_result",
          "data": {
            "text/plain": [
              "<tensorflow.python.keras.callbacks.History at 0x7face1c128d0>"
            ]
          },
          "metadata": {
            "tags": []
          },
          "execution_count": 20
        }
      ]
    },
    {
      "cell_type": "code",
      "metadata": {
        "id": "RvGKXt2PPB8U"
      },
      "source": [
        "model = keras.models.load_model(path)"
      ],
      "execution_count": 21,
      "outputs": []
    },
    {
      "cell_type": "markdown",
      "metadata": {
        "id": "v21zw4Wsv80_"
      },
      "source": [
        "##Validation"
      ]
    },
    {
      "cell_type": "code",
      "metadata": {
        "colab": {
          "base_uri": "https://localhost:8080/"
        },
        "id": "uO2bgmjMv2lP",
        "outputId": "ec35e011-d94d-477b-e134-a651abbc468f"
      },
      "source": [
        "#model evaluation on validation set\n",
        "val_accuracy= model.evaluate(val_ds)"
      ],
      "execution_count": 22,
      "outputs": [
        {
          "output_type": "stream",
          "text": [
            "25/25 [==============================] - 0s 16ms/step - loss: 0.2592 - accuracy: 0.1363\n"
          ],
          "name": "stdout"
        }
      ]
    },
    {
      "cell_type": "markdown",
      "metadata": {
        "id": "qD20dg20wWZ9"
      },
      "source": [
        "##Testing"
      ]
    },
    {
      "cell_type": "code",
      "metadata": {
        "colab": {
          "base_uri": "https://localhost:8080/"
        },
        "id": "sxS4hbZdwal-",
        "outputId": "0538c87f-5cdc-4de3-ee65-5394f8a165fd"
      },
      "source": [
        "test_accuracy= model.evaluate(test_ds)"
      ],
      "execution_count": 23,
      "outputs": [
        {
          "output_type": "stream",
          "text": [
            "25/25 [==============================] - 0s 16ms/step - loss: 0.2956 - accuracy: 0.1400\n"
          ],
          "name": "stdout"
        }
      ]
    },
    {
      "cell_type": "markdown",
      "metadata": {
        "id": "aCHMXjN99T6J"
      },
      "source": [
        "#Pruning"
      ]
    },
    {
      "cell_type": "code",
      "metadata": {
        "id": "lM_KCDoM9TM-",
        "colab": {
          "base_uri": "https://localhost:8080/",
          "height": 69
        },
        "outputId": "cad789e7-8829-40de-eb47-465abec53636"
      },
      "source": [
        "'''prune_low_magnitude=tfmot.sparsity.keras.prune_low_magnitude\r\n",
        "\r\n",
        "pruning_params = {\r\n",
        "      'pruning_schedule': tfmot.sparsity.keras.PolynomialDecay(initial_sparsity=0.50,final_sparsity=0.90,begin_step=len(train_ds)*5,end_step=len(train_ds)*15)\r\n",
        "}\r\n",
        "\r\n",
        "\r\n",
        "model_for_pruning = prune_low_magnitude(model, **pruning_params)'''\r\n"
      ],
      "execution_count": 24,
      "outputs": [
        {
          "output_type": "execute_result",
          "data": {
            "application/vnd.google.colaboratory.intrinsic+json": {
              "type": "string"
            },
            "text/plain": [
              "\"prune_low_magnitude=tfmot.sparsity.keras.prune_low_magnitude\\n\\npruning_params = {\\n      'pruning_schedule': tfmot.sparsity.keras.PolynomialDecay(initial_sparsity=0.50,final_sparsity=0.90,begin_step=len(train_ds)*5,end_step=len(train_ds)*15)\\n}\\n\\n\\nmodel_for_pruning = prune_low_magnitude(model, **pruning_params)\""
            ]
          },
          "metadata": {
            "tags": []
          },
          "execution_count": 24
        }
      ]
    },
    {
      "cell_type": "code",
      "metadata": {
        "id": "KFio1tecYXz-",
        "colab": {
          "base_uri": "https://localhost:8080/",
          "height": 52
        },
        "outputId": "ae103e0a-467d-4c4e-efe2-d94314c2df6d"
      },
      "source": [
        "'''model_for_pruning.compile(optimizer='adam',\r\n",
        "              loss=tf.keras.losses.SparseCategoricalCrossentropy(from_logits=True),\r\n",
        "              metrics=['accuracy'])'''"
      ],
      "execution_count": 25,
      "outputs": [
        {
          "output_type": "execute_result",
          "data": {
            "application/vnd.google.colaboratory.intrinsic+json": {
              "type": "string"
            },
            "text/plain": [
              "\"model_for_pruning.compile(optimizer='adam',\\n              loss=tf.keras.losses.SparseCategoricalCrossentropy(from_logits=True),\\n              metrics=['accuracy'])\""
            ]
          },
          "metadata": {
            "tags": []
          },
          "execution_count": 25
        }
      ]
    },
    {
      "cell_type": "code",
      "metadata": {
        "id": "0VQvZAKg-FAp",
        "colab": {
          "base_uri": "https://localhost:8080/",
          "height": 35
        },
        "outputId": "0f0f6b6f-acb1-49f3-9ec1-aba789b46a11"
      },
      "source": [
        "'''callbacks = [tfmot.sparsity.keras.UpdatePruningStep()]'''\r\n"
      ],
      "execution_count": 26,
      "outputs": [
        {
          "output_type": "execute_result",
          "data": {
            "application/vnd.google.colaboratory.intrinsic+json": {
              "type": "string"
            },
            "text/plain": [
              "'callbacks = [tfmot.sparsity.keras.UpdatePruningStep()]'"
            ]
          },
          "metadata": {
            "tags": []
          },
          "execution_count": 26
        }
      ]
    },
    {
      "cell_type": "code",
      "metadata": {
        "colab": {
          "base_uri": "https://localhost:8080/",
          "height": 35
        },
        "id": "bcvCbjJQYY2R",
        "outputId": "dee312f4-fbe7-43bb-d701-f5c2a3da1d9d"
      },
      "source": [
        "'''model_for_pruning.fit(train_ds,epochs=20,validation_data=val_ds,callbacks=callbacks)'''"
      ],
      "execution_count": 27,
      "outputs": [
        {
          "output_type": "execute_result",
          "data": {
            "application/vnd.google.colaboratory.intrinsic+json": {
              "type": "string"
            },
            "text/plain": [
              "'model_for_pruning.fit(train_ds,epochs=20,validation_data=val_ds,callbacks=callbacks)'"
            ]
          },
          "metadata": {
            "tags": []
          },
          "execution_count": 27
        }
      ]
    },
    {
      "cell_type": "code",
      "metadata": {
        "colab": {
          "base_uri": "https://localhost:8080/",
          "height": 52
        },
        "id": "5cuDr45OZ8MY",
        "outputId": "fe71ec81-443e-4200-a7d1-17a2cba2abd9"
      },
      "source": [
        "'''model_for_pruning_accuracy = model_for_pruning.evaluate(\r\n",
        "  test_ds, verbose=0)\r\n",
        " \r\n",
        "print('Pruned test accuracy:', model_for_pruning_accuracy)'''"
      ],
      "execution_count": 28,
      "outputs": [
        {
          "output_type": "execute_result",
          "data": {
            "application/vnd.google.colaboratory.intrinsic+json": {
              "type": "string"
            },
            "text/plain": [
              "\"model_for_pruning_accuracy = model_for_pruning.evaluate(\\n  test_ds, verbose=0)\\n \\nprint('Pruned test accuracy:', model_for_pruning_accuracy)\""
            ]
          },
          "metadata": {
            "tags": []
          },
          "execution_count": 28
        }
      ]
    },
    {
      "cell_type": "code",
      "metadata": {
        "id": "e7_VpKqLZc_c",
        "colab": {
          "base_uri": "https://localhost:8080/",
          "height": 35
        },
        "outputId": "3cf647bd-ec8e-4618-ba92-c7dbd0d49888"
      },
      "source": [
        "'''model=tfmot.sparsity.keras.strip_pruning(model_for_pruning)'''"
      ],
      "execution_count": 29,
      "outputs": [
        {
          "output_type": "execute_result",
          "data": {
            "application/vnd.google.colaboratory.intrinsic+json": {
              "type": "string"
            },
            "text/plain": [
              "'model=tfmot.sparsity.keras.strip_pruning(model_for_pruning)'"
            ]
          },
          "metadata": {
            "tags": []
          },
          "execution_count": 29
        }
      ]
    },
    {
      "cell_type": "markdown",
      "metadata": {
        "id": "fzw1Xf_irf_z"
      },
      "source": [
        "#Quantization weight + activation"
      ]
    },
    {
      "cell_type": "code",
      "metadata": {
        "id": "2NRSVYKH4oyS",
        "outputId": "d290a724-2aa5-49d8-f09c-6e268c2d1f10",
        "colab": {
          "base_uri": "https://localhost:8080/",
          "height": 35
        }
      },
      "source": [
        "'''def representative_data_gen():\r\n",
        "  for x,_ in train_ds.take(100):\r\n",
        "    yield [x]'''"
      ],
      "execution_count": 30,
      "outputs": [
        {
          "output_type": "execute_result",
          "data": {
            "application/vnd.google.colaboratory.intrinsic+json": {
              "type": "string"
            },
            "text/plain": [
              "'def representative_data_gen():\\n  for x,_ in train_ds.take(100):\\n    yield [x]'"
            ]
          },
          "metadata": {
            "tags": []
          },
          "execution_count": 30
        }
      ]
    },
    {
      "cell_type": "markdown",
      "metadata": {
        "id": "DBoOxTEXxHMd"
      },
      "source": [
        "##tflite conversion"
      ]
    },
    {
      "cell_type": "code",
      "metadata": {
        "id": "uB8OtLPgxM1L",
        "colab": {
          "base_uri": "https://localhost:8080/"
        },
        "outputId": "153e4286-9270-4097-a6d5-1c9f198b79e7"
      },
      "source": [
        "ROOT_DIR=\"./callback_val_chkp/\"\n",
        "tflite_models= ROOT_DIR + \"tfliteModels/\"\n",
        "tflite_models_2= ROOT_DIR + \"tfliteModelsNoZip/\"\n",
        "!mkdir ./callback_val_chkp/tfliteModels\n",
        "!mkdir ./callback_val_chkp/tfliteModelsNoZip\n",
        "\n",
        "if model_type=='a':\n",
        "  if (mfcc==True):\n",
        "    saved_model_dir= ROOT_DIR +\"mfcc_model_a\"\n",
        "    tflite_model_dir= tflite_models + \"model_a\"\n",
        "    tflite_model_dir_noZip= tflite_models_2 + \"model_a\"\n",
        "  else:\n",
        "    saved_model_dir= ROOT_DIR +\"stft_model_a\"\n",
        "    tflite_model_dir= tflite_models + \"model_a\"\n",
        "    tflite_model_dir_noZip= tflite_models_2 + \"model_a\"\n",
        "\n",
        "if model_type=='b':\n",
        "  if (mfcc==True):\n",
        "    saved_model_dir= ROOT_DIR +\"mfcc_model_b\"\n",
        "    tflite_model_dir= tflite_models + \"model_b\"\n",
        "    tflite_model_dir_noZip= tflite_models_2 + \"model_b\"\n",
        "  else:\n",
        "    saved_model_dir= ROOT_DIR +\"stft_model_b\"\n",
        "    tflite_model_dir= tflite_models + \"model_b\"\n",
        "    tflite_model_dir_noZip= tflite_models_2 + \"model_b\"\n",
        "\n",
        "if model_type=='c':\n",
        "  if (mfcc==True):\n",
        "    saved_model_dir= ROOT_DIR +\"mfcc_model_c\"\n",
        "    tflite_model_dir= tflite_models + \"model_c\"\n",
        "    tflite_model_dir_noZip= tflite_models_2 + \"model_c\"\n",
        "  else:\n",
        "    saved_model_dir= ROOT_DIR +\"stft_model_c\"\n",
        "    tflite_model_dir= tflite_models + \"model_c\"\n",
        "    tflite_model_dir_noZip= tflite_models_2 + \"model_c\"\n",
        "\n",
        "\n",
        "\n",
        "\n",
        "converter=tf.lite.TFLiteConverter.from_keras_model(model) #from_saved_model(saved_model_dir)\n",
        "converter.optimizations = [tf.lite.Optimize.DEFAULT]\n",
        "#converter.representative_dataset= representative_data_gen\n",
        "tflite_model=converter.convert()\n",
        "\n",
        "with open(tflite_model_dir, \"wb\") as fp:\n",
        "  tflite_compressed = zlib.compress(tflite_model)\n",
        "  fp.write(tflite_compressed)\n",
        "\n",
        "with open(tflite_model_dir_noZip, \"wb\") as fp:\n",
        "  fp.write(tflite_model)"
      ],
      "execution_count": 31,
      "outputs": [
        {
          "output_type": "stream",
          "text": [
            "INFO:tensorflow:Assets written to: /tmp/tmpjt_v6p5y/assets\n"
          ],
          "name": "stdout"
        }
      ]
    },
    {
      "cell_type": "code",
      "metadata": {
        "id": "M6kdf2831FNE"
      },
      "source": [
        ""
      ],
      "execution_count": 31,
      "outputs": []
    },
    {
      "cell_type": "markdown",
      "metadata": {
        "id": "e1ClUrPctBLd"
      },
      "source": [
        "#Q aware training"
      ]
    },
    {
      "cell_type": "code",
      "metadata": {
        "colab": {
          "base_uri": "https://localhost:8080/",
          "height": 69
        },
        "id": "rGZEKWN9riUE",
        "outputId": "656bb911-7ed8-448f-f9cb-bad55a4158c8"
      },
      "source": [
        "'''quantize_model = tfmot.quantization.keras.quantize_model\r\n",
        "q_aware_model = quantize_model(model)\r\n",
        "q_aware_model.compile(optimizer='adam',\r\n",
        "              loss=tf.keras.losses.SparseCategoricalCrossentropy(from_logits=True),\r\n",
        "              metrics=['accuracy'])\r\n",
        "q_aware_model.fit(train_ds, epochs=20, validation_data=val_ds,callbacks=[cp_callback])\r\n",
        "\r\n",
        "model=q_aware_model'''"
      ],
      "execution_count": 32,
      "outputs": [
        {
          "output_type": "execute_result",
          "data": {
            "application/vnd.google.colaboratory.intrinsic+json": {
              "type": "string"
            },
            "text/plain": [
              "\"quantize_model = tfmot.quantization.keras.quantize_model\\nq_aware_model = quantize_model(model)\\nq_aware_model.compile(optimizer='adam',\\n              loss=tf.keras.losses.SparseCategoricalCrossentropy(from_logits=True),\\n              metrics=['accuracy'])\\nq_aware_model.fit(train_ds, epochs=20, validation_data=val_ds,callbacks=[cp_callback])\\n\\nmodel=q_aware_model\""
            ]
          },
          "metadata": {
            "tags": []
          },
          "execution_count": 32
        }
      ]
    },
    {
      "cell_type": "markdown",
      "metadata": {
        "id": "iIckUXuaw95G"
      },
      "source": [
        "##Size and latency measurement"
      ]
    },
    {
      "cell_type": "markdown",
      "metadata": {
        "id": "3CH-bOBg2Xy7"
      },
      "source": [
        "##Size measurement"
      ]
    },
    {
      "cell_type": "code",
      "metadata": {
        "colab": {
          "base_uri": "https://localhost:8080/"
        },
        "id": "XiHV3SYH2Sl2",
        "outputId": "205dac7b-9c09-4ef5-d2a9-1d0faf8567ac"
      },
      "source": [
        "os.path.getsize(tflite_model_dir)"
      ],
      "execution_count": 33,
      "outputs": [
        {
          "output_type": "execute_result",
          "data": {
            "text/plain": [
              "36426"
            ]
          },
          "metadata": {
            "tags": []
          },
          "execution_count": 33
        }
      ]
    },
    {
      "cell_type": "code",
      "metadata": {
        "id": "CO3w-etLVIAx",
        "colab": {
          "base_uri": "https://localhost:8080/"
        },
        "outputId": "acfbfae9-0ec7-472c-c172-ff3a6e19eba0"
      },
      "source": [
        "\r\n",
        "'''parser= argparse.ArgumentParser()\r\n",
        "parser.add_argument('--model',type=str)\r\n",
        "parser.add_argument('--mfcc', action='store_true',help='use mfcc')\r\n",
        "args=parser.parse_args()'''\r\n",
        "\r\n",
        "dataset_name= './HMW/HMW2/dataset/test_ds'\r\n",
        "\r\n",
        "\r\n",
        "\r\n",
        "if mfcc is True:\r\n",
        "    tensor_spec =(tf.TensorSpec([None,49,10,1],dtype=tf.float32),tf.TensorSpec([None], dtype=tf.int64))\r\n",
        "else:\r\n",
        "    tensor_spec =(tf.TensorSpec([None,32,32,1],dtype=tf.float32),tf.TensorSpec([None], dtype=tf.int64))\r\n",
        "\r\n",
        "test_ds = tf.data.experimental.load(dataset_name, tensor_spec) \r\n",
        "test_ds= test_ds.unbatch().batch(1)\r\n",
        "\r\n",
        "intepreter=tf.lite.Interpreter(model_path='./callback_val_chkp/tfliteModelsNoZip/model_c')\r\n",
        "intepreter.allocate_tensors()\r\n",
        "input_details=intepreter.get_input_details()\r\n",
        "output_details =intepreter.get_output_details()\r\n",
        "\r\n",
        "accuracy=0\r\n",
        "count= 0 \r\n",
        "for x, y_true in test_ds: \r\n",
        "    intepreter.set_tensor(input_details[0]['index'], x)\r\n",
        "    intepreter.invoke()\r\n",
        "    y_pred =intepreter.get_tensor(output_details[0]['index'])\r\n",
        "    y_pred =y_pred.squeeze()\r\n",
        "    y_pred=np.argmax(y_pred)\r\n",
        "    y_true =y_true.numpy().squeeze()\r\n",
        "    accuracy+=y_pred == y_true\r\n",
        "    count+=1 \r\n",
        "\r\n",
        "accuracy/=float(count)\r\n",
        "print(\"Accuracy {}\".format(accuracy*100))\r\n"
      ],
      "execution_count": 35,
      "outputs": [
        {
          "output_type": "stream",
          "text": [
            "Accuracy 90.0\n"
          ],
          "name": "stdout"
        }
      ]
    },
    {
      "cell_type": "code",
      "metadata": {
        "id": "wsEPkm_ooxds"
      },
      "source": [
        "tf.__version__"
      ],
      "execution_count": null,
      "outputs": []
    }
  ]
}