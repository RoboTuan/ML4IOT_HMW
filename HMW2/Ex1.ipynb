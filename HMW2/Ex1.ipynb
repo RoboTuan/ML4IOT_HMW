{
  "nbformat": 4,
  "nbformat_minor": 0,
  "metadata": {
    "language_info": {
      "codemirror_mode": {
        "name": "ipython",
        "version": 3
      },
      "file_extension": ".py",
      "mimetype": "text/x-python",
      "name": "python",
      "nbconvert_exporter": "python",
      "pygments_lexer": "ipython3",
      "version": "3.8.5-final"
    },
    "orig_nbformat": 2,
    "kernelspec": {
      "name": "python3",
      "display_name": "Python 3"
    },
    "colab": {
      "name": "Ex1.ipynb",
      "provenance": [],
      "include_colab_link": true
    }
  },
  "cells": [
    {
      "cell_type": "markdown",
      "metadata": {
        "id": "view-in-github",
        "colab_type": "text"
      },
      "source": [
        "<a href=\"https://colab.research.google.com/github/RoboTuan/ML4IOT_HMW/blob/main/Ex1.ipynb\" target=\"_parent\"><img src=\"https://colab.research.google.com/assets/colab-badge.svg\" alt=\"Open In Colab\"/></a>"
      ]
    },
    {
      "cell_type": "code",
      "metadata": {
        "id": "2b4nQVOgzgiv",
        "outputId": "ee7ad1b5-813d-49c3-ce1f-837f387aa8c9"
      },
      "source": [
        "!nvidia-smi"
      ],
      "execution_count": 1,
      "outputs": [
        {
          "output_type": "stream",
          "name": "stdout",
          "text": [
            "Sat Dec  5 22:32:51 2020       \n+-----------------------------------------------------------------------------+\n| NVIDIA-SMI 455.45.01    Driver Version: 418.67       CUDA Version: 10.1     |\n|-------------------------------+----------------------+----------------------+\n| GPU  Name        Persistence-M| Bus-Id        Disp.A | Volatile Uncorr. ECC |\n| Fan  Temp  Perf  Pwr:Usage/Cap|         Memory-Usage | GPU-Util  Compute M. |\n|                               |                      |               MIG M. |\n|===============================+======================+======================|\n|   0  Tesla T4            Off  | 00000000:00:04.0 Off |                    0 |\n| N/A   57C    P8    10W /  70W |      0MiB / 15079MiB |      0%      Default |\n|                               |                      |                 ERR! |\n+-------------------------------+----------------------+----------------------+\n                                                                               \n+-----------------------------------------------------------------------------+\n| Processes:                                                                  |\n|  GPU   GI   CI        PID   Type   Process name                  GPU Memory |\n|        ID   ID                                                   Usage      |\n|=============================================================================|\n|  No running processes found                                                 |\n+-----------------------------------------------------------------------------+\n"
          ]
        }
      ]
    },
    {
      "cell_type": "code",
      "metadata": {
        "id": "CwVVtfegzgiw"
      },
      "source": [
        "import argparse\n",
        "import numpy as np\n",
        "import os\n",
        "import pandas as pd\n",
        "import tensorflow as tf\n",
        "from tensorflow import keras\n",
        "import sys"
      ],
      "execution_count": 2,
      "outputs": []
    },
    {
      "cell_type": "code",
      "metadata": {
        "id": "uuW8x0HNzgiw",
        "outputId": "c392877c-72b7-481d-88b6-dda0853325b5"
      },
      "source": [
        "\n",
        "\n",
        "\n",
        "#parser = argparse.ArgumentParser()\n",
        "#parser.add_argument('--model', type=str, required=True, help='model name')\n",
        "#parser.add_argument('--labels', type=int, required=True, help='model output')\n",
        "#args = parser.parse_args()\n",
        "\n",
        "seed = 42\n",
        "tf.random.set_seed(seed)\n",
        "np.random.seed(seed)\n",
        "\n",
        "zip_path = tf.keras.utils.get_file(\n",
        "    origin='https://storage.googleapis.com/tensorflow/tf-keras-datasets/jena_climate_2009_2016.csv.zip',\n",
        "    fname='jena_climate_2009_2016.csv.zip',\n",
        "    extract=True,\n",
        "    cache_dir='.', cache_subdir='data')\n",
        "csv_path, _ = os.path.splitext(zip_path)\n",
        "df = pd.read_csv(csv_path)\n",
        "\n",
        "column_indices = [2, 5]\n",
        "columns = df.columns[column_indices]\n",
        "data = df[columns].values.astype(np.float32)\n",
        "\n",
        "n = len(data)\n",
        "train_data = data[0:int(n*0.7)]\n",
        "val_data = data[int(n*0.7):int(n*0.9)]\n",
        "test_data = data[int(n*0.9):]\n",
        "\n",
        "mean = train_data.mean(axis=0)\n",
        "std = train_data.std(axis=0)\n",
        "\n",
        "input_width = 6\n",
        "LABEL_OPTIONS = 2\n"
      ],
      "execution_count": 3,
      "outputs": [
        {
          "output_type": "stream",
          "name": "stdout",
          "text": [
            "Downloading data from https://storage.googleapis.com/tensorflow/tf-keras-datasets/jena_climate_2009_2016.csv.zip\n",
            "13574144/13568290 [==============================] - 0s 0us/step\n"
          ]
        }
      ]
    },
    {
      "cell_type": "code",
      "metadata": {
        "id": "gS6_0SA6zgiw",
        "outputId": "89eb908c-b0f6-478c-ed48-6d8e50d6fbba"
      },
      "source": [
        "x = np.array([1,2,3,4,5,6])\n",
        "print(x[-1])\n",
        "print(x[:-3])\n",
        "print(x[-3:])"
      ],
      "execution_count": 4,
      "outputs": [
        {
          "output_type": "stream",
          "name": "stdout",
          "text": [
            "6\n[1 2 3]\n[4 5 6]\n"
          ]
        }
      ]
    },
    {
      "cell_type": "code",
      "metadata": {
        "id": "Xj1bKccMzgiw"
      },
      "source": [
        "class WindowGenerator:\n",
        "    def __init__(self, input_width, label_options, mean, std):\n",
        "        self.input_width = input_width\n",
        "        self.label_options = label_options\n",
        "        self.mean = tf.reshape(tf.convert_to_tensor(mean), [1, 1, 2])\n",
        "        self.std = tf.reshape(tf.convert_to_tensor(std), [1, 1, 2])\n",
        "\n",
        "    def split_window(self, features):\n",
        "        input_indeces = np.arange(self.input_width)\n",
        "        inputs = features[:, :-6, :]\n",
        "            \n",
        "        labels = features[:, -6:, :]\n",
        "        num_labels = 2\n",
        "\n",
        "        inputs.set_shape([None, self.input_width, 2])\n",
        "        # vedere se funge\n",
        "        labels.set_shape([None, self.input_width, num_labels])\n",
        "\n",
        "        return inputs, labels\n",
        "\n",
        "    def normalize(self, features):\n",
        "        features = (features - self.mean) / (self.std + 1.e-6)\n",
        "\n",
        "        return features\n",
        "\n",
        "    def preprocess(self, features):\n",
        "        inputs, labels = self.split_window(features)\n",
        "        inputs = self.normalize(inputs)\n",
        "\n",
        "        return inputs, labels\n",
        "\n",
        "    def make_dataset(self, data, train):\n",
        "        ds = tf.keras.preprocessing.timeseries_dataset_from_array(\n",
        "                data=data,\n",
        "                # Targets None because we have the targets incorporated in the dataset\n",
        "                targets=None,\n",
        "                sequence_length=input_width+6,\n",
        "                sequence_stride=1,\n",
        "                batch_size=32)\n",
        "        ds = ds.map(self.preprocess)\n",
        "        ds = ds.cache()\n",
        "        if train is True:\n",
        "            ds = ds.shuffle(100, reshuffle_each_iteration=True)\n",
        "\n",
        "        return ds\n"
      ],
      "execution_count": 5,
      "outputs": []
    },
    {
      "cell_type": "code",
      "metadata": {
        "id": "5sUwT_dQzgix"
      },
      "source": [
        "generator = WindowGenerator(input_width, LABEL_OPTIONS, mean, std)\n",
        "train_ds = generator.make_dataset(train_data, True)\n",
        "val_ds = generator.make_dataset(val_data, False)\n",
        "test_ds = generator.make_dataset(test_data, False)"
      ],
      "execution_count": 6,
      "outputs": []
    },
    {
      "cell_type": "code",
      "metadata": {
        "id": "JuMCzO_Czgix",
        "outputId": "34fab9af-2fd8-4a21-f9ad-b73fd5a8d430"
      },
      "source": [
        "for element in train_ds:\n",
        "    print(len(element))\n",
        "    print(element[0].shape, element[1].shape)\n",
        "    #print(element[0])\n",
        "    sys.exit()"
      ],
      "execution_count": 7,
      "outputs": [
        {
          "output_type": "stream",
          "name": "stdout",
          "text": [
            "2\n(32, 6, 2) (32, 6, 2)\n"
          ]
        },
        {
          "output_type": "error",
          "ename": "SystemExit",
          "evalue": "",
          "traceback": [
            "An exception has occurred, use %tb to see the full traceback.\n",
            "\u001b[0;31mSystemExit\u001b[0m\n"
          ]
        }
      ]
    },
    {
      "cell_type": "markdown",
      "metadata": {
        "id": "aOG_bjOkzgix"
      },
      "source": [
        "## Models"
      ]
    },
    {
      "cell_type": "code",
      "metadata": {
        "id": "tCCQPQXLzgix"
      },
      "source": [
        "MODEL_OPTIONS = \"CNN-1D\"\n",
        "\n",
        "units=6*2\n",
        "\n",
        "\n",
        "if MODEL_OPTIONS == \"MLP\":\n",
        "    model = keras.Sequential([\n",
        "    keras.layers.Flatten(input_shape=(6, 2)),\n",
        "    keras.layers.Dense(128, activation='relu', name='first_dense'),\n",
        "    keras.layers.Dense(128, activation='relu', name='second_dense'),\n",
        "    keras.layers.Dense(units, name='third_dense'),\n",
        "    keras.layers.Reshape([6, 2])\n",
        "    ])\n",
        "\n",
        "\n",
        "elif MODEL_OPTIONS == \"CNN-1D\":\n",
        "    model = keras.Sequential([\n",
        "        keras.layers.Conv1D(filters=64, kernel_size=3, activation='relu', name='first_conv'),\n",
        "        keras.layers.Flatten(input_shape=(64,)),\n",
        "        keras.layers.Dense(units=64, activation='relu', name='first_dense'),\n",
        "        keras.layers.Dense(units, name='second_dense'),\n",
        "        keras.layers.Reshape([6, 2])\n",
        "    ])\n",
        "\n",
        "# WARNING: DO NOT USE LSTM MODEL\n",
        "# NOT STABLE WITH TFLITE\n",
        "# elif MODEL_OPTIONS == \"LSTM\":\n",
        "#     model = keras.Sequential([\n",
        "#         keras.layers.LSTM(64),\n",
        "#         keras.layers.Flatten(),\n",
        "#         keras.layers.Dense(units),\n",
        "#         keras.layers.Reshape([6, 2])\n",
        "#     ])\n",
        "\n",
        "else:\n",
        "    print(\"Invalid model selected\")\n",
        "    sys.exit()\n"
      ],
      "execution_count": 32,
      "outputs": []
    },
    {
      "cell_type": "code",
      "metadata": {
        "id": "ROJvK7V5zgix"
      },
      "source": [
        "# TODO: \n",
        "# pass a single list of dimension to the reduce_mean function\n",
        "# see pdf for more instructions\n",
        "class MsMoMAE(tf.keras.metrics.Metric):\n",
        "    def __init__(self, name='MsMoMAE', **kwargs):\n",
        "        super(MsMoMAE, self).__init__(name=name, **kwargs)\n",
        "        self.total = self.add_weight(name='total', initializer='zeros', shape=(2, ))\n",
        "        self.count = self.add_weight(name='count', initializer='zeros')\n",
        "\n",
        "    def reset_states(self):\n",
        "        self.count.assign(tf.zeros_like(self.count))\n",
        "        self.total.assign(tf.zeros_like(self.total))\n",
        "\n",
        "        return\n",
        "\n",
        "    def update_state(self, y_true, y_pred, sample_weight=None):\n",
        "        error = tf.abs(y_pred - y_true)\n",
        "        #error = tf.reduce_mean(error, axis=1)\n",
        "        #error = tf.reduce_mean(error, axis=0)\n",
        "        error = tf.reduce_mean(error, axis=[0,1])\n",
        "        self.total.assign_add(error)\n",
        "        self.count.assign_add(1)\n",
        "\n",
        "        return\n",
        "\n",
        "    def result(self):\n",
        "        result = tf.math.divide_no_nan(self.total, self.count)\n",
        "\n",
        "        return result\n"
      ],
      "execution_count": 33,
      "outputs": []
    },
    {
      "cell_type": "code",
      "metadata": {
        "id": "SRo_w--Uzgiy",
        "outputId": "dd59bf13-a437-49ea-8344-88b6c189d128"
      },
      "source": [
        "model.compile(optimizer='adam',\n",
        "            loss=[tf.keras.losses.MeanSquaredError()],\n",
        "            metrics=[MsMoMAE()])\n",
        "\n",
        "print(\"Fit model on training data\")\n",
        "\n",
        "history = model.fit(\n",
        "    train_ds,\n",
        "    batch_size=32,\n",
        "    epochs=20,\n",
        "    validation_data=(val_ds)\n",
        ")\n",
        "\n",
        "print(\"Evaluate on test data\")\n",
        "loss, error = model.evaluate(test_ds, verbose=2)\n",
        "print(error)\n",
        "\n",
        "model.summary()"
      ],
      "execution_count": 34,
      "outputs": [
        {
          "output_type": "stream",
          "name": "stdout",
          "text": [
            "Fit model on training data\n",
            "Epoch 1/20\n",
            "9200/9200 [==============================] - 23s 3ms/step - loss: 48.8635 - MsMoMAE: 2.6110 - val_loss: 5.8025 - val_MsMoMAE: 1.4325\n",
            "Epoch 2/20\n",
            "9200/9200 [==============================] - 24s 3ms/step - loss: 5.0589 - MsMoMAE: 1.3183 - val_loss: 6.5678 - val_MsMoMAE: 1.5078\n",
            "Epoch 3/20\n",
            "9200/9200 [==============================] - 24s 3ms/step - loss: 4.8353 - MsMoMAE: 1.2860 - val_loss: 4.6157 - val_MsMoMAE: 1.2289\n",
            "Epoch 4/20\n",
            "9200/9200 [==============================] - 24s 3ms/step - loss: 4.6152 - MsMoMAE: 1.2394 - val_loss: 4.2590 - val_MsMoMAE: 1.0939\n",
            "Epoch 5/20\n",
            "9200/9200 [==============================] - 23s 3ms/step - loss: 4.5809 - MsMoMAE: 1.2255 - val_loss: 4.5453 - val_MsMoMAE: 1.2652\n",
            "Epoch 6/20\n",
            "9200/9200 [==============================] - 23s 3ms/step - loss: 4.4653 - MsMoMAE: 1.1999 - val_loss: 6.6755 - val_MsMoMAE: 1.5560\n",
            "Epoch 7/20\n",
            "9200/9200 [==============================] - 24s 3ms/step - loss: 4.4782 - MsMoMAE: 1.2040 - val_loss: 5.8947 - val_MsMoMAE: 1.5211\n",
            "Epoch 8/20\n",
            "9200/9200 [==============================] - 23s 3ms/step - loss: 4.4053 - MsMoMAE: 1.1894 - val_loss: 4.2440 - val_MsMoMAE: 1.1324\n",
            "Epoch 9/20\n",
            "9200/9200 [==============================] - 23s 3ms/step - loss: 4.3301 - MsMoMAE: 1.1702 - val_loss: 4.1704 - val_MsMoMAE: 1.1076\n",
            "Epoch 10/20\n",
            "9200/9200 [==============================] - 23s 3ms/step - loss: 4.3102 - MsMoMAE: 1.1689 - val_loss: 4.8172 - val_MsMoMAE: 1.3509\n",
            "Epoch 11/20\n",
            "9200/9200 [==============================] - 23s 3ms/step - loss: 4.2548 - MsMoMAE: 1.1539 - val_loss: 4.7735 - val_MsMoMAE: 1.2546\n",
            "Epoch 12/20\n",
            "9200/9200 [==============================] - 23s 3ms/step - loss: 4.2237 - MsMoMAE: 1.1515 - val_loss: 4.1632 - val_MsMoMAE: 1.0853\n",
            "Epoch 13/20\n",
            "9200/9200 [==============================] - 23s 3ms/step - loss: 4.2201 - MsMoMAE: 1.1508 - val_loss: 4.0239 - val_MsMoMAE: 1.0936\n",
            "Epoch 14/20\n",
            "9200/9200 [==============================] - 23s 3ms/step - loss: 4.2130 - MsMoMAE: 1.1466 - val_loss: 4.0812 - val_MsMoMAE: 1.0834\n",
            "Epoch 15/20\n",
            "9200/9200 [==============================] - 24s 3ms/step - loss: 4.1600 - MsMoMAE: 1.1343 - val_loss: 4.6411 - val_MsMoMAE: 1.3380\n",
            "Epoch 16/20\n",
            "9200/9200 [==============================] - 23s 3ms/step - loss: 4.1681 - MsMoMAE: 1.1376 - val_loss: 3.9998 - val_MsMoMAE: 1.0755\n",
            "Epoch 17/20\n",
            "9200/9200 [==============================] - 23s 3ms/step - loss: 4.1326 - MsMoMAE: 1.1307 - val_loss: 4.1048 - val_MsMoMAE: 1.0708\n",
            "Epoch 18/20\n",
            "9200/9200 [==============================] - 23s 3ms/step - loss: 4.0931 - MsMoMAE: 1.1182 - val_loss: 4.5885 - val_MsMoMAE: 1.2154\n",
            "Epoch 19/20\n",
            "9200/9200 [==============================] - 23s 3ms/step - loss: 4.0964 - MsMoMAE: 1.1208 - val_loss: 4.5166 - val_MsMoMAE: 1.2088\n",
            "Epoch 20/20\n",
            "9200/9200 [==============================] - 24s 3ms/step - loss: 4.0872 - MsMoMAE: 1.1204 - val_loss: 3.9542 - val_MsMoMAE: 1.0542\n",
            "Evaluate on test data\n",
            "1314/1314 - 2s - loss: 4.1274 - MsMoMAE: 1.0982\n",
            "[0.42359704 1.7727224 ]\n",
            "Model: \"sequential_6\"\n",
            "_________________________________________________________________\n",
            "Layer (type)                 Output Shape              Param #   \n",
            "=================================================================\n",
            "first_conv (Conv1D)          (None, 4, 64)             448       \n",
            "_________________________________________________________________\n",
            "flatten_6 (Flatten)          (None, 256)               0         \n",
            "_________________________________________________________________\n",
            "first_dense (Dense)          (None, 64)                16448     \n",
            "_________________________________________________________________\n",
            "second_dense (Dense)         (None, 12)                780       \n",
            "_________________________________________________________________\n",
            "reshape_5 (Reshape)          (None, 6, 2)              0         \n",
            "=================================================================\n",
            "Total params: 17,676\n",
            "Trainable params: 17,676\n",
            "Non-trainable params: 0\n",
            "_________________________________________________________________\n"
          ]
        }
      ]
    },
    {
      "cell_type": "code",
      "metadata": {
        "id": "l8AyvOXBzgiy"
      },
      "source": [
        ""
      ],
      "execution_count": null,
      "outputs": []
    }
  ]
}