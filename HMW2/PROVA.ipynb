{
  "nbformat": 4,
  "nbformat_minor": 0,
  "metadata": {
    "colab": {
      "name": "HW2_ex2.ipynb",
      "provenance": [],
      "toc_visible": true,
      "include_colab_link": true
    },
    "kernelspec": {
      "name": "python3",
      "display_name": "Python 3"
    },
    "accelerator": "GPU"
  },
  "cells": [
    {
      "cell_type": "markdown",
      "metadata": {
        "id": "view-in-github",
        "colab_type": "text"
      },
      "source": [
        "<a href=\"https://colab.research.google.com/github/RoboTuan/ML4IOT_HMW/blob/main/HMW2/PROVA.ipynb\" target=\"_parent\"><img src=\"https://colab.research.google.com/assets/colab-badge.svg\" alt=\"Open In Colab\"/></a>"
      ]
    },
    {
      "cell_type": "code",
      "metadata": {
        "id": "EtNsmv43APVI",
        "colab": {
          "base_uri": "https://localhost:8080/"
        },
        "outputId": "eee36a24-9b13-4c07-9e30-8b11604efea7"
      },
      "source": [
        " pip install -q tensorflow-model-optimization"
      ],
      "execution_count": 1,
      "outputs": [
        {
          "output_type": "stream",
          "text": [
            "\u001b[?25l\r\u001b[K     |██                              | 10kB 26.7MB/s eta 0:00:01\r\u001b[K     |███▉                            | 20kB 17.5MB/s eta 0:00:01\r\u001b[K     |█████▊                          | 30kB 12.6MB/s eta 0:00:01\r\u001b[K     |███████▋                        | 40kB 13.5MB/s eta 0:00:01\r\u001b[K     |█████████▌                      | 51kB 9.1MB/s eta 0:00:01\r\u001b[K     |███████████▍                    | 61kB 9.4MB/s eta 0:00:01\r\u001b[K     |█████████████▎                  | 71kB 10.6MB/s eta 0:00:01\r\u001b[K     |███████████████▏                | 81kB 10.9MB/s eta 0:00:01\r\u001b[K     |█████████████████               | 92kB 10.1MB/s eta 0:00:01\r\u001b[K     |███████████████████             | 102kB 9.3MB/s eta 0:00:01\r\u001b[K     |████████████████████▉           | 112kB 9.3MB/s eta 0:00:01\r\u001b[K     |██████████████████████▊         | 122kB 9.3MB/s eta 0:00:01\r\u001b[K     |████████████████████████▊       | 133kB 9.3MB/s eta 0:00:01\r\u001b[K     |██████████████████████████▋     | 143kB 9.3MB/s eta 0:00:01\r\u001b[K     |████████████████████████████▌   | 153kB 9.3MB/s eta 0:00:01\r\u001b[K     |██████████████████████████████▍ | 163kB 9.3MB/s eta 0:00:01\r\u001b[K     |████████████████████████████████| 174kB 9.3MB/s \n",
            "\u001b[?25h"
          ],
          "name": "stdout"
        }
      ]
    },
    {
      "cell_type": "code",
      "metadata": {
        "id": "jCB53wPLLWaR"
      },
      "source": [
        "import tensorflow as tf\n",
        "import numpy as np\n",
        "from tensorflow import keras\n",
        "import pandas as pd\n",
        "import matplotlib.pyplot as plt\n",
        "import os\n",
        "from zipfile import ZipFile\n",
        "import tensorflow_model_optimization as tfmot\n",
        "from tensorflow_model_optimization.python.core.api.sparsity import keras as sparsity\n",
        "\n",
        "import zlib"
      ],
      "execution_count": 48,
      "outputs": []
    },
    {
      "cell_type": "code",
      "metadata": {
        "colab": {
          "base_uri": "https://localhost:8080/"
        },
        "id": "ZNmNFu8Mjsxl",
        "outputId": "67c40231-ce21-45b3-850c-4c108d0ed82f"
      },
      "source": [
        "if not os.path.isdir('./HMW'):\n",
        "  !git clone \"https://github.com/RoboTuan/ML4IOT_HMW.git\"  \n",
        "  !mv 'ML4IOT_HMW' 'HMW'\n",
        "\n",
        "ROOT_DIR = 'HMW/HMW2/'\n",
        "tflite_models=ROOT_DIR + \"tflite_models/\""
      ],
      "execution_count": 3,
      "outputs": [
        {
          "output_type": "stream",
          "text": [
            "Cloning into 'ML4IOT_HMW'...\n",
            "remote: Enumerating objects: 157, done.\u001b[K\n",
            "remote: Counting objects: 100% (157/157), done.\u001b[K\n",
            "remote: Compressing objects: 100% (132/132), done.\u001b[K\n",
            "remote: Total 157 (delta 84), reused 62 (delta 19), pack-reused 0\u001b[K\n",
            "Receiving objects: 100% (157/157), 1.29 MiB | 24.46 MiB/s, done.\n",
            "Resolving deltas: 100% (84/84), done.\n"
          ],
          "name": "stdout"
        }
      ]
    },
    {
      "cell_type": "code",
      "metadata": {
        "id": "p-26mjjDSR1F"
      },
      "source": [
        "#parser = argparse.ArgumentParser()\n",
        "#parser.add_argument('--version', type=str, required=True, help='a,b or c')\n",
        "#parser.add_argument('--mfcc', action='store_true', help='use MFCCs')\n",
        "#args = parser.parse_args()\n",
        "\n",
        "model_type='c' #args.version\n",
        "mfcc=False"
      ],
      "execution_count": 4,
      "outputs": []
    },
    {
      "cell_type": "code",
      "metadata": {
        "id": "_Zq_UW3o1R7a"
      },
      "source": [
        ""
      ],
      "execution_count": 4,
      "outputs": []
    },
    {
      "cell_type": "code",
      "metadata": {
        "id": "1hTzDTlo1SCr"
      },
      "source": [
        ""
      ],
      "execution_count": 4,
      "outputs": []
    },
    {
      "cell_type": "code",
      "metadata": {
        "id": "X7K0B4RTTkNI"
      },
      "source": [
        "seed = 42\n",
        "tf.random.set_seed(seed)\n",
        "np.random.seed(seed)"
      ],
      "execution_count": 5,
      "outputs": []
    },
    {
      "cell_type": "code",
      "metadata": {
        "id": "EFbVU7mgTmr5",
        "colab": {
          "base_uri": "https://localhost:8080/"
        },
        "outputId": "39f9e4ab-caf1-4682-8166-7ae19ebbd53f"
      },
      "source": [
        "zip_path = tf.keras.utils.get_file(\n",
        "        origin=\"http://storage.googleapis.com/download.tensorflow.org/data/mini_speech_commands.zip\",\n",
        "        fname='mini_speech_commands.zip',\n",
        "        extract=True,\n",
        "        cache_dir='.', cache_subdir='data')\n",
        "data_dir = os.path.join('.', 'data', 'mini_speech_commands')\n",
        "filenames = tf.io.gfile.glob(str(data_dir) + '/*/*')\n",
        "filenames = tf.random.shuffle(filenames)\n",
        "num_samples = len(filenames)\n",
        "total = 8000"
      ],
      "execution_count": 6,
      "outputs": [
        {
          "output_type": "stream",
          "text": [
            "Downloading data from http://storage.googleapis.com/download.tensorflow.org/data/mini_speech_commands.zip\n",
            "182083584/182082353 [==============================] - 1s 0us/step\n"
          ],
          "name": "stdout"
        }
      ]
    },
    {
      "cell_type": "code",
      "metadata": {
        "id": "mmen3RxJWUE7"
      },
      "source": [
        "train =  tf.convert_to_tensor(pd.read_csv('https://raw.githubusercontent.com/RoboTuan/ML4IOT_HMW/main/HMW2/kws_train_split.txt', header=None))\n",
        "validation =  tf.convert_to_tensor(pd.read_csv('https://raw.githubusercontent.com/RoboTuan/ML4IOT_HMW/main/HMW2/kws_val_split.txt', header=None))\n",
        "test =  tf.convert_to_tensor(pd.read_csv('https://raw.githubusercontent.com/RoboTuan/ML4IOT_HMW/main/HMW2/kws_test_split.txt', header=None))\n",
        "\n",
        "train= tf.squeeze(train)\n",
        "validation= tf.squeeze(validation)\n",
        "test= tf.squeeze(test)\n"
      ],
      "execution_count": 7,
      "outputs": []
    },
    {
      "cell_type": "code",
      "metadata": {
        "id": "O46MZr_UV8sM"
      },
      "source": [
        "train_files = train\n",
        "val_files = validation\n",
        "test_files = test"
      ],
      "execution_count": 8,
      "outputs": []
    },
    {
      "cell_type": "code",
      "metadata": {
        "id": "j-MfBnKZcfEF"
      },
      "source": [
        "LABELS = np.array(tf.io.gfile.listdir(str(data_dir)))\n",
        "LABELS = LABELS[LABELS != 'README.md']"
      ],
      "execution_count": 9,
      "outputs": []
    },
    {
      "cell_type": "code",
      "metadata": {
        "id": "C1HWKgl4cgGs"
      },
      "source": [
        "class SignalGenerator:\n",
        "    def __init__(self, labels, sampling_rate, frame_length, frame_step,\n",
        "            num_mel_bins=None, lower_frequency=None, upper_frequency=None,\n",
        "            num_coefficients=None, mfcc=False):\n",
        "        self.labels = labels\n",
        "        self.sampling_rate = sampling_rate\n",
        "        self.frame_length = frame_length\n",
        "        self.frame_step = frame_step\n",
        "        self.num_mel_bins = num_mel_bins\n",
        "        self.lower_frequency = lower_frequency\n",
        "        self.upper_frequency = upper_frequency\n",
        "        self.num_coefficients = num_coefficients\n",
        "        num_spectrogram_bins = (frame_length) // 2 + 1\n",
        "\n",
        "        if mfcc is True:\n",
        "            self.linear_to_mel_weight_matrix = tf.signal.linear_to_mel_weight_matrix(\n",
        "                    self.num_mel_bins, num_spectrogram_bins, self.sampling_rate,\n",
        "                    self.lower_frequency, self.upper_frequency)\n",
        "            self.preprocess = self.preprocess_with_mfcc\n",
        "        else:\n",
        "            self.preprocess = self.preprocess_with_stft\n",
        "\n",
        "    def read(self, file_path):\n",
        "        parts = tf.strings.split(file_path, os.path.sep)\n",
        "        label = parts[-2]\n",
        "        label_id = tf.argmax(label == self.labels)\n",
        "        audio_binary = tf.io.read_file(file_path)\n",
        "        audio, _ = tf.audio.decode_wav(audio_binary)\n",
        "        audio = tf.squeeze(audio, axis=1)\n",
        "\n",
        "        return audio, label_id\n",
        "\n",
        "    def pad(self, audio):\n",
        "        zero_padding = tf.zeros([self.sampling_rate] - tf.shape(audio), dtype=tf.float32)\n",
        "        audio = tf.concat([audio, zero_padding], 0)\n",
        "        audio.set_shape([self.sampling_rate])\n",
        "\n",
        "        return audio\n",
        "    def get_spectrogram(self, audio):\n",
        "        stft = tf.signal.stft(audio, frame_length=self.frame_length,\n",
        "                frame_step=self.frame_step, fft_length=self.frame_length)\n",
        "        spectrogram = tf.abs(stft)\n",
        "\n",
        "        return spectrogram\n",
        "\n",
        "    def get_mfccs(self, spectrogram):\n",
        "        mel_spectrogram = tf.tensordot(spectrogram,\n",
        "                self.linear_to_mel_weight_matrix, 1)\n",
        "        log_mel_spectrogram = tf.math.log(mel_spectrogram + 1.e-6)\n",
        "        mfccs = tf.signal.mfccs_from_log_mel_spectrograms(log_mel_spectrogram)\n",
        "        mfccs = mfccs[..., :self.num_coefficients]\n",
        "\n",
        "        return mfccs\n",
        "\n",
        "    def preprocess_with_stft(self, file_path):\n",
        "        audio, label = self.read(file_path)\n",
        "        audio = self.pad(audio)\n",
        "        spectrogram = self.get_spectrogram(audio)\n",
        "        spectrogram = tf.expand_dims(spectrogram, -1)\n",
        "        spectrogram = tf.image.resize(spectrogram, [32, 32])\n",
        "\n",
        "        return spectrogram, label\n",
        "\n",
        "    def preprocess_with_mfcc(self, file_path):\n",
        "        audio, label = self.read(file_path)\n",
        "        audio = self.pad(audio)\n",
        "        spectrogram = self.get_spectrogram(audio)\n",
        "        mfccs = self.get_mfccs(spectrogram)\n",
        "        mfccs = tf.expand_dims(mfccs, -1)\n",
        "\n",
        "        return mfccs, label\n",
        "\n",
        "    def make_dataset(self, files, train):\n",
        "        ds = tf.data.Dataset.from_tensor_slices(files)\n",
        "        ds = ds.map(self.preprocess, num_parallel_calls=4)\n",
        "        ds = ds.batch(32)\n",
        "        ds = ds.cache()\n",
        "        if train is True:\n",
        "            ds = ds.shuffle(100, reshuffle_each_iteration=True)\n",
        "\n",
        "        return ds\n",
        "    \n",
        "\n"
      ],
      "execution_count": 10,
      "outputs": []
    },
    {
      "cell_type": "code",
      "metadata": {
        "id": "uF2ceXoTc6X_"
      },
      "source": [
        "STFT_OPTIONS = {'frame_length': 256, 'frame_step': 128, 'mfcc': False}\n",
        "MFCC_OPTIONS = {'frame_length': 640, 'frame_step': 320, 'mfcc': True,\n",
        "        'lower_frequency': 20, 'upper_frequency': 4000, 'num_mel_bins': 40,\n",
        "        'num_coefficients': 10}"
      ],
      "execution_count": 11,
      "outputs": []
    },
    {
      "cell_type": "code",
      "metadata": {
        "id": "6mpDzH9GdmBs"
      },
      "source": [
        "#if args.mfcc is True:\n",
        "if mfcc is True:\n",
        "    options = MFCC_OPTIONS\n",
        "    strides = [2, 1]\n",
        "else:\n",
        "    options = STFT_OPTIONS\n",
        "    strides = [2, 2]"
      ],
      "execution_count": 12,
      "outputs": []
    },
    {
      "cell_type": "code",
      "metadata": {
        "id": "Tg8Cg36tdrLd"
      },
      "source": [
        "generator = SignalGenerator(LABELS, 16000, **options)\n",
        "train_ds = generator.make_dataset(train_files, True)\n",
        "val_ds = generator.make_dataset(val_files, False)\n",
        "test_ds = generator.make_dataset(test_files, False)\n",
        "units=8"
      ],
      "execution_count": 13,
      "outputs": []
    },
    {
      "cell_type": "markdown",
      "metadata": {
        "id": "u6ue7OwCvSg-"
      },
      "source": [
        "#Model"
      ]
    },
    {
      "cell_type": "markdown",
      "metadata": {
        "id": "-j7vRZkLziid"
      },
      "source": [
        "##Model A"
      ]
    },
    {
      "cell_type": "code",
      "metadata": {
        "id": "2lcrcEETzlox"
      },
      "source": [
        "#MLP Model definition\n",
        "mlp_model = keras.Sequential([\n",
        "    keras.layers.Flatten(),\n",
        "    keras.layers.Dense(units=256, activation='relu'),\n",
        "    keras.layers.Dense(units=256, activation='relu'),\n",
        "    keras.layers.Dense(units=256, activation='relu'),\n",
        "    keras.layers.Dense(units=10) #if silence 10\n",
        "])"
      ],
      "execution_count": 14,
      "outputs": []
    },
    {
      "cell_type": "markdown",
      "metadata": {
        "id": "sjtKHmqJzmPH"
      },
      "source": [
        "##Model B"
      ]
    },
    {
      "cell_type": "code",
      "metadata": {
        "id": "PXmdPXRyznwO"
      },
      "source": [
        "#CNN_2D Model definition\n",
        "\n",
        "cnn_model = keras.Sequential([\n",
        "    keras.layers.Conv2D(filters=128,kernel_size=[3,3],strides=strides, use_bias=False),\n",
        "    keras.layers.BatchNormalization(momentum=0.1),\n",
        "    keras.layers.ReLU(),\n",
        "    keras.layers.Conv2D(filters=128,kernel_size=[3,3],strides=[1, 1], use_bias=False),\n",
        "    keras.layers.BatchNormalization(momentum=0.1),\n",
        "    keras.layers.ReLU(),\n",
        "    keras.layers.Conv2D(filters=128,kernel_size=[3,3],strides=[1,1], use_bias=False),\n",
        "    keras.layers.BatchNormalization(momentum=0.1),\n",
        "    keras.layers.ReLU(),\n",
        "    keras.layers.GlobalAveragePooling2D(),\n",
        "    keras.layers.Dense(units=10) #10 if silence\n",
        "])"
      ],
      "execution_count": 15,
      "outputs": []
    },
    {
      "cell_type": "markdown",
      "metadata": {
        "id": "FKkktzv2zoWx"
      },
      "source": [
        "##Model C"
      ]
    },
    {
      "cell_type": "code",
      "metadata": {
        "id": "vgNVG-jzzsUk"
      },
      "source": [
        "ds_cnn_model = keras.Sequential([\n",
        "    keras.layers.Conv2D(filters=256,kernel_size=[3,3],strides=strides, use_bias=False),\n",
        "    keras.layers.BatchNormalization(momentum=0.1),\n",
        "    keras.layers.ReLU(),\n",
        "    keras.layers.DepthwiseConv2D(kernel_size=[3,3],strides=[1, 1], use_bias=False),\n",
        "    keras.layers.Conv2D(filters=256,kernel_size=[1,1],strides=[1,1], use_bias=False),\n",
        "    keras.layers.BatchNormalization(momentum=0.1),\n",
        "    keras.layers.ReLU(),\n",
        "    keras.layers.DepthwiseConv2D(kernel_size=[3,3],strides=[1, 1], use_bias=False),\n",
        "    keras.layers.Conv2D(filters=256,kernel_size=[1,1],strides=[1,1], use_bias=False),\n",
        "    keras.layers.BatchNormalization(momentum=0.1),\n",
        "    keras.layers.ReLU(),\n",
        "    keras.layers.GlobalAveragePooling2D(),\n",
        "    keras.layers.Dense(units=10) #10 if silence\n",
        "])"
      ],
      "execution_count": 16,
      "outputs": []
    },
    {
      "cell_type": "markdown",
      "metadata": {
        "id": "Xcdo-vXFvZpg"
      },
      "source": [
        "##Model definition"
      ]
    },
    {
      "cell_type": "code",
      "metadata": {
        "id": "F58fd8zpvR6m"
      },
      "source": [
        "if model_type=='a':\n",
        "  model=mlp_model\n",
        "  if (mfcc==True):\n",
        "    path= './callback_val_chkp/mfcc_model_a'\n",
        "  else:\n",
        "    path= './callback_val_chkp/stft_model_a'\n",
        "\n",
        "if model_type=='b':\n",
        "  model=cnn_model\n",
        "  if (mfcc==True):\n",
        "    path= './callback_val_chkp/mfcc_model_b'\n",
        "  else:\n",
        "    path= './callback_val_chkp/stft_model_b'\n",
        "\n",
        "if model_type=='c':\n",
        "  model=ds_cnn_model\n",
        "  if (mfcc==True):\n",
        "    path= './callback_val_chkp/mfcc_model_c'\n",
        "  else:\n",
        "    path= './callback_val_chkp/stft_model_c'"
      ],
      "execution_count": 26,
      "outputs": []
    },
    {
      "cell_type": "code",
      "metadata": {
        "id": "DkhUmj-V46H2"
      },
      "source": [
        "\n",
        "cp_callback = keras.callbacks.ModelCheckpoint(\n",
        "    filepath=path,\n",
        "    # './callback_test_chkp/chkp_best',\n",
        "    monitor='val_accuracy',\n",
        "    verbose=0, \n",
        "    save_best_only=True,\n",
        "    # save_best_only=True,\n",
        "    save_weights_only=False,\n",
        "    mode='auto',\n",
        "    save_freq='epoch'\n",
        ")"
      ],
      "execution_count": 27,
      "outputs": []
    },
    {
      "cell_type": "markdown",
      "metadata": {
        "id": "iJQc4JTpvcfi"
      },
      "source": [
        "##Training"
      ]
    },
    {
      "cell_type": "code",
      "metadata": {
        "id": "zlMEIldjP98Q"
      },
      "source": [
        "model.compile(loss=tf.keras.losses.SparseCategoricalCrossentropy(from_logits=True),\n",
        "              optimizer='adam',\n",
        "              metrics=['accuracy'])\n"
      ],
      "execution_count": 28,
      "outputs": []
    },
    {
      "cell_type": "code",
      "metadata": {
        "colab": {
          "base_uri": "https://localhost:8080/"
        },
        "id": "k04DA60aP9y9",
        "outputId": "6278bd57-0242-4bb6-f02d-cfe4a5a592e9"
      },
      "source": [
        "print(\"Fit model on training data\")\n",
        "history = model.fit(train_ds, epochs=20,\n",
        "                    validation_data=val_ds,\n",
        "                    callbacks=[cp_callback])\n",
        "\n",
        "model.summary()\n",
        "\n",
        "print(\"Evaluate on validation data, Non penso serva vero!?!?!?\")\n",
        "val_accuracy= model.evaluate(val_ds)\n",
        "print(\"Evaluate on test data, qquesto serve\")\n",
        "test_accuracy= model.evaluate(test_ds)"
      ],
      "execution_count": 29,
      "outputs": [
        {
          "output_type": "stream",
          "text": [
            "Fit model on training data\n",
            "Epoch 1/20\n",
            "196/200 [============================>.] - ETA: 0s - loss: 0.0905 - accuracy: 0.9742INFO:tensorflow:Assets written to: ./callback_val_chkp/stft_model_c/assets\n",
            "200/200 [==============================] - 3s 15ms/step - loss: 0.0906 - accuracy: 0.9744 - val_loss: 0.4186 - val_accuracy: 0.9025\n",
            "Epoch 2/20\n",
            "200/200 [==============================] - 1s 7ms/step - loss: 0.1052 - accuracy: 0.9705 - val_loss: 0.6428 - val_accuracy: 0.8587\n",
            "Epoch 3/20\n",
            "200/200 [==============================] - 1s 6ms/step - loss: 0.0946 - accuracy: 0.9706 - val_loss: 0.4141 - val_accuracy: 0.8875\n",
            "Epoch 4/20\n",
            "196/200 [============================>.] - ETA: 0s - loss: 0.0627 - accuracy: 0.9839INFO:tensorflow:Assets written to: ./callback_val_chkp/stft_model_c/assets\n",
            "200/200 [==============================] - 3s 13ms/step - loss: 0.0625 - accuracy: 0.9839 - val_loss: 0.2987 - val_accuracy: 0.9100\n",
            "Epoch 5/20\n",
            "200/200 [==============================] - 1s 6ms/step - loss: 0.0557 - accuracy: 0.9845 - val_loss: 0.4188 - val_accuracy: 0.8988\n",
            "Epoch 6/20\n",
            "200/200 [==============================] - 1s 6ms/step - loss: 0.0849 - accuracy: 0.9756 - val_loss: 0.6222 - val_accuracy: 0.8700\n",
            "Epoch 7/20\n",
            "200/200 [==============================] - 1s 7ms/step - loss: 0.1930 - accuracy: 0.9441 - val_loss: 0.4487 - val_accuracy: 0.8925\n",
            "Epoch 8/20\n",
            "200/200 [==============================] - 1s 7ms/step - loss: 0.0939 - accuracy: 0.9745 - val_loss: 0.3929 - val_accuracy: 0.9075\n",
            "Epoch 9/20\n",
            "200/200 [==============================] - 1s 7ms/step - loss: 0.0580 - accuracy: 0.9858 - val_loss: 0.3307 - val_accuracy: 0.9100\n",
            "Epoch 10/20\n",
            "195/200 [============================>.] - ETA: 0s - loss: 0.0515 - accuracy: 0.9859INFO:tensorflow:Assets written to: ./callback_val_chkp/stft_model_c/assets\n",
            "200/200 [==============================] - 3s 14ms/step - loss: 0.0512 - accuracy: 0.9859 - val_loss: 0.3171 - val_accuracy: 0.9225\n",
            "Epoch 11/20\n",
            "200/200 [==============================] - 1s 6ms/step - loss: 0.0470 - accuracy: 0.9873 - val_loss: 0.3172 - val_accuracy: 0.9175\n",
            "Epoch 12/20\n",
            "200/200 [==============================] - 1s 7ms/step - loss: 0.0451 - accuracy: 0.9877 - val_loss: 0.3307 - val_accuracy: 0.9150\n",
            "Epoch 13/20\n",
            "200/200 [==============================] - 1s 7ms/step - loss: 0.0459 - accuracy: 0.9875 - val_loss: 0.4034 - val_accuracy: 0.8988\n",
            "Epoch 14/20\n",
            "200/200 [==============================] - 1s 7ms/step - loss: 0.0433 - accuracy: 0.9873 - val_loss: 0.3911 - val_accuracy: 0.9162\n",
            "Epoch 15/20\n",
            "200/200 [==============================] - 1s 7ms/step - loss: 0.1348 - accuracy: 0.9594 - val_loss: 0.6402 - val_accuracy: 0.8438\n",
            "Epoch 16/20\n",
            "200/200 [==============================] - 1s 7ms/step - loss: 0.1514 - accuracy: 0.9530 - val_loss: 0.4704 - val_accuracy: 0.9025\n",
            "Epoch 17/20\n",
            "200/200 [==============================] - 1s 7ms/step - loss: 0.0924 - accuracy: 0.9744 - val_loss: 0.3642 - val_accuracy: 0.9013\n",
            "Epoch 18/20\n",
            "200/200 [==============================] - 1s 7ms/step - loss: 0.0583 - accuracy: 0.9844 - val_loss: 0.3360 - val_accuracy: 0.9125\n",
            "Epoch 19/20\n",
            "200/200 [==============================] - 1s 7ms/step - loss: 0.0468 - accuracy: 0.9889 - val_loss: 0.3341 - val_accuracy: 0.9175\n",
            "Epoch 20/20\n",
            "200/200 [==============================] - 1s 7ms/step - loss: 0.0417 - accuracy: 0.9881 - val_loss: 0.4194 - val_accuracy: 0.9100\n",
            "Model: \"sequential_2\"\n",
            "_________________________________________________________________\n",
            "Layer (type)                 Output Shape              Param #   \n",
            "=================================================================\n",
            "conv2d_3 (Conv2D)            (None, 15, 15, 256)       2304      \n",
            "_________________________________________________________________\n",
            "batch_normalization_3 (Batch (None, 15, 15, 256)       1024      \n",
            "_________________________________________________________________\n",
            "re_lu_3 (ReLU)               (None, 15, 15, 256)       0         \n",
            "_________________________________________________________________\n",
            "depthwise_conv2d (DepthwiseC (None, 13, 13, 256)       2304      \n",
            "_________________________________________________________________\n",
            "conv2d_4 (Conv2D)            (None, 13, 13, 256)       65536     \n",
            "_________________________________________________________________\n",
            "batch_normalization_4 (Batch (None, 13, 13, 256)       1024      \n",
            "_________________________________________________________________\n",
            "re_lu_4 (ReLU)               (None, 13, 13, 256)       0         \n",
            "_________________________________________________________________\n",
            "depthwise_conv2d_1 (Depthwis (None, 11, 11, 256)       2304      \n",
            "_________________________________________________________________\n",
            "conv2d_5 (Conv2D)            (None, 11, 11, 256)       65536     \n",
            "_________________________________________________________________\n",
            "batch_normalization_5 (Batch (None, 11, 11, 256)       1024      \n",
            "_________________________________________________________________\n",
            "re_lu_5 (ReLU)               (None, 11, 11, 256)       0         \n",
            "_________________________________________________________________\n",
            "global_average_pooling2d_1 ( (None, 256)               0         \n",
            "_________________________________________________________________\n",
            "dense_5 (Dense)              (None, 10)                2570      \n",
            "=================================================================\n",
            "Total params: 143,626\n",
            "Trainable params: 142,090\n",
            "Non-trainable params: 1,536\n",
            "_________________________________________________________________\n",
            "Evaluate on validation data, Non penso serva vero!?!?!?\n",
            "25/25 [==============================] - 0s 2ms/step - loss: 0.4194 - accuracy: 0.9100\n",
            "Evaluate on test data, qquesto serve\n",
            "25/25 [==============================] - 2s 64ms/step - loss: 0.5327 - accuracy: 0.8863\n"
          ],
          "name": "stdout"
        }
      ]
    },
    {
      "cell_type": "markdown",
      "metadata": {
        "id": "aCHMXjN99T6J"
      },
      "source": [
        "##Pruning"
      ]
    },
    {
      "cell_type": "code",
      "metadata": {
        "id": "0VQvZAKg-FAp"
      },
      "source": [
        "callbacks = [\r\n",
        "  tfmot.sparsity.keras.UpdatePruningStep(),\r\n",
        "  cp_callback\r\n",
        "]\r\n"
      ],
      "execution_count": 31,
      "outputs": []
    },
    {
      "cell_type": "code",
      "metadata": {
        "id": "lM_KCDoM9TM-"
      },
      "source": [
        "prune_low_magnitude=tfmot.sparsity.keras.prune_low_magnitude\r\n",
        "\r\n",
        "pruning_params = {\r\n",
        "      'pruning_schedule':\r\n",
        "      tfmot.sparsity.keras.PolynomialDecay(\r\n",
        "          initial_sparsity=0.50,\r\n",
        "          final_sparsity=0.80,\r\n",
        "          begin_step=len(train_ds)*5,\r\n",
        "          end_step=len(train_ds)*15)\r\n",
        "}\r\n",
        "\r\n",
        "\r\n",
        "\r\n",
        "model_for_pruning = prune_low_magnitude(model, **pruning_params)\r\n"
      ],
      "execution_count": 43,
      "outputs": []
    },
    {
      "cell_type": "code",
      "metadata": {
        "colab": {
          "base_uri": "https://localhost:8080/"
        },
        "id": "HITYllmYvoXx",
        "outputId": "8cfa6082-6d7b-4017-a7bd-179e83afe9f4"
      },
      "source": [
        "model_for_pruning.compile(loss=tf.keras.losses.SparseCategoricalCrossentropy(from_logits=True),\n",
        "                          optimizer='adam',\n",
        "                          metrics=['accuracy'])\n",
        "\n",
        "history = model_for_pruning.fit(train_ds,\n",
        "                                epochs=2,\n",
        "                                validation_data=val_ds,\n",
        "                                callbacks=callbacks)\n",
        "\n",
        "model_for_pruning.summary()\n",
        "\n",
        "model_for_export = tfmot.sparsity.keras.strip_pruning(model_for_pruning)\n",
        "\n",
        "\n",
        "print(\"Evaluate on validation data, Non penso serva vero!?!?!?\")\n",
        "val_accuracy= model_for_pruning.evaluate(val_ds)\n",
        "print(\"Evaluate on test data, qquesto serve\")\n",
        "test_accuracy= model_for_pruning.evaluate(test_ds)"
      ],
      "execution_count": 44,
      "outputs": [
        {
          "output_type": "stream",
          "text": [
            "Epoch 1/2\n",
            "200/200 [==============================] - 3s 15ms/step - loss: 0.0632 - accuracy: 0.9819 - val_loss: 0.4967 - val_accuracy: 0.9050\n",
            "Epoch 2/2\n",
            "200/200 [==============================] - 3s 14ms/step - loss: 0.0577 - accuracy: 0.9828 - val_loss: 0.4154 - val_accuracy: 0.9050\n",
            "Model: \"sequential_2\"\n",
            "_________________________________________________________________\n",
            "Layer (type)                 Output Shape              Param #   \n",
            "=================================================================\n",
            "prune_low_magnitude_conv2d_3 (None, 15, 15, 256)       4610      \n",
            "_________________________________________________________________\n",
            "prune_low_magnitude_batch_no (None, 15, 15, 256)       1025      \n",
            "_________________________________________________________________\n",
            "prune_low_magnitude_re_lu_3  (None, 15, 15, 256)       1         \n",
            "_________________________________________________________________\n",
            "prune_low_magnitude_depthwis (None, 13, 13, 256)       2305      \n",
            "_________________________________________________________________\n",
            "prune_low_magnitude_conv2d_4 (None, 13, 13, 256)       131074    \n",
            "_________________________________________________________________\n",
            "prune_low_magnitude_batch_no (None, 13, 13, 256)       1025      \n",
            "_________________________________________________________________\n",
            "prune_low_magnitude_re_lu_4  (None, 13, 13, 256)       1         \n",
            "_________________________________________________________________\n",
            "prune_low_magnitude_depthwis (None, 11, 11, 256)       2305      \n",
            "_________________________________________________________________\n",
            "prune_low_magnitude_conv2d_5 (None, 11, 11, 256)       131074    \n",
            "_________________________________________________________________\n",
            "prune_low_magnitude_batch_no (None, 11, 11, 256)       1025      \n",
            "_________________________________________________________________\n",
            "prune_low_magnitude_re_lu_5  (None, 11, 11, 256)       1         \n",
            "_________________________________________________________________\n",
            "prune_low_magnitude_global_a (None, 256)               1         \n",
            "_________________________________________________________________\n",
            "prune_low_magnitude_dense_5  (None, 10)                5132      \n",
            "=================================================================\n",
            "Total params: 279,579\n",
            "Trainable params: 142,090\n",
            "Non-trainable params: 137,489\n",
            "_________________________________________________________________\n",
            "Evaluate on validation data, Non penso serva vero!?!?!?\n",
            "25/25 [==============================] - 0s 2ms/step - loss: 0.4154 - accuracy: 0.9050\n",
            "Evaluate on test data, qquesto serve\n",
            "25/25 [==============================] - 0s 2ms/step - loss: 0.4213 - accuracy: 0.8950\n"
          ],
          "name": "stdout"
        }
      ]
    },
    {
      "cell_type": "markdown",
      "metadata": {
        "id": "v21zw4Wsv80_"
      },
      "source": [
        "##Validation"
      ]
    },
    {
      "cell_type": "code",
      "metadata": {
        "id": "uO2bgmjMv2lP"
      },
      "source": [
        "#model evaluation on validation set\n",
        "val_accuracy= model_for_pruning.evaluate(val_ds)"
      ],
      "execution_count": null,
      "outputs": []
    },
    {
      "cell_type": "markdown",
      "metadata": {
        "id": "qD20dg20wWZ9"
      },
      "source": [
        "##Testing"
      ]
    },
    {
      "cell_type": "code",
      "metadata": {
        "id": "sxS4hbZdwal-"
      },
      "source": [
        "test_accuracy= model_for_pruning.evaluate(test_ds)"
      ],
      "execution_count": null,
      "outputs": []
    },
    {
      "cell_type": "markdown",
      "metadata": {
        "id": "iIckUXuaw95G"
      },
      "source": [
        "##*tflite* conversion, size and latency measurement"
      ]
    },
    {
      "cell_type": "markdown",
      "metadata": {
        "id": "DBoOxTEXxHMd"
      },
      "source": [
        "##tflite conversion"
      ]
    },
    {
      "cell_type": "code",
      "metadata": {
        "id": "uB8OtLPgxM1L",
        "colab": {
          "base_uri": "https://localhost:8080/"
        },
        "outputId": "5d7dac39-896d-4444-b645-706229edbf06"
      },
      "source": [
        "ROOT_DIR=\"./callback_val_chkp/\"\n",
        "tflite_models= ROOT_DIR + \"tfliteModels/\"\n",
        "!mkdir ./callback_val_chkp/tfliteModels\n",
        "\n",
        "if model_type=='a':\n",
        "  if (mfcc==True):\n",
        "    saved_model_dir= ROOT_DIR +\"mfcc_model_a\"\n",
        "    tflite_model_dir= tflite_models + \"model_a\"\n",
        "  else:\n",
        "    saved_model_dir= ROOT_DIR +\"stft_model_a\"\n",
        "    tflite_model_dir= tflite_models + \"model_a\"\n",
        "  \n",
        "\n",
        "if model_type=='b':\n",
        "  if (mfcc==True):\n",
        "    saved_model_dir= ROOT_DIR +\"mfcc_model_b\"\n",
        "    tflite_model_dir= tflite_models + \"model_b\"\n",
        "  else:\n",
        "    saved_model_dir= ROOT_DIR +\"stft_model_b\"\n",
        "    tflite_model_dir= tflite_models + \"model_b\"\n",
        "\n",
        "if model_type=='c':\n",
        "  if (mfcc==True):\n",
        "    saved_model_dir= ROOT_DIR +\"mfcc_model_c\"\n",
        "    tflite_model_dir= tflite_models + \"model_c\"\n",
        "  else:\n",
        "    saved_model_dir= ROOT_DIR +\"stft_model_c\"\n",
        "    tflite_model_dir= tflite_models + \"model_c\"\n",
        "    model_for_export.save(\"./pruned_model_for_export\")\n",
        "\n",
        "\n",
        "converter=tf.lite.TFLiteConverter.from_saved_model(\"./pruned_model_for_export\")\n",
        "converter.optimizations = [tf.lite.Optimize.DEFAULT]\n",
        "tflite_model=converter.convert()\n",
        "\n",
        "with open(\"./normalTflite\", 'wb') as fp:\n",
        "    fp.write(tflite_model)\n",
        "\n",
        "with open(\"./compressedTflite\", \"wb\") as fp:\n",
        "  tflite_compressed = zlib.compress(tflite_model)\n",
        "  fp.write(tflite_compressed)"
      ],
      "execution_count": 65,
      "outputs": [
        {
          "output_type": "stream",
          "text": [
            "mkdir: cannot create directory ‘./callback_val_chkp/tfliteModels’: File exists\n",
            "INFO:tensorflow:Assets written to: ./pruned_model_for_export/assets\n"
          ],
          "name": "stdout"
        },
        {
          "output_type": "stream",
          "text": [
            "INFO:tensorflow:Assets written to: ./pruned_model_for_export/assets\n"
          ],
          "name": "stderr"
        }
      ]
    },
    {
      "cell_type": "markdown",
      "metadata": {
        "id": "3CH-bOBg2Xy7"
      },
      "source": [
        "##Size measurement"
      ]
    },
    {
      "cell_type": "code",
      "metadata": {
        "id": "XiHV3SYH2Sl2",
        "colab": {
          "base_uri": "https://localhost:8080/"
        },
        "outputId": "f77812b0-29b1-4783-b190-de87807b9bf1"
      },
      "source": [
        "print(os.path.getsize(\"./normalTflite\"))\n",
        "print(os.path.getsize(\"./compressedTflite\"))"
      ],
      "execution_count": 68,
      "outputs": [
        {
          "output_type": "stream",
          "text": [
            "150336\n",
            "121471\n"
          ],
          "name": "stdout"
        }
      ]
    },
    {
      "cell_type": "markdown",
      "metadata": {
        "id": "aWuqE4rknUA6"
      },
      "source": [
        "##Latency measurement"
      ]
    },
    {
      "cell_type": "code",
      "metadata": {
        "id": "3tVik05Kn2nB"
      },
      "source": [
        " !python ./HMW/HMW2/kws_inference.py --model ./callback_val_chkp/tfliteModels/model_a "
      ],
      "execution_count": null,
      "outputs": []
    }
  ]
}