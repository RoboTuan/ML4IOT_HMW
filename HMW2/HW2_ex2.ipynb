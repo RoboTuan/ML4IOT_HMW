{
  "nbformat": 4,
  "nbformat_minor": 0,
  "metadata": {
    "colab": {
      "name": "HW2_ex2.ipynb",
      "provenance": [],
      "authorship_tag": "ABX9TyNnP4KM/FxSUJEgAX9eIGfR",
      "include_colab_link": true
    },
    "kernelspec": {
      "name": "python3",
      "display_name": "Python 3"
    }
  },
  "cells": [
    {
      "cell_type": "markdown",
      "metadata": {
        "id": "view-in-github",
        "colab_type": "text"
      },
      "source": [
        "<a href=\"https://colab.research.google.com/github/RoboTuan/ML4IOT_HMW/blob/main/HMW2/HW2_ex2.ipynb\" target=\"_parent\"><img src=\"https://colab.research.google.com/assets/colab-badge.svg\" alt=\"Open In Colab\"/></a>"
      ]
    },
    {
      "cell_type": "code",
      "metadata": {
        "id": "EtNsmv43APVI",
        "outputId": "0624ada6-8028-42db-8b50-194f63c76804",
        "colab": {
          "base_uri": "https://localhost:8080/"
        }
      },
      "source": [
        " pip install -q tensorflow-model-optimization"
      ],
      "execution_count": 1,
      "outputs": [
        {
          "output_type": "stream",
          "text": [
            "\u001b[?25l\r\u001b[K     |██                              | 10kB 20.0MB/s eta 0:00:01\r\u001b[K     |███▉                            | 20kB 14.2MB/s eta 0:00:01\r\u001b[K     |█████▊                          | 30kB 8.7MB/s eta 0:00:01\r\u001b[K     |███████▋                        | 40kB 7.6MB/s eta 0:00:01\r\u001b[K     |█████████▌                      | 51kB 4.3MB/s eta 0:00:01\r\u001b[K     |███████████▍                    | 61kB 4.8MB/s eta 0:00:01\r\u001b[K     |█████████████▎                  | 71kB 4.9MB/s eta 0:00:01\r\u001b[K     |███████████████▏                | 81kB 5.1MB/s eta 0:00:01\r\u001b[K     |█████████████████               | 92kB 5.6MB/s eta 0:00:01\r\u001b[K     |███████████████████             | 102kB 5.6MB/s eta 0:00:01\r\u001b[K     |████████████████████▉           | 112kB 5.6MB/s eta 0:00:01\r\u001b[K     |██████████████████████▊         | 122kB 5.6MB/s eta 0:00:01\r\u001b[K     |████████████████████████▊       | 133kB 5.6MB/s eta 0:00:01\r\u001b[K     |██████████████████████████▋     | 143kB 5.6MB/s eta 0:00:01\r\u001b[K     |████████████████████████████▌   | 153kB 5.6MB/s eta 0:00:01\r\u001b[K     |██████████████████████████████▍ | 163kB 5.6MB/s eta 0:00:01\r\u001b[K     |████████████████████████████████| 174kB 5.6MB/s \n",
            "\u001b[?25h"
          ],
          "name": "stdout"
        }
      ]
    },
    {
      "cell_type": "code",
      "metadata": {
        "id": "jCB53wPLLWaR"
      },
      "source": [
        "import tensorflow as tf\n",
        "import numpy as np\n",
        "from tensorflow import keras\n",
        "import pandas as pd\n",
        "import matplotlib.pyplot as plt\n",
        "import os\n",
        "from zipfile import ZipFile\n",
        "import tensorflow_model_optimization as tfmot\n",
        "from tensorflow_model_optimization.python.core.api.sparsity import keras as sparsity\n",
        "\n"
      ],
      "execution_count": 2,
      "outputs": []
    },
    {
      "cell_type": "code",
      "metadata": {
        "colab": {
          "base_uri": "https://localhost:8080/"
        },
        "id": "ZNmNFu8Mjsxl",
        "outputId": "1616a2cd-165b-4843-9552-bf1bfc422831"
      },
      "source": [
        "if not os.path.isdir('./HMW'):\n",
        "  !git clone \"https://github.com/RoboTuan/ML4IOT_HMW.git\"  \n",
        "  !mv 'ML4IOT_HMW' 'HMW'\n",
        "\n",
        "ROOT_DIR = 'HMW/HMW2/'\n",
        "tflite_models=ROOT_DIR + \"tflite_models/\""
      ],
      "execution_count": 3,
      "outputs": [
        {
          "output_type": "stream",
          "text": [
            "Cloning into 'ML4IOT_HMW'...\n",
            "remote: Enumerating objects: 153, done.\u001b[K\n",
            "remote: Counting objects: 100% (153/153), done.\u001b[K\n",
            "remote: Compressing objects: 100% (127/127), done.\u001b[K\n",
            "remote: Total 153 (delta 80), reused 64 (delta 20), pack-reused 0\u001b[K\n",
            "Receiving objects: 100% (153/153), 1.29 MiB | 1.47 MiB/s, done.\n",
            "Resolving deltas: 100% (80/80), done.\n"
          ],
          "name": "stdout"
        }
      ]
    },
    {
      "cell_type": "code",
      "metadata": {
        "id": "p-26mjjDSR1F"
      },
      "source": [
        "#parser = argparse.ArgumentParser()\n",
        "#parser.add_argument('--version', type=str, required=True, help='a,b or c')\n",
        "#parser.add_argument('--mfcc', action='store_true', help='use MFCCs')\n",
        "#args = parser.parse_args()\n",
        "\n",
        "model_type='c' #args.version\n",
        "mfcc=False"
      ],
      "execution_count": 4,
      "outputs": []
    },
    {
      "cell_type": "code",
      "metadata": {
        "id": "_Zq_UW3o1R7a"
      },
      "source": [
        ""
      ],
      "execution_count": 4,
      "outputs": []
    },
    {
      "cell_type": "code",
      "metadata": {
        "id": "1hTzDTlo1SCr"
      },
      "source": [
        ""
      ],
      "execution_count": 4,
      "outputs": []
    },
    {
      "cell_type": "code",
      "metadata": {
        "id": "X7K0B4RTTkNI"
      },
      "source": [
        "seed = 42\n",
        "tf.random.set_seed(seed)\n",
        "np.random.seed(seed)"
      ],
      "execution_count": 5,
      "outputs": []
    },
    {
      "cell_type": "code",
      "metadata": {
        "id": "EFbVU7mgTmr5",
        "colab": {
          "base_uri": "https://localhost:8080/"
        },
        "outputId": "7052b618-c360-4567-c4e0-365b9c33d8f6"
      },
      "source": [
        "zip_path = tf.keras.utils.get_file(\n",
        "        origin=\"http://storage.googleapis.com/download.tensorflow.org/data/mini_speech_commands.zip\",\n",
        "        fname='mini_speech_commands.zip',\n",
        "        extract=True,\n",
        "        cache_dir='.', cache_subdir='data')\n",
        "data_dir = os.path.join('.', 'data', 'mini_speech_commands')\n",
        "filenames = tf.io.gfile.glob(str(data_dir) + '/*/*')\n",
        "filenames = tf.random.shuffle(filenames)\n",
        "num_samples = len(filenames)\n",
        "total = 8000"
      ],
      "execution_count": 6,
      "outputs": [
        {
          "output_type": "stream",
          "text": [
            "Downloading data from http://storage.googleapis.com/download.tensorflow.org/data/mini_speech_commands.zip\n",
            "182083584/182082353 [==============================] - 5s 0us/step\n"
          ],
          "name": "stdout"
        }
      ]
    },
    {
      "cell_type": "code",
      "metadata": {
        "id": "mmen3RxJWUE7"
      },
      "source": [
        "train =  tf.convert_to_tensor(pd.read_csv('https://raw.githubusercontent.com/RoboTuan/ML4IOT_HMW/main/HMW2/kws_train_split.txt', header=None))\n",
        "validation =  tf.convert_to_tensor(pd.read_csv('https://raw.githubusercontent.com/RoboTuan/ML4IOT_HMW/main/HMW2/kws_val_split.txt', header=None))\n",
        "test =  tf.convert_to_tensor(pd.read_csv('https://raw.githubusercontent.com/RoboTuan/ML4IOT_HMW/main/HMW2/kws_test_split.txt', header=None))\n",
        "\n",
        "train= tf.squeeze(train)\n",
        "validation= tf.squeeze(validation)\n",
        "test= tf.squeeze(test)\n"
      ],
      "execution_count": 7,
      "outputs": []
    },
    {
      "cell_type": "code",
      "metadata": {
        "id": "O46MZr_UV8sM"
      },
      "source": [
        "train_files = train\n",
        "val_files = validation\n",
        "test_files = test"
      ],
      "execution_count": 8,
      "outputs": []
    },
    {
      "cell_type": "code",
      "metadata": {
        "id": "j-MfBnKZcfEF"
      },
      "source": [
        "LABELS = np.array(tf.io.gfile.listdir(str(data_dir)))\n",
        "LABELS = LABELS[LABELS != 'README.md']"
      ],
      "execution_count": 9,
      "outputs": []
    },
    {
      "cell_type": "code",
      "metadata": {
        "id": "C1HWKgl4cgGs"
      },
      "source": [
        "class SignalGenerator:\n",
        "    def __init__(self, labels, sampling_rate, frame_length, frame_step,\n",
        "            num_mel_bins=None, lower_frequency=None, upper_frequency=None,\n",
        "            num_coefficients=None, mfcc=False):\n",
        "        self.labels = labels\n",
        "        self.sampling_rate = sampling_rate\n",
        "        self.frame_length = frame_length\n",
        "        self.frame_step = frame_step\n",
        "        self.num_mel_bins = num_mel_bins\n",
        "        self.lower_frequency = lower_frequency\n",
        "        self.upper_frequency = upper_frequency\n",
        "        self.num_coefficients = num_coefficients\n",
        "        num_spectrogram_bins = (frame_length) // 2 + 1\n",
        "\n",
        "        if mfcc is True:\n",
        "            self.linear_to_mel_weight_matrix = tf.signal.linear_to_mel_weight_matrix(\n",
        "                    self.num_mel_bins, num_spectrogram_bins, self.sampling_rate,\n",
        "                    self.lower_frequency, self.upper_frequency)\n",
        "            self.preprocess = self.preprocess_with_mfcc\n",
        "        else:\n",
        "            self.preprocess = self.preprocess_with_stft\n",
        "\n",
        "    def read(self, file_path):\n",
        "        parts = tf.strings.split(file_path, os.path.sep)\n",
        "        label = parts[-2]\n",
        "        label_id = tf.argmax(label == self.labels)\n",
        "        audio_binary = tf.io.read_file(file_path)\n",
        "        audio, _ = tf.audio.decode_wav(audio_binary)\n",
        "        audio = tf.squeeze(audio, axis=1)\n",
        "\n",
        "        return audio, label_id\n",
        "\n",
        "    def pad(self, audio):\n",
        "        zero_padding = tf.zeros([self.sampling_rate] - tf.shape(audio), dtype=tf.float32)\n",
        "        audio = tf.concat([audio, zero_padding], 0)\n",
        "        audio.set_shape([self.sampling_rate])\n",
        "\n",
        "        return audio\n",
        "    def get_spectrogram(self, audio):\n",
        "        stft = tf.signal.stft(audio, frame_length=self.frame_length,\n",
        "                frame_step=self.frame_step, fft_length=self.frame_length)\n",
        "        spectrogram = tf.abs(stft)\n",
        "\n",
        "        return spectrogram\n",
        "\n",
        "    def get_mfccs(self, spectrogram):\n",
        "        mel_spectrogram = tf.tensordot(spectrogram,\n",
        "                self.linear_to_mel_weight_matrix, 1)\n",
        "        log_mel_spectrogram = tf.math.log(mel_spectrogram + 1.e-6)\n",
        "        mfccs = tf.signal.mfccs_from_log_mel_spectrograms(log_mel_spectrogram)\n",
        "        mfccs = mfccs[..., :self.num_coefficients]\n",
        "\n",
        "        return mfccs\n",
        "\n",
        "    def preprocess_with_stft(self, file_path):\n",
        "        audio, label = self.read(file_path)\n",
        "        audio = self.pad(audio)\n",
        "        spectrogram = self.get_spectrogram(audio)\n",
        "        spectrogram = tf.expand_dims(spectrogram, -1)\n",
        "        spectrogram = tf.image.resize(spectrogram, [32, 32])\n",
        "\n",
        "        return spectrogram, label\n",
        "\n",
        "    def preprocess_with_mfcc(self, file_path):\n",
        "        audio, label = self.read(file_path)\n",
        "        audio = self.pad(audio)\n",
        "        spectrogram = self.get_spectrogram(audio)\n",
        "        mfccs = self.get_mfccs(spectrogram)\n",
        "        mfccs = tf.expand_dims(mfccs, -1)\n",
        "\n",
        "        return mfccs, label\n",
        "\n",
        "    def make_dataset(self, files, train):\n",
        "        ds = tf.data.Dataset.from_tensor_slices(files)\n",
        "        ds = ds.map(self.preprocess, num_parallel_calls=4)\n",
        "        ds = ds.batch(32)\n",
        "        ds = ds.cache()\n",
        "        if train is True:\n",
        "            ds = ds.shuffle(100, reshuffle_each_iteration=True)\n",
        "\n",
        "        return ds\n",
        "    \n",
        "\n"
      ],
      "execution_count": 10,
      "outputs": []
    },
    {
      "cell_type": "code",
      "metadata": {
        "id": "uF2ceXoTc6X_"
      },
      "source": [
        "STFT_OPTIONS = {'frame_length': 256, 'frame_step': 128, 'mfcc': False}\n",
        "MFCC_OPTIONS = {'frame_length': 640, 'frame_step': 320, 'mfcc': True,\n",
        "        'lower_frequency': 20, 'upper_frequency': 4000, 'num_mel_bins': 40,\n",
        "        'num_coefficients': 10}"
      ],
      "execution_count": 11,
      "outputs": []
    },
    {
      "cell_type": "code",
      "metadata": {
        "id": "6mpDzH9GdmBs"
      },
      "source": [
        "#if args.mfcc is True:\n",
        "if mfcc is True:\n",
        "    options = MFCC_OPTIONS\n",
        "    strides = [2, 1]\n",
        "else:\n",
        "    options = STFT_OPTIONS\n",
        "    strides = [2, 2]"
      ],
      "execution_count": 12,
      "outputs": []
    },
    {
      "cell_type": "code",
      "metadata": {
        "id": "Tg8Cg36tdrLd"
      },
      "source": [
        "generator = SignalGenerator(LABELS, 16000, **options)\n",
        "train_ds = generator.make_dataset(train_files, True)\n",
        "val_ds = generator.make_dataset(val_files, False)\n",
        "test_ds = generator.make_dataset(test_files, False)\n",
        "units=8"
      ],
      "execution_count": 13,
      "outputs": []
    },
    {
      "cell_type": "markdown",
      "metadata": {
        "id": "u6ue7OwCvSg-"
      },
      "source": [
        "#Model"
      ]
    },
    {
      "cell_type": "markdown",
      "metadata": {
        "id": "-j7vRZkLziid"
      },
      "source": [
        "##Model A"
      ]
    },
    {
      "cell_type": "code",
      "metadata": {
        "id": "2lcrcEETzlox"
      },
      "source": [
        "#MLP Model definition\n",
        "mlp_model = keras.Sequential([\n",
        "    keras.layers.Flatten(),\n",
        "    keras.layers.Dense(units=256, activation='relu'),\n",
        "    keras.layers.Dense(units=256, activation='relu'),\n",
        "    keras.layers.Dense(units=256, activation='relu'),\n",
        "    keras.layers.Dense(units=10) #if silence 10\n",
        "])"
      ],
      "execution_count": 14,
      "outputs": []
    },
    {
      "cell_type": "markdown",
      "metadata": {
        "id": "sjtKHmqJzmPH"
      },
      "source": [
        "##Model B"
      ]
    },
    {
      "cell_type": "code",
      "metadata": {
        "id": "PXmdPXRyznwO"
      },
      "source": [
        "#CNN_2D Model definition\n",
        "\n",
        "cnn_model = keras.Sequential([\n",
        "    keras.layers.Conv2D(filters=128,kernel_size=[3,3],strides=strides, use_bias=False),\n",
        "    keras.layers.BatchNormalization(momentum=0.1),\n",
        "    keras.layers.ReLU(),\n",
        "    keras.layers.Conv2D(filters=128,kernel_size=[3,3],strides=[1, 1], use_bias=False),\n",
        "    keras.layers.BatchNormalization(momentum=0.1),\n",
        "    keras.layers.ReLU(),\n",
        "    keras.layers.Conv2D(filters=128,kernel_size=[3,3],strides=[1,1], use_bias=False),\n",
        "    keras.layers.BatchNormalization(momentum=0.1),\n",
        "    keras.layers.ReLU(),\n",
        "    keras.layers.GlobalAveragePooling2D(),\n",
        "    keras.layers.Dense(units=10) #10 if silence\n",
        "])"
      ],
      "execution_count": 15,
      "outputs": []
    },
    {
      "cell_type": "markdown",
      "metadata": {
        "id": "FKkktzv2zoWx"
      },
      "source": [
        "##Model C"
      ]
    },
    {
      "cell_type": "code",
      "metadata": {
        "id": "vgNVG-jzzsUk"
      },
      "source": [
        "ds_cnn_model = keras.Sequential([\n",
        "    keras.layers.Conv2D(filters=256,kernel_size=[3,3],strides=strides, use_bias=False),\n",
        "    keras.layers.BatchNormalization(momentum=0.1),\n",
        "    keras.layers.ReLU(),\n",
        "    keras.layers.DepthwiseConv2D(kernel_size=[3,3],strides=[1, 1], use_bias=False),\n",
        "    keras.layers.Conv2D(filters=256,kernel_size=[1,1],strides=[1,1], use_bias=False),\n",
        "    keras.layers.BatchNormalization(momentum=0.1),\n",
        "    keras.layers.ReLU(),\n",
        "    keras.layers.DepthwiseConv2D(kernel_size=[3,3],strides=[1, 1], use_bias=False),\n",
        "    keras.layers.Conv2D(filters=256,kernel_size=[1,1],strides=[1,1], use_bias=False),\n",
        "    keras.layers.BatchNormalization(momentum=0.1),\n",
        "    keras.layers.ReLU(),\n",
        "    keras.layers.GlobalAveragePooling2D(),\n",
        "    keras.layers.Dense(units=10) #10 if silence\n",
        "])"
      ],
      "execution_count": 16,
      "outputs": []
    },
    {
      "cell_type": "markdown",
      "metadata": {
        "id": "Xcdo-vXFvZpg"
      },
      "source": [
        "##Model definition"
      ]
    },
    {
      "cell_type": "code",
      "metadata": {
        "id": "F58fd8zpvR6m"
      },
      "source": [
        "if model_type=='a':\n",
        "  model=mlp_model\n",
        "  if (mfcc==True):\n",
        "    path= './callback_val_chkp/mfcc_model_a'\n",
        "  else:\n",
        "    path= './callback_val_chkp/stft_model_a'\n",
        "\n",
        "if model_type=='b':\n",
        "  model=cnn_model\n",
        "  if (mfcc==True):\n",
        "    path= './callback_val_chkp/mfcc_model_b'\n",
        "  else:\n",
        "    path= './callback_val_chkp/stft_model_b'\n",
        "\n",
        "if model_type=='c':\n",
        "  model=ds_cnn_model\n",
        "  if (mfcc==True):\n",
        "    path= './callback_val_chkp/mfcc_model_c'\n",
        "  else:\n",
        "    path= './callback_val_chkp/stft_model_c'"
      ],
      "execution_count": 17,
      "outputs": []
    },
    {
      "cell_type": "code",
      "metadata": {
        "id": "DkhUmj-V46H2"
      },
      "source": [
        "\n",
        "cp_callback = keras.callbacks.ModelCheckpoint(\n",
        "    filepath=path,\n",
        "    # './callback_test_chkp/chkp_best',\n",
        "    monitor='val_accuracy',\n",
        "    verbose=0, \n",
        "    save_best_only=True,\n",
        "    # save_best_only=True,\n",
        "    save_weights_only=False,\n",
        "    mode='auto',\n",
        "    save_freq='epoch'\n",
        ")"
      ],
      "execution_count": 18,
      "outputs": []
    },
    {
      "cell_type": "code",
      "metadata": {
        "id": "0VQvZAKg-FAp"
      },
      "source": [
        "callbacks = [\r\n",
        "  tfmot.sparsity.keras.UpdatePruningStep(),\r\n",
        "  cp_callback\r\n",
        "]\r\n"
      ],
      "execution_count": 19,
      "outputs": []
    },
    {
      "cell_type": "markdown",
      "metadata": {
        "id": "aCHMXjN99T6J"
      },
      "source": [
        "#Pruning"
      ]
    },
    {
      "cell_type": "code",
      "metadata": {
        "id": "lM_KCDoM9TM-"
      },
      "source": [
        "prune_low_magnitude=tfmot.sparsity.keras.prune_low_magnitude\r\n",
        "\r\n",
        "pruning_params = {\r\n",
        "      'pruning_schedule': tfmot.sparsity.keras.PolynomialDecay(initial_sparsity=0.50,final_sparsity=0.80,begin_step=len(train_ds)*5,end_step=len(train_ds)*15)\r\n",
        "}\r\n",
        "\r\n",
        "\r\n",
        "model_for_pruning = prune_low_magnitude(model, **pruning_params)\r\n"
      ],
      "execution_count": 22,
      "outputs": []
    },
    {
      "cell_type": "markdown",
      "metadata": {
        "id": "iJQc4JTpvcfi"
      },
      "source": [
        "##Training"
      ]
    },
    {
      "cell_type": "code",
      "metadata": {
        "colab": {
          "base_uri": "https://localhost:8080/",
          "height": 458
        },
        "id": "HITYllmYvoXx",
        "outputId": "3c6653bf-e9a8-4710-9411-b5db7f4d16e8"
      },
      "source": [
        "\n",
        "\n",
        "model_for_pruning.compile(loss=tf.keras.losses.SparseCategoricalCrossentropy(from_logits=True) ,optimizer='adam', metrics=['accuracy'])\n",
        "\n",
        "model_for_pruning.fit(train_ds, epochs=20, validation_data=val_ds,callbacks=callbacks)"
      ],
      "execution_count": 23,
      "outputs": [
        {
          "output_type": "stream",
          "text": [
            "Epoch 1/20\n"
          ],
          "name": "stdout"
        },
        {
          "output_type": "error",
          "ename": "AttributeError",
          "evalue": "ignored",
          "traceback": [
            "\u001b[0;31m---------------------------------------------------------------------------\u001b[0m",
            "\u001b[0;31mAttributeError\u001b[0m                            Traceback (most recent call last)",
            "\u001b[0;32m<ipython-input-23-03ee95d9f3c9>\u001b[0m in \u001b[0;36m<module>\u001b[0;34m()\u001b[0m\n\u001b[1;32m      3\u001b[0m \u001b[0mmodel_for_pruning\u001b[0m\u001b[0;34m.\u001b[0m\u001b[0mcompile\u001b[0m\u001b[0;34m(\u001b[0m\u001b[0mloss\u001b[0m\u001b[0;34m=\u001b[0m\u001b[0mtf\u001b[0m\u001b[0;34m.\u001b[0m\u001b[0mkeras\u001b[0m\u001b[0;34m.\u001b[0m\u001b[0mlosses\u001b[0m\u001b[0;34m.\u001b[0m\u001b[0mSparseCategoricalCrossentropy\u001b[0m\u001b[0;34m(\u001b[0m\u001b[0mfrom_logits\u001b[0m\u001b[0;34m=\u001b[0m\u001b[0;32mTrue\u001b[0m\u001b[0;34m)\u001b[0m \u001b[0;34m,\u001b[0m\u001b[0moptimizer\u001b[0m\u001b[0;34m=\u001b[0m\u001b[0;34m'adam'\u001b[0m\u001b[0;34m,\u001b[0m \u001b[0mmetrics\u001b[0m\u001b[0;34m=\u001b[0m\u001b[0;34m[\u001b[0m\u001b[0;34m'accuracy'\u001b[0m\u001b[0;34m]\u001b[0m\u001b[0;34m)\u001b[0m\u001b[0;34m\u001b[0m\u001b[0;34m\u001b[0m\u001b[0m\n\u001b[1;32m      4\u001b[0m \u001b[0;34m\u001b[0m\u001b[0m\n\u001b[0;32m----> 5\u001b[0;31m \u001b[0mmodel_for_pruning\u001b[0m\u001b[0;34m.\u001b[0m\u001b[0mfit\u001b[0m\u001b[0;34m(\u001b[0m\u001b[0mtrain_ds\u001b[0m\u001b[0;34m,\u001b[0m \u001b[0mepochs\u001b[0m\u001b[0;34m=\u001b[0m\u001b[0;36m20\u001b[0m\u001b[0;34m,\u001b[0m \u001b[0mvalidation_data\u001b[0m\u001b[0;34m=\u001b[0m\u001b[0mval_ds\u001b[0m\u001b[0;34m,\u001b[0m\u001b[0mcallbacks\u001b[0m\u001b[0;34m=\u001b[0m\u001b[0mcallbacks\u001b[0m\u001b[0;34m)\u001b[0m\u001b[0;34m\u001b[0m\u001b[0;34m\u001b[0m\u001b[0m\n\u001b[0m",
            "\u001b[0;32m/usr/local/lib/python3.6/dist-packages/tensorflow/python/keras/engine/training.py\u001b[0m in \u001b[0;36m_method_wrapper\u001b[0;34m(self, *args, **kwargs)\u001b[0m\n\u001b[1;32m    106\u001b[0m   \u001b[0;32mdef\u001b[0m \u001b[0m_method_wrapper\u001b[0m\u001b[0;34m(\u001b[0m\u001b[0mself\u001b[0m\u001b[0;34m,\u001b[0m \u001b[0;34m*\u001b[0m\u001b[0margs\u001b[0m\u001b[0;34m,\u001b[0m \u001b[0;34m**\u001b[0m\u001b[0mkwargs\u001b[0m\u001b[0;34m)\u001b[0m\u001b[0;34m:\u001b[0m\u001b[0;34m\u001b[0m\u001b[0;34m\u001b[0m\u001b[0m\n\u001b[1;32m    107\u001b[0m     \u001b[0;32mif\u001b[0m \u001b[0;32mnot\u001b[0m \u001b[0mself\u001b[0m\u001b[0;34m.\u001b[0m\u001b[0m_in_multi_worker_mode\u001b[0m\u001b[0;34m(\u001b[0m\u001b[0;34m)\u001b[0m\u001b[0;34m:\u001b[0m  \u001b[0;31m# pylint: disable=protected-access\u001b[0m\u001b[0;34m\u001b[0m\u001b[0;34m\u001b[0m\u001b[0m\n\u001b[0;32m--> 108\u001b[0;31m       \u001b[0;32mreturn\u001b[0m \u001b[0mmethod\u001b[0m\u001b[0;34m(\u001b[0m\u001b[0mself\u001b[0m\u001b[0;34m,\u001b[0m \u001b[0;34m*\u001b[0m\u001b[0margs\u001b[0m\u001b[0;34m,\u001b[0m \u001b[0;34m**\u001b[0m\u001b[0mkwargs\u001b[0m\u001b[0;34m)\u001b[0m\u001b[0;34m\u001b[0m\u001b[0;34m\u001b[0m\u001b[0m\n\u001b[0m\u001b[1;32m    109\u001b[0m \u001b[0;34m\u001b[0m\u001b[0m\n\u001b[1;32m    110\u001b[0m     \u001b[0;31m# Running inside `run_distribute_coordinator` already.\u001b[0m\u001b[0;34m\u001b[0m\u001b[0;34m\u001b[0m\u001b[0;34m\u001b[0m\u001b[0m\n",
            "\u001b[0;32m/usr/local/lib/python3.6/dist-packages/tensorflow/python/keras/engine/training.py\u001b[0m in \u001b[0;36mfit\u001b[0;34m(self, x, y, batch_size, epochs, verbose, callbacks, validation_split, validation_data, shuffle, class_weight, sample_weight, initial_epoch, steps_per_epoch, validation_steps, validation_batch_size, validation_freq, max_queue_size, workers, use_multiprocessing)\u001b[0m\n\u001b[1;32m   1095\u001b[0m                 \u001b[0mstep_num\u001b[0m\u001b[0;34m=\u001b[0m\u001b[0mstep\u001b[0m\u001b[0;34m,\u001b[0m\u001b[0;34m\u001b[0m\u001b[0;34m\u001b[0m\u001b[0m\n\u001b[1;32m   1096\u001b[0m                 batch_size=batch_size):\n\u001b[0;32m-> 1097\u001b[0;31m               \u001b[0mcallbacks\u001b[0m\u001b[0;34m.\u001b[0m\u001b[0mon_train_batch_begin\u001b[0m\u001b[0;34m(\u001b[0m\u001b[0mstep\u001b[0m\u001b[0;34m)\u001b[0m\u001b[0;34m\u001b[0m\u001b[0;34m\u001b[0m\u001b[0m\n\u001b[0m\u001b[1;32m   1098\u001b[0m               \u001b[0mtmp_logs\u001b[0m \u001b[0;34m=\u001b[0m \u001b[0mtrain_function\u001b[0m\u001b[0;34m(\u001b[0m\u001b[0miterator\u001b[0m\u001b[0;34m)\u001b[0m\u001b[0;34m\u001b[0m\u001b[0;34m\u001b[0m\u001b[0m\n\u001b[1;32m   1099\u001b[0m               \u001b[0;32mif\u001b[0m \u001b[0mdata_handler\u001b[0m\u001b[0;34m.\u001b[0m\u001b[0mshould_sync\u001b[0m\u001b[0;34m:\u001b[0m\u001b[0;34m\u001b[0m\u001b[0;34m\u001b[0m\u001b[0m\n",
            "\u001b[0;32m/usr/local/lib/python3.6/dist-packages/tensorflow/python/keras/callbacks.py\u001b[0m in \u001b[0;36mon_train_batch_begin\u001b[0;34m(self, batch, logs)\u001b[0m\n\u001b[1;32m    428\u001b[0m     \u001b[0;31m# when verbose != 1\u001b[0m\u001b[0;34m\u001b[0m\u001b[0;34m\u001b[0m\u001b[0;34m\u001b[0m\u001b[0m\n\u001b[1;32m    429\u001b[0m     \u001b[0;32mif\u001b[0m \u001b[0mself\u001b[0m\u001b[0;34m.\u001b[0m\u001b[0m_should_call_train_batch_hooks\u001b[0m\u001b[0;34m:\u001b[0m\u001b[0;34m\u001b[0m\u001b[0;34m\u001b[0m\u001b[0m\n\u001b[0;32m--> 430\u001b[0;31m       \u001b[0mself\u001b[0m\u001b[0;34m.\u001b[0m\u001b[0m_call_batch_hook\u001b[0m\u001b[0;34m(\u001b[0m\u001b[0mModeKeys\u001b[0m\u001b[0;34m.\u001b[0m\u001b[0mTRAIN\u001b[0m\u001b[0;34m,\u001b[0m \u001b[0;34m'begin'\u001b[0m\u001b[0;34m,\u001b[0m \u001b[0mbatch\u001b[0m\u001b[0;34m,\u001b[0m \u001b[0mlogs\u001b[0m\u001b[0;34m=\u001b[0m\u001b[0mlogs\u001b[0m\u001b[0;34m)\u001b[0m\u001b[0;34m\u001b[0m\u001b[0;34m\u001b[0m\u001b[0m\n\u001b[0m\u001b[1;32m    431\u001b[0m \u001b[0;34m\u001b[0m\u001b[0m\n\u001b[1;32m    432\u001b[0m   \u001b[0;32mdef\u001b[0m \u001b[0mon_train_batch_end\u001b[0m\u001b[0;34m(\u001b[0m\u001b[0mself\u001b[0m\u001b[0;34m,\u001b[0m \u001b[0mbatch\u001b[0m\u001b[0;34m,\u001b[0m \u001b[0mlogs\u001b[0m\u001b[0;34m=\u001b[0m\u001b[0;32mNone\u001b[0m\u001b[0;34m)\u001b[0m\u001b[0;34m:\u001b[0m\u001b[0;34m\u001b[0m\u001b[0;34m\u001b[0m\u001b[0m\n",
            "\u001b[0;32m/usr/local/lib/python3.6/dist-packages/tensorflow/python/keras/callbacks.py\u001b[0m in \u001b[0;36m_call_batch_hook\u001b[0;34m(self, mode, hook, batch, logs)\u001b[0m\n\u001b[1;32m    285\u001b[0m \u001b[0;34m\u001b[0m\u001b[0m\n\u001b[1;32m    286\u001b[0m     \u001b[0;32mif\u001b[0m \u001b[0mhook\u001b[0m \u001b[0;34m==\u001b[0m \u001b[0;34m'begin'\u001b[0m\u001b[0;34m:\u001b[0m\u001b[0;34m\u001b[0m\u001b[0;34m\u001b[0m\u001b[0m\n\u001b[0;32m--> 287\u001b[0;31m       \u001b[0mself\u001b[0m\u001b[0;34m.\u001b[0m\u001b[0m_call_batch_begin_hook\u001b[0m\u001b[0;34m(\u001b[0m\u001b[0mmode\u001b[0m\u001b[0;34m,\u001b[0m \u001b[0mbatch\u001b[0m\u001b[0;34m,\u001b[0m \u001b[0mlogs\u001b[0m\u001b[0;34m)\u001b[0m\u001b[0;34m\u001b[0m\u001b[0;34m\u001b[0m\u001b[0m\n\u001b[0m\u001b[1;32m    288\u001b[0m     \u001b[0;32melif\u001b[0m \u001b[0mhook\u001b[0m \u001b[0;34m==\u001b[0m \u001b[0;34m'end'\u001b[0m\u001b[0;34m:\u001b[0m\u001b[0;34m\u001b[0m\u001b[0;34m\u001b[0m\u001b[0m\n\u001b[1;32m    289\u001b[0m       \u001b[0mself\u001b[0m\u001b[0;34m.\u001b[0m\u001b[0m_call_batch_end_hook\u001b[0m\u001b[0;34m(\u001b[0m\u001b[0mmode\u001b[0m\u001b[0;34m,\u001b[0m \u001b[0mbatch\u001b[0m\u001b[0;34m,\u001b[0m \u001b[0mlogs\u001b[0m\u001b[0;34m)\u001b[0m\u001b[0;34m\u001b[0m\u001b[0;34m\u001b[0m\u001b[0m\n",
            "\u001b[0;32m/usr/local/lib/python3.6/dist-packages/tensorflow/python/keras/callbacks.py\u001b[0m in \u001b[0;36m_call_batch_begin_hook\u001b[0;34m(self, mode, batch, logs)\u001b[0m\n\u001b[1;32m    295\u001b[0m     \u001b[0mhook_name\u001b[0m \u001b[0;34m=\u001b[0m \u001b[0;34m'on_{mode}_batch_begin'\u001b[0m\u001b[0;34m.\u001b[0m\u001b[0mformat\u001b[0m\u001b[0;34m(\u001b[0m\u001b[0mmode\u001b[0m\u001b[0;34m=\u001b[0m\u001b[0mmode\u001b[0m\u001b[0;34m)\u001b[0m\u001b[0;34m\u001b[0m\u001b[0;34m\u001b[0m\u001b[0m\n\u001b[1;32m    296\u001b[0m     \u001b[0mself\u001b[0m\u001b[0;34m.\u001b[0m\u001b[0m_check_timing\u001b[0m \u001b[0;34m=\u001b[0m \u001b[0mbatch\u001b[0m \u001b[0;34m==\u001b[0m \u001b[0;36m1\u001b[0m \u001b[0;32mand\u001b[0m \u001b[0mhook_name\u001b[0m \u001b[0;32mnot\u001b[0m \u001b[0;32min\u001b[0m \u001b[0mself\u001b[0m\u001b[0;34m.\u001b[0m\u001b[0m_timing\u001b[0m\u001b[0;34m\u001b[0m\u001b[0;34m\u001b[0m\u001b[0m\n\u001b[0;32m--> 297\u001b[0;31m     \u001b[0mself\u001b[0m\u001b[0;34m.\u001b[0m\u001b[0m_call_batch_hook_helper\u001b[0m\u001b[0;34m(\u001b[0m\u001b[0mhook_name\u001b[0m\u001b[0;34m,\u001b[0m \u001b[0mbatch\u001b[0m\u001b[0;34m,\u001b[0m \u001b[0mlogs\u001b[0m\u001b[0;34m)\u001b[0m\u001b[0;34m\u001b[0m\u001b[0;34m\u001b[0m\u001b[0m\n\u001b[0m\u001b[1;32m    298\u001b[0m \u001b[0;34m\u001b[0m\u001b[0m\n\u001b[1;32m    299\u001b[0m     \u001b[0;32mif\u001b[0m \u001b[0mself\u001b[0m\u001b[0;34m.\u001b[0m\u001b[0m_check_timing\u001b[0m\u001b[0;34m:\u001b[0m\u001b[0;34m\u001b[0m\u001b[0;34m\u001b[0m\u001b[0m\n",
            "\u001b[0;32m/usr/local/lib/python3.6/dist-packages/tensorflow/python/keras/callbacks.py\u001b[0m in \u001b[0;36m_call_batch_hook_helper\u001b[0;34m(self, hook_name, batch, logs)\u001b[0m\n\u001b[1;32m    344\u001b[0m         \u001b[0;32mif\u001b[0m \u001b[0mnumpy_logs\u001b[0m \u001b[0;32mis\u001b[0m \u001b[0;32mNone\u001b[0m\u001b[0;34m:\u001b[0m  \u001b[0;31m# Only convert once.\u001b[0m\u001b[0;34m\u001b[0m\u001b[0;34m\u001b[0m\u001b[0m\n\u001b[1;32m    345\u001b[0m           \u001b[0mnumpy_logs\u001b[0m \u001b[0;34m=\u001b[0m \u001b[0mtf_utils\u001b[0m\u001b[0;34m.\u001b[0m\u001b[0mto_numpy_or_python_type\u001b[0m\u001b[0;34m(\u001b[0m\u001b[0mlogs\u001b[0m\u001b[0;34m)\u001b[0m\u001b[0;34m\u001b[0m\u001b[0;34m\u001b[0m\u001b[0m\n\u001b[0;32m--> 346\u001b[0;31m         \u001b[0mhook\u001b[0m\u001b[0;34m(\u001b[0m\u001b[0mbatch\u001b[0m\u001b[0;34m,\u001b[0m \u001b[0mnumpy_logs\u001b[0m\u001b[0;34m)\u001b[0m\u001b[0;34m\u001b[0m\u001b[0;34m\u001b[0m\u001b[0m\n\u001b[0m\u001b[1;32m    347\u001b[0m \u001b[0;34m\u001b[0m\u001b[0m\n\u001b[1;32m    348\u001b[0m     \u001b[0;32mif\u001b[0m \u001b[0mself\u001b[0m\u001b[0;34m.\u001b[0m\u001b[0m_check_timing\u001b[0m\u001b[0;34m:\u001b[0m\u001b[0;34m\u001b[0m\u001b[0;34m\u001b[0m\u001b[0m\n",
            "\u001b[0;32m/usr/local/lib/python3.6/dist-packages/tensorflow_model_optimization/python/core/sparsity/keras/pruning_callbacks.py\u001b[0m in \u001b[0;36mon_train_batch_begin\u001b[0;34m(self, batch, logs)\u001b[0m\n\u001b[1;32m     70\u001b[0m     \u001b[0mtuples\u001b[0m \u001b[0;34m=\u001b[0m \u001b[0;34m[\u001b[0m\u001b[0;34m]\u001b[0m\u001b[0;34m\u001b[0m\u001b[0;34m\u001b[0m\u001b[0m\n\u001b[1;32m     71\u001b[0m     \u001b[0;32mfor\u001b[0m \u001b[0mlayer\u001b[0m \u001b[0;32min\u001b[0m \u001b[0mself\u001b[0m\u001b[0;34m.\u001b[0m\u001b[0mprunable_layers\u001b[0m\u001b[0;34m:\u001b[0m\u001b[0;34m\u001b[0m\u001b[0;34m\u001b[0m\u001b[0m\n\u001b[0;32m---> 72\u001b[0;31m       \u001b[0mtuples\u001b[0m\u001b[0;34m.\u001b[0m\u001b[0mappend\u001b[0m\u001b[0;34m(\u001b[0m\u001b[0;34m(\u001b[0m\u001b[0mlayer\u001b[0m\u001b[0;34m.\u001b[0m\u001b[0mpruning_step\u001b[0m\u001b[0;34m,\u001b[0m \u001b[0mself\u001b[0m\u001b[0;34m.\u001b[0m\u001b[0mstep\u001b[0m\u001b[0;34m)\u001b[0m\u001b[0;34m)\u001b[0m\u001b[0;34m\u001b[0m\u001b[0;34m\u001b[0m\u001b[0m\n\u001b[0m\u001b[1;32m     73\u001b[0m \u001b[0;34m\u001b[0m\u001b[0m\n\u001b[1;32m     74\u001b[0m     \u001b[0mK\u001b[0m\u001b[0;34m.\u001b[0m\u001b[0mbatch_set_value\u001b[0m\u001b[0;34m(\u001b[0m\u001b[0mtuples\u001b[0m\u001b[0;34m)\u001b[0m\u001b[0;34m\u001b[0m\u001b[0;34m\u001b[0m\u001b[0m\n",
            "\u001b[0;31mAttributeError\u001b[0m: 'PruneLowMagnitude' object has no attribute 'pruning_step'"
          ]
        }
      ]
    },
    {
      "cell_type": "markdown",
      "metadata": {
        "id": "v21zw4Wsv80_"
      },
      "source": [
        "##Validation"
      ]
    },
    {
      "cell_type": "code",
      "metadata": {
        "id": "uO2bgmjMv2lP"
      },
      "source": [
        "#model evaluation on validation set\n",
        "val_accuracy= model_for_pruning.evaluate(val_ds)"
      ],
      "execution_count": null,
      "outputs": []
    },
    {
      "cell_type": "markdown",
      "metadata": {
        "id": "qD20dg20wWZ9"
      },
      "source": [
        "##Testing"
      ]
    },
    {
      "cell_type": "code",
      "metadata": {
        "id": "sxS4hbZdwal-"
      },
      "source": [
        "test_accuracy= model_for_pruning.evaluate(test_ds)"
      ],
      "execution_count": null,
      "outputs": []
    },
    {
      "cell_type": "markdown",
      "metadata": {
        "id": "iIckUXuaw95G"
      },
      "source": [
        "##*tflite* conversion, size and latency measurement"
      ]
    },
    {
      "cell_type": "markdown",
      "metadata": {
        "id": "DBoOxTEXxHMd"
      },
      "source": [
        "##tflite conversion"
      ]
    },
    {
      "cell_type": "code",
      "metadata": {
        "id": "uB8OtLPgxM1L"
      },
      "source": [
        "ROOT_DIR=\"./callback_val_chkp/\"\n",
        "tflite_models= ROOT_DIR + \"tfliteModels/\"\n",
        "!mkdir ./callback_val_chkp/tfliteModels\n",
        "\n",
        "if model_type=='a':\n",
        "  if (mfcc==True):\n",
        "    saved_model_dir= ROOT_DIR +\"mfcc_model_a\"\n",
        "    tflite_model_dir= tflite_models + \"model_a\"\n",
        "  else:\n",
        "    saved_model_dir= ROOT_DIR +\"stft_model_a\"\n",
        "    tflite_model_dir= tflite_models + \"model_a\"\n",
        "  \n",
        "\n",
        "if model_type=='b':\n",
        "  if (mfcc==True):\n",
        "    saved_model_dir= ROOT_DIR +\"mfcc_model_b\"\n",
        "    tflite_model_dir= tflite_models + \"model_b\"\n",
        "  else:\n",
        "    saved_model_dir= ROOT_DIR +\"stft_model_b\"\n",
        "    tflite_model_dir= tflite_models + \"model_b\"\n",
        "\n",
        "if model_type=='c':\n",
        "  if (mfcc==True):\n",
        "    saved_model_dir= ROOT_DIR +\"mfcc_model_c\"\n",
        "    tflite_model_dir= tflite_models + \"model_c\"\n",
        "  else:\n",
        "    saved_model_dir= ROOT_DIR +\"stft_model_c\"\n",
        "    tflite_model_dir= tflite_models + \"model_c\"\n",
        "\n",
        "\n",
        "converter=tf.lite.TFLiteConverter.from_saved_model(saved_model_dir)\n",
        "converter.optimizations = [tf.lite.Optimize.DEFAULT]\n",
        "tflite_model=converter.convert()\n",
        "\n",
        "with open(tflite_model_dir, \"wb\") as fp:\n",
        "  tflite_compressed = zlib.compress(tflite_model)\n",
        "  fp.write(tflite_compressed)"
      ],
      "execution_count": null,
      "outputs": []
    },
    {
      "cell_type": "markdown",
      "metadata": {
        "id": "3CH-bOBg2Xy7"
      },
      "source": [
        "##Size measurement"
      ]
    },
    {
      "cell_type": "code",
      "metadata": {
        "id": "XiHV3SYH2Sl2"
      },
      "source": [
        "os.path.getsize(tflite_model_dir)"
      ],
      "execution_count": null,
      "outputs": []
    },
    {
      "cell_type": "markdown",
      "metadata": {
        "id": "aWuqE4rknUA6"
      },
      "source": [
        "##Latency measurement"
      ]
    },
    {
      "cell_type": "code",
      "metadata": {
        "id": "3tVik05Kn2nB"
      },
      "source": [
        " !python ./HMW/HMW2/kws_inference.py --model ./callback_val_chkp/tfliteModels/model_a "
      ],
      "execution_count": null,
      "outputs": []
    }
  ]
}