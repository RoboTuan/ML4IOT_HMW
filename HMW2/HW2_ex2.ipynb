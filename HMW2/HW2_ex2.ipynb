{
  "nbformat": 4,
  "nbformat_minor": 0,
  "metadata": {
    "colab": {
      "name": "HW2_ex2.ipynb",
      "provenance": [],
      "authorship_tag": "ABX9TyNqZ9FQFyLd7lGMGNW3QPsj",
      "include_colab_link": true
    },
    "kernelspec": {
      "name": "python3",
      "display_name": "Python 3"
    }
  },
  "cells": [
    {
      "cell_type": "markdown",
      "metadata": {
        "id": "view-in-github",
        "colab_type": "text"
      },
      "source": [
        "<a href=\"https://colab.research.google.com/github/RoboTuan/ML4IOT_HMW/blob/main/HMW2/HW2_ex2.ipynb\" target=\"_parent\"><img src=\"https://colab.research.google.com/assets/colab-badge.svg\" alt=\"Open In Colab\"/></a>"
      ]
    },
    {
      "cell_type": "code",
      "metadata": {
        "id": "jCB53wPLLWaR"
      },
      "source": [
        "import tensorflow as tf\n",
        "import numpy as np\n",
        "from tensorflow import keras\n",
        "import pandas as pd\n",
        "import matplotlib.pyplot as plt\n",
        "import os\n",
        "from zipfile import ZipFile\n"
      ],
      "execution_count": 1,
      "outputs": []
    },
    {
      "cell_type": "code",
      "metadata": {
        "colab": {
          "base_uri": "https://localhost:8080/"
        },
        "id": "ZNmNFu8Mjsxl",
        "outputId": "cc4fd93d-183a-47a1-f8a9-37e41bc0f8eb"
      },
      "source": [
        "if not os.path.isdir('./HMW'):\n",
        "  !git clone \"https://github.com/RoboTuan/ML4IOT_HMW.git\"  \n",
        "  !mv 'ML4IOT_HMW' 'HMW'\n",
        "\n",
        "ROOT_DIR = 'HMW/HMW2/'\n",
        "tflite_models=ROOT_DIR + \"tflite_models/\""
      ],
      "execution_count": 2,
      "outputs": [
        {
          "output_type": "stream",
          "text": [
            "Cloning into 'ML4IOT_HMW'...\n",
            "remote: Enumerating objects: 134, done.\u001b[K\n",
            "remote: Counting objects: 100% (134/134), done.\u001b[K\n",
            "remote: Compressing objects: 100% (111/111), done.\u001b[K\n",
            "remote: Total 134 (delta 67), reused 59 (delta 17), pack-reused 0\u001b[K\n",
            "Receiving objects: 100% (134/134), 1.26 MiB | 15.34 MiB/s, done.\n",
            "Resolving deltas: 100% (67/67), done.\n"
          ],
          "name": "stdout"
        }
      ]
    },
    {
      "cell_type": "code",
      "metadata": {
        "id": "p-26mjjDSR1F"
      },
      "source": [
        "#parser = argparse.ArgumentParser()\n",
        "#parser.add_argument('--version', type=str, required=True, help='a,b or c')\n",
        "#parser.add_argument('--mfcc', action='store_true', help='use MFCCs')\n",
        "#args = parser.parse_args()\n",
        "\n",
        "model_type='a' #args.version\n",
        "mfcc=False"
      ],
      "execution_count": 3,
      "outputs": []
    },
    {
      "cell_type": "code",
      "metadata": {
        "id": "X7K0B4RTTkNI"
      },
      "source": [
        "seed = 42\n",
        "tf.random.set_seed(seed)\n",
        "np.random.seed(seed)"
      ],
      "execution_count": 4,
      "outputs": []
    },
    {
      "cell_type": "code",
      "metadata": {
        "id": "EFbVU7mgTmr5",
        "colab": {
          "base_uri": "https://localhost:8080/"
        },
        "outputId": "6843c755-b03d-45ef-c220-a203f89feabb"
      },
      "source": [
        "zip_path = tf.keras.utils.get_file(\n",
        "        origin=\"http://storage.googleapis.com/download.tensorflow.org/data/mini_speech_commands.zip\",\n",
        "        fname='mini_speech_commands.zip',\n",
        "        extract=True,\n",
        "        cache_dir='.', cache_subdir='data')\n",
        "data_dir = os.path.join('.', 'data', 'mini_speech_commands')\n",
        "filenames = tf.io.gfile.glob(str(data_dir) + '/*/*')\n",
        "filenames = tf.random.shuffle(filenames)\n",
        "num_samples = len(filenames)\n",
        "total = 8000"
      ],
      "execution_count": 5,
      "outputs": [
        {
          "output_type": "stream",
          "text": [
            "Downloading data from http://storage.googleapis.com/download.tensorflow.org/data/mini_speech_commands.zip\n",
            "182083584/182082353 [==============================] - 1s 0us/step\n"
          ],
          "name": "stdout"
        }
      ]
    },
    {
      "cell_type": "code",
      "metadata": {
        "id": "mmen3RxJWUE7"
      },
      "source": [
        "train =  tf.convert_to_tensor(pd.read_csv('https://raw.githubusercontent.com/RoboTuan/ML4IOT_HMW/main/HMW2/kws_train_split.txt', header=None))\n",
        "validation =  tf.convert_to_tensor(pd.read_csv('https://raw.githubusercontent.com/RoboTuan/ML4IOT_HMW/main/HMW2/kws_val_split.txt', header=None))\n",
        "test =  tf.convert_to_tensor(pd.read_csv('https://raw.githubusercontent.com/RoboTuan/ML4IOT_HMW/main/HMW2/kws_test_split.txt', header=None))\n",
        "\n",
        "train= tf.squeeze(train)\n",
        "validation= tf.squeeze(validation)\n",
        "test= tf.squeeze(test)\n"
      ],
      "execution_count": 6,
      "outputs": []
    },
    {
      "cell_type": "code",
      "metadata": {
        "id": "O46MZr_UV8sM"
      },
      "source": [
        "train_files = train\n",
        "val_files = validation\n",
        "test_files = test"
      ],
      "execution_count": 7,
      "outputs": []
    },
    {
      "cell_type": "code",
      "metadata": {
        "id": "j-MfBnKZcfEF"
      },
      "source": [
        "LABELS = np.array(tf.io.gfile.listdir(str(data_dir)))\n",
        "LABELS = LABELS[LABELS != 'README.md']"
      ],
      "execution_count": 8,
      "outputs": []
    },
    {
      "cell_type": "code",
      "metadata": {
        "id": "C1HWKgl4cgGs"
      },
      "source": [
        "class SignalGenerator:\n",
        "    def __init__(self, labels, sampling_rate, frame_length, frame_step,\n",
        "            num_mel_bins=None, lower_frequency=None, upper_frequency=None,\n",
        "            num_coefficients=None, mfcc=False):\n",
        "        self.labels = labels\n",
        "        self.sampling_rate = sampling_rate\n",
        "        self.frame_length = frame_length\n",
        "        self.frame_step = frame_step\n",
        "        self.num_mel_bins = num_mel_bins\n",
        "        self.lower_frequency = lower_frequency\n",
        "        self.upper_frequency = upper_frequency\n",
        "        self.num_coefficients = num_coefficients\n",
        "        num_spectrogram_bins = (frame_length) // 2 + 1\n",
        "\n",
        "        if mfcc is True:\n",
        "            self.linear_to_mel_weight_matrix = tf.signal.linear_to_mel_weight_matrix(\n",
        "                    self.num_mel_bins, num_spectrogram_bins, self.sampling_rate,\n",
        "                    self.lower_frequency, self.upper_frequency)\n",
        "            self.preprocess = self.preprocess_with_mfcc\n",
        "        else:\n",
        "            self.preprocess = self.preprocess_with_stft\n",
        "\n",
        "    def read(self, file_path):\n",
        "        parts = tf.strings.split(file_path, os.path.sep)\n",
        "        label = parts[-2]\n",
        "        label_id = tf.argmax(label == self.labels)\n",
        "        audio_binary = tf.io.read_file(file_path)\n",
        "        audio, _ = tf.audio.decode_wav(audio_binary)\n",
        "        audio = tf.squeeze(audio, axis=1)\n",
        "\n",
        "        return audio, label_id\n",
        "\n",
        "    def pad(self, audio):\n",
        "        zero_padding = tf.zeros([self.sampling_rate] - tf.shape(audio), dtype=tf.float32)\n",
        "        audio = tf.concat([audio, zero_padding], 0)\n",
        "        audio.set_shape([self.sampling_rate])\n",
        "\n",
        "        return audio\n",
        "    def get_spectrogram(self, audio):\n",
        "        stft = tf.signal.stft(audio, frame_length=self.frame_length,\n",
        "                frame_step=self.frame_step, fft_length=self.frame_length)\n",
        "        spectrogram = tf.abs(stft)\n",
        "\n",
        "        return spectrogram\n",
        "\n",
        "    def get_mfccs(self, spectrogram):\n",
        "        mel_spectrogram = tf.tensordot(spectrogram,\n",
        "                self.linear_to_mel_weight_matrix, 1)\n",
        "        log_mel_spectrogram = tf.math.log(mel_spectrogram + 1.e-6)\n",
        "        mfccs = tf.signal.mfccs_from_log_mel_spectrograms(log_mel_spectrogram)\n",
        "        mfccs = mfccs[..., :self.num_coefficients]\n",
        "\n",
        "        return mfccs\n",
        "\n",
        "    def preprocess_with_stft(self, file_path):\n",
        "        audio, label = self.read(file_path)\n",
        "        audio = self.pad(audio)\n",
        "        spectrogram = self.get_spectrogram(audio)\n",
        "        spectrogram = tf.expand_dims(spectrogram, -1)\n",
        "        spectrogram = tf.image.resize(spectrogram, [32, 32])\n",
        "\n",
        "        return spectrogram, label\n",
        "\n",
        "    def preprocess_with_mfcc(self, file_path):\n",
        "        audio, label = self.read(file_path)\n",
        "        audio = self.pad(audio)\n",
        "        spectrogram = self.get_spectrogram(audio)\n",
        "        mfccs = self.get_mfccs(spectrogram)\n",
        "        mfccs = tf.expand_dims(mfccs, -1)\n",
        "\n",
        "        return mfccs, label\n",
        "\n",
        "    def make_dataset(self, files, train):\n",
        "        ds = tf.data.Dataset.from_tensor_slices(files)\n",
        "        ds = ds.map(self.preprocess, num_parallel_calls=4)\n",
        "        ds = ds.batch(32)\n",
        "        ds = ds.cache()\n",
        "        if train is True:\n",
        "            ds = ds.shuffle(100, reshuffle_each_iteration=True)\n",
        "\n",
        "        return ds\n",
        "    \n",
        "\n"
      ],
      "execution_count": 9,
      "outputs": []
    },
    {
      "cell_type": "code",
      "metadata": {
        "id": "uF2ceXoTc6X_"
      },
      "source": [
        "STFT_OPTIONS = {'frame_length': 256, 'frame_step': 128, 'mfcc': False}\n",
        "MFCC_OPTIONS = {'frame_length': 640, 'frame_step': 320, 'mfcc': True,\n",
        "        'lower_frequency': 20, 'upper_frequency': 4000, 'num_mel_bins': 40,\n",
        "        'num_coefficients': 10}"
      ],
      "execution_count": 10,
      "outputs": []
    },
    {
      "cell_type": "code",
      "metadata": {
        "id": "6mpDzH9GdmBs"
      },
      "source": [
        "#if args.mfcc is True:\n",
        "if mfcc is True:\n",
        "    options = MFCC_OPTIONS\n",
        "    strides = [2, 1]\n",
        "else:\n",
        "    options = STFT_OPTIONS\n",
        "    strides = [2, 2]"
      ],
      "execution_count": 11,
      "outputs": []
    },
    {
      "cell_type": "code",
      "metadata": {
        "id": "Tg8Cg36tdrLd"
      },
      "source": [
        "generator = SignalGenerator(LABELS, 16000, **options)\n",
        "train_ds = generator.make_dataset(train_files, True)\n",
        "val_ds = generator.make_dataset(val_files, False)\n",
        "test_ds = generator.make_dataset(test_files, False)\n",
        "units=8"
      ],
      "execution_count": 12,
      "outputs": []
    },
    {
      "cell_type": "markdown",
      "metadata": {
        "id": "u6ue7OwCvSg-"
      },
      "source": [
        "#Model"
      ]
    },
    {
      "cell_type": "markdown",
      "metadata": {
        "id": "-j7vRZkLziid"
      },
      "source": [
        "##Model A"
      ]
    },
    {
      "cell_type": "code",
      "metadata": {
        "id": "2lcrcEETzlox"
      },
      "source": [
        "#MLP Model definition\n",
        "mlp_model = keras.Sequential([\n",
        "    keras.layers.Flatten(),\n",
        "    keras.layers.Dense(units=256, activation='relu'),\n",
        "    keras.layers.Dense(units=256, activation='relu'),\n",
        "    keras.layers.Dense(units=256, activation='relu'),\n",
        "    keras.layers.Dense(units=10) #if silence 10\n",
        "])"
      ],
      "execution_count": 13,
      "outputs": []
    },
    {
      "cell_type": "markdown",
      "metadata": {
        "id": "sjtKHmqJzmPH"
      },
      "source": [
        "##Model B"
      ]
    },
    {
      "cell_type": "code",
      "metadata": {
        "id": "PXmdPXRyznwO"
      },
      "source": [
        "#CNN_2D Model definition\n",
        "\n",
        "cnn_model = keras.Sequential([\n",
        "    keras.layers.Conv2D(filters=128,kernel_size=[3,3],strides=strides, use_bias=False),\n",
        "    keras.layers.BatchNormalization(momentum=0.1),\n",
        "    keras.layers.ReLU(),\n",
        "    keras.layers.Conv2D(filters=128,kernel_size=[3,3],strides=[1, 1], use_bias=False),\n",
        "    keras.layers.BatchNormalization(momentum=0.1),\n",
        "    keras.layers.ReLU(),\n",
        "    keras.layers.Conv2D(filters=128,kernel_size=[3,3],strides=[1,1], use_bias=False),\n",
        "    keras.layers.BatchNormalization(momentum=0.1),\n",
        "    keras.layers.ReLU(),\n",
        "    keras.layers.GlobalAveragePooling2D(),\n",
        "    keras.layers.Dense(units=10) #10 if silence\n",
        "])"
      ],
      "execution_count": 14,
      "outputs": []
    },
    {
      "cell_type": "markdown",
      "metadata": {
        "id": "FKkktzv2zoWx"
      },
      "source": [
        "##Model C"
      ]
    },
    {
      "cell_type": "code",
      "metadata": {
        "id": "vgNVG-jzzsUk"
      },
      "source": [
        "ds_cnn_model = keras.Sequential([\n",
        "    keras.layers.Conv2D(filters=256,kernel_size=[3,3],strides=strides, use_bias=False),\n",
        "    keras.layers.BatchNormalization(momentum=0.1),\n",
        "    keras.layers.ReLU(),\n",
        "    keras.layers.DepthwiseConv2D(kernel_size=[3,3],strides=[1, 1], use_bias=False),\n",
        "    keras.layers.Conv2D(filters=256,kernel_size=[1,1],strides=[1,1], use_bias=False),\n",
        "    keras.layers.BatchNormalization(momentum=0.1),\n",
        "    keras.layers.ReLU(),\n",
        "    keras.layers.DepthwiseConv2D(kernel_size=[3,3],strides=[1, 1], use_bias=False),\n",
        "    keras.layers.Conv2D(filters=256,kernel_size=[1,1],strides=[1,1], use_bias=False),\n",
        "    keras.layers.BatchNormalization(momentum=0.1),\n",
        "    keras.layers.ReLU(),\n",
        "    keras.layers.GlobalAveragePooling2D(),\n",
        "    keras.layers.Dense(units=10) #10 if silence\n",
        "])"
      ],
      "execution_count": 15,
      "outputs": []
    },
    {
      "cell_type": "markdown",
      "metadata": {
        "id": "Xcdo-vXFvZpg"
      },
      "source": [
        "##Model definition"
      ]
    },
    {
      "cell_type": "code",
      "metadata": {
        "id": "F58fd8zpvR6m"
      },
      "source": [
        "if model_type=='a':\n",
        "  model=mlp_model\n",
        "  if (mfcc==True):\n",
        "    path= './callback_val_chkp/mfcc_model_a'\n",
        "  else:\n",
        "    path= './callback_val_chkp/stft_model_a'\n",
        "\n",
        "if model_type=='b':\n",
        "  model=cnn_model\n",
        "  if (mfcc==True):\n",
        "    path= './callback_val_chkp/mfcc_model_b'\n",
        "  else:\n",
        "    path= './callback_val_chkp/stft_model_b'\n",
        "\n",
        "if model_type=='c':\n",
        "  model=ds_cnn\n",
        "  if (mfcc==True):\n",
        "    path= './callback_val_chkp/mfcc_model_c'\n",
        "  else:\n",
        "    path= './callback_val_chkp/stft_model_c'"
      ],
      "execution_count": 16,
      "outputs": []
    },
    {
      "cell_type": "code",
      "metadata": {
        "id": "DkhUmj-V46H2"
      },
      "source": [
        "\n",
        "cp_callback = keras.callbacks.ModelCheckpoint(\n",
        "    filepath=path,\n",
        "    # './callback_test_chkp/chkp_best',\n",
        "    monitor='val_accuracy',\n",
        "    verbose=0, \n",
        "    save_best_only=True,\n",
        "    # save_best_only=True,\n",
        "    save_weights_only=False,\n",
        "    mode='auto',\n",
        "    save_freq='epoch'\n",
        ")"
      ],
      "execution_count": 17,
      "outputs": []
    },
    {
      "cell_type": "markdown",
      "metadata": {
        "id": "iJQc4JTpvcfi"
      },
      "source": [
        "##Training"
      ]
    },
    {
      "cell_type": "code",
      "metadata": {
        "colab": {
          "base_uri": "https://localhost:8080/"
        },
        "id": "HITYllmYvoXx",
        "outputId": "f2a010a5-5c7b-4766-e02a-749110603543"
      },
      "source": [
        "model.compile(loss=tf.keras.losses.SparseCategoricalCrossentropy(from_logits=True) ,optimizer='adam', metrics=['accuracy'])\n",
        "model.fit(train_ds, epochs=20, validation_data=val_ds,callbacks=[cp_callback])"
      ],
      "execution_count": 18,
      "outputs": [
        {
          "output_type": "stream",
          "text": [
            "Epoch 1/20\n",
            "199/200 [============================>.] - ETA: 0s - loss: 1.6339 - accuracy: 0.4323WARNING:tensorflow:From /usr/local/lib/python3.6/dist-packages/tensorflow/python/training/tracking/tracking.py:111: Model.state_updates (from tensorflow.python.keras.engine.training) is deprecated and will be removed in a future version.\n",
            "Instructions for updating:\n",
            "This property should not be used in TensorFlow 2.0, as updates are applied automatically.\n",
            "WARNING:tensorflow:From /usr/local/lib/python3.6/dist-packages/tensorflow/python/training/tracking/tracking.py:111: Layer.updates (from tensorflow.python.keras.engine.base_layer) is deprecated and will be removed in a future version.\n",
            "Instructions for updating:\n",
            "This property should not be used in TensorFlow 2.0, as updates are applied automatically.\n",
            "INFO:tensorflow:Assets written to: ./callback_val_chkp/stft_model_a/assets\n",
            "200/200 [==============================] - 10s 51ms/step - loss: 1.6333 - accuracy: 0.4325 - val_loss: 1.5039 - val_accuracy: 0.4525\n",
            "Epoch 2/20\n",
            "200/200 [==============================] - ETA: 0s - loss: 1.0680 - accuracy: 0.6319INFO:tensorflow:Assets written to: ./callback_val_chkp/stft_model_a/assets\n",
            "200/200 [==============================] - 1s 7ms/step - loss: 1.0680 - accuracy: 0.6319 - val_loss: 1.0870 - val_accuracy: 0.6300\n",
            "Epoch 3/20\n",
            "193/200 [===========================>..] - ETA: 0s - loss: 0.7934 - accuracy: 0.7259INFO:tensorflow:Assets written to: ./callback_val_chkp/stft_model_a/assets\n",
            "200/200 [==============================] - 2s 8ms/step - loss: 0.7905 - accuracy: 0.7259 - val_loss: 1.0368 - val_accuracy: 0.6775\n",
            "Epoch 4/20\n",
            "196/200 [============================>.] - ETA: 0s - loss: 0.6211 - accuracy: 0.7758INFO:tensorflow:Assets written to: ./callback_val_chkp/stft_model_a/assets\n",
            "200/200 [==============================] - 2s 8ms/step - loss: 0.6207 - accuracy: 0.7756 - val_loss: 0.9081 - val_accuracy: 0.6938\n",
            "Epoch 5/20\n",
            "200/200 [==============================] - ETA: 0s - loss: 0.5093 - accuracy: 0.8200INFO:tensorflow:Assets written to: ./callback_val_chkp/stft_model_a/assets\n",
            "200/200 [==============================] - 2s 8ms/step - loss: 0.5093 - accuracy: 0.8200 - val_loss: 0.9328 - val_accuracy: 0.7250\n",
            "Epoch 6/20\n",
            "194/200 [============================>.] - ETA: 0s - loss: 0.4401 - accuracy: 0.8425INFO:tensorflow:Assets written to: ./callback_val_chkp/stft_model_a/assets\n",
            "200/200 [==============================] - 2s 8ms/step - loss: 0.4385 - accuracy: 0.8422 - val_loss: 1.0029 - val_accuracy: 0.7400\n",
            "Epoch 7/20\n",
            "200/200 [==============================] - 1s 5ms/step - loss: 0.3737 - accuracy: 0.8703 - val_loss: 1.1782 - val_accuracy: 0.7150\n",
            "Epoch 8/20\n",
            "200/200 [==============================] - 1s 5ms/step - loss: 0.3465 - accuracy: 0.8842 - val_loss: 1.1019 - val_accuracy: 0.7275\n",
            "Epoch 9/20\n",
            "199/200 [============================>.] - ETA: 0s - loss: 0.3005 - accuracy: 0.8960INFO:tensorflow:Assets written to: ./callback_val_chkp/stft_model_a/assets\n",
            "200/200 [==============================] - 2s 8ms/step - loss: 0.3002 - accuracy: 0.8961 - val_loss: 1.0765 - val_accuracy: 0.7625\n",
            "Epoch 10/20\n",
            "200/200 [==============================] - 1s 5ms/step - loss: 0.2482 - accuracy: 0.9173 - val_loss: 1.3941 - val_accuracy: 0.7150\n",
            "Epoch 11/20\n",
            "200/200 [==============================] - 1s 5ms/step - loss: 0.2602 - accuracy: 0.9109 - val_loss: 1.1792 - val_accuracy: 0.7412\n",
            "Epoch 12/20\n",
            "190/200 [===========================>..] - ETA: 0s - loss: 0.2079 - accuracy: 0.9312INFO:tensorflow:Assets written to: ./callback_val_chkp/stft_model_a/assets\n",
            "200/200 [==============================] - 2s 8ms/step - loss: 0.2033 - accuracy: 0.9327 - val_loss: 1.1299 - val_accuracy: 0.7875\n",
            "Epoch 13/20\n",
            "200/200 [==============================] - 1s 5ms/step - loss: 0.1666 - accuracy: 0.9466 - val_loss: 1.2362 - val_accuracy: 0.7800\n",
            "Epoch 14/20\n",
            "200/200 [==============================] - 1s 5ms/step - loss: 0.2298 - accuracy: 0.9264 - val_loss: 1.2283 - val_accuracy: 0.7450\n",
            "Epoch 15/20\n",
            "200/200 [==============================] - 1s 5ms/step - loss: 0.1912 - accuracy: 0.9394 - val_loss: 1.2332 - val_accuracy: 0.7650\n",
            "Epoch 16/20\n",
            "200/200 [==============================] - 1s 5ms/step - loss: 0.1727 - accuracy: 0.9475 - val_loss: 1.4656 - val_accuracy: 0.7550\n",
            "Epoch 17/20\n",
            "200/200 [==============================] - 1s 5ms/step - loss: 0.1114 - accuracy: 0.9642 - val_loss: 1.4452 - val_accuracy: 0.7700\n",
            "Epoch 18/20\n",
            "200/200 [==============================] - 1s 5ms/step - loss: 0.1533 - accuracy: 0.9558 - val_loss: 1.7013 - val_accuracy: 0.7287\n",
            "Epoch 19/20\n",
            "200/200 [==============================] - 1s 5ms/step - loss: 0.1371 - accuracy: 0.9584 - val_loss: 1.4934 - val_accuracy: 0.7450\n",
            "Epoch 20/20\n",
            "200/200 [==============================] - 1s 5ms/step - loss: 0.1589 - accuracy: 0.9498 - val_loss: 1.3547 - val_accuracy: 0.7638\n"
          ],
          "name": "stdout"
        },
        {
          "output_type": "execute_result",
          "data": {
            "text/plain": [
              "<tensorflow.python.keras.callbacks.History at 0x7f2f058d9710>"
            ]
          },
          "metadata": {
            "tags": []
          },
          "execution_count": 18
        }
      ]
    },
    {
      "cell_type": "markdown",
      "metadata": {
        "id": "v21zw4Wsv80_"
      },
      "source": [
        "##Validation"
      ]
    },
    {
      "cell_type": "code",
      "metadata": {
        "colab": {
          "base_uri": "https://localhost:8080/"
        },
        "id": "uO2bgmjMv2lP",
        "outputId": "87a990ba-0c1f-4c64-ea81-afdc5b75aa49"
      },
      "source": [
        "#model evaluation on validation set\n",
        "val_accuracy= mlp_model.evaluate(val_ds)"
      ],
      "execution_count": 19,
      "outputs": [
        {
          "output_type": "stream",
          "text": [
            "25/25 [==============================] - 0s 2ms/step - loss: 1.3547 - accuracy: 0.7638\n"
          ],
          "name": "stdout"
        }
      ]
    },
    {
      "cell_type": "markdown",
      "metadata": {
        "id": "qD20dg20wWZ9"
      },
      "source": [
        "##Testing"
      ]
    },
    {
      "cell_type": "code",
      "metadata": {
        "colab": {
          "base_uri": "https://localhost:8080/"
        },
        "id": "sxS4hbZdwal-",
        "outputId": "73fc3809-6264-45f1-d89e-397398abd2fb"
      },
      "source": [
        "test_accuracy= mlp_model.evaluate(test_ds)"
      ],
      "execution_count": 20,
      "outputs": [
        {
          "output_type": "stream",
          "text": [
            "25/25 [==============================] - 2s 70ms/step - loss: 1.2852 - accuracy: 0.7725\n"
          ],
          "name": "stdout"
        }
      ]
    },
    {
      "cell_type": "markdown",
      "metadata": {
        "id": "iIckUXuaw95G"
      },
      "source": [
        "##*tflite* conversion, size and latency measurement"
      ]
    },
    {
      "cell_type": "markdown",
      "metadata": {
        "id": "DBoOxTEXxHMd"
      },
      "source": [
        "##tflite conversion"
      ]
    },
    {
      "cell_type": "code",
      "metadata": {
        "id": "uB8OtLPgxM1L"
      },
      "source": [
        "ROOT_DIR=\"./callback_val_chkp/\"\n",
        "tflite_models= ROOT_DIR + \"tfliteModels/\"\n",
        "!mkdir ./callback_val_chkp/tfliteModels\n",
        "\n",
        "if model_type=='a':\n",
        "  if (mfcc==True):\n",
        "    saved_model_dir= ROOT_DIR +\"mfcc_model_a\"\n",
        "    tflite_model_dir= tflite_models + \"model_a\"\n",
        "  else:\n",
        "    saved_model_dir= ROOT_DIR +\"stft_model_a\"\n",
        "    tflite_model_dir= tflite_models + \"model_a\"\n",
        "  \n",
        "\n",
        "if model_type=='b':\n",
        "  if (mfcc==True):\n",
        "    saved_model_dir= ROOT_DIR +\"mfcc_model_b\"\n",
        "    tflite_model_dir= tflite_models + \"model_b\"\n",
        "  else:\n",
        "    saved_model_dir= ROOT_DIR +\"stft_model_b\"\n",
        "    tflite_model_dir= tflite_models + \"model_b\"\n",
        "\n",
        "if model_type=='c':\n",
        "  if (mfcc==True):\n",
        "    saved_model_dir= ROOT_DIR +\"mfcc_model_c\"\n",
        "    tflite_model_dir= tflite_models + \"model_a\"\n",
        "  else:\n",
        "    saved_model_dir= ROOT_DIR +\"stft_model_c\"\n",
        "    tflite_model_dir= tflite_models + \"model_a\"\n",
        "\n",
        "\n",
        "converter=tf.lite.TFLiteConverter.from_saved_model(saved_model_dir)\n",
        "tflite_model=converter.convert()\n",
        "\n",
        "with open(tflite_model_dir, \"wb\") as fp:\n",
        "  fp.write(tflite_model)"
      ],
      "execution_count": 21,
      "outputs": []
    },
    {
      "cell_type": "markdown",
      "metadata": {
        "id": "3CH-bOBg2Xy7"
      },
      "source": [
        "##Size measurement"
      ]
    },
    {
      "cell_type": "code",
      "metadata": {
        "colab": {
          "base_uri": "https://localhost:8080/"
        },
        "id": "XiHV3SYH2Sl2",
        "outputId": "77cd6b45-322e-4097-d1eb-fdbb8b802778"
      },
      "source": [
        "os.path.getsize(tflite_model_dir)"
      ],
      "execution_count": 22,
      "outputs": [
        {
          "output_type": "execute_result",
          "data": {
            "text/plain": [
              "1588824"
            ]
          },
          "metadata": {
            "tags": []
          },
          "execution_count": 22
        }
      ]
    },
    {
      "cell_type": "markdown",
      "metadata": {
        "id": "aWuqE4rknUA6"
      },
      "source": [
        "##Latency measurement"
      ]
    },
    {
      "cell_type": "code",
      "metadata": {
        "colab": {
          "base_uri": "https://localhost:8080/"
        },
        "id": "3tVik05Kn2nB",
        "outputId": "d133e393-edcd-4fbe-a27d-3fb5b657280c"
      },
      "source": [
        " !python ./HMW/HMW2/kws_inference.py --model ./callback_val_chkp/tfliteModels/model_a "
      ],
      "execution_count": 23,
      "outputs": [
        {
          "output_type": "stream",
          "text": [
            "2020-12-09 14:46:19.597386: I tensorflow/stream_executor/platform/default/dso_loader.cc:48] Successfully opened dynamic library libcudart.so.10.1\n",
            "sh: 1: cannot create /sys/devices/system/cpu/cpufreq/policy0/scaling_governor: Directory nonexistent\n",
            "2020-12-09 14:46:21.759317: I tensorflow/stream_executor/platform/default/dso_loader.cc:48] Successfully opened dynamic library libcuda.so.1\n",
            "2020-12-09 14:46:21.768914: E tensorflow/stream_executor/cuda/cuda_driver.cc:314] failed call to cuInit: CUDA_ERROR_NO_DEVICE: no CUDA-capable device is detected\n",
            "2020-12-09 14:46:21.768963: I tensorflow/stream_executor/cuda/cuda_diagnostics.cc:156] kernel driver does not appear to be running on this host (eb7c776768f4): /proc/driver/nvidia/version does not exist\n",
            "2020-12-09 14:46:21.776099: I tensorflow/core/platform/profile_utils/cpu_utils.cc:104] CPU Frequency: 2300000000 Hz\n",
            "2020-12-09 14:46:21.776331: I tensorflow/compiler/xla/service/service.cc:168] XLA service 0x1e1a840 initialized for platform Host (this does not guarantee that XLA will be used). Devices:\n",
            "2020-12-09 14:46:21.776376: I tensorflow/compiler/xla/service/service.cc:176]   StreamExecutor device (0): Host, Default Version\n",
            "Inference Latency 0.19ms\n",
            "Total Latency 42.91ms\n"
          ],
          "name": "stdout"
        }
      ]
    }
  ]
}