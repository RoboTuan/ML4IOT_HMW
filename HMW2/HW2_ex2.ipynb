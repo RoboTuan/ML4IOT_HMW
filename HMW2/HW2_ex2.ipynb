{
  "nbformat": 4,
  "nbformat_minor": 0,
  "metadata": {
    "colab": {
      "name": "HW2_ex2.ipynb",
      "provenance": [],
      "toc_visible": true,
      "authorship_tag": "ABX9TyP8Hjl2HbKFWdSDis9XtMFU",
      "include_colab_link": true
    },
    "kernelspec": {
      "name": "python3",
      "display_name": "Python 3"
    }
  },
  "cells": [
    {
      "cell_type": "markdown",
      "metadata": {
        "id": "view-in-github",
        "colab_type": "text"
      },
      "source": [
        "<a href=\"https://colab.research.google.com/github/RoboTuan/ML4IOT_HMW/blob/main/HMW2/HW2_ex2.ipynb\" target=\"_parent\"><img src=\"https://colab.research.google.com/assets/colab-badge.svg\" alt=\"Open In Colab\"/></a>"
      ]
    },
    {
      "cell_type": "code",
      "metadata": {
        "colab": {
          "base_uri": "https://localhost:8080/"
        },
        "id": "EtNsmv43APVI",
        "outputId": "541e4724-8117-4787-ca1d-9a57d4c33017"
      },
      "source": [
        " pip install -q tensorflow-model-optimization"
      ],
      "execution_count": 1,
      "outputs": [
        {
          "output_type": "stream",
          "text": [
            "\u001b[?25l\r\u001b[K     |██                              | 10kB 21.2MB/s eta 0:00:01\r\u001b[K     |███▉                            | 20kB 26.3MB/s eta 0:00:01\r\u001b[K     |█████▊                          | 30kB 12.0MB/s eta 0:00:01\r\u001b[K     |███████▋                        | 40kB 9.1MB/s eta 0:00:01\r\u001b[K     |█████████▌                      | 51kB 4.4MB/s eta 0:00:01\r\u001b[K     |███████████▍                    | 61kB 5.0MB/s eta 0:00:01\r\u001b[K     |█████████████▎                  | 71kB 5.1MB/s eta 0:00:01\r\u001b[K     |███████████████▏                | 81kB 5.5MB/s eta 0:00:01\r\u001b[K     |█████████████████               | 92kB 5.8MB/s eta 0:00:01\r\u001b[K     |███████████████████             | 102kB 6.1MB/s eta 0:00:01\r\u001b[K     |████████████████████▉           | 112kB 6.1MB/s eta 0:00:01\r\u001b[K     |██████████████████████▊         | 122kB 6.1MB/s eta 0:00:01\r\u001b[K     |████████████████████████▊       | 133kB 6.1MB/s eta 0:00:01\r\u001b[K     |██████████████████████████▋     | 143kB 6.1MB/s eta 0:00:01\r\u001b[K     |████████████████████████████▌   | 153kB 6.1MB/s eta 0:00:01\r\u001b[K     |██████████████████████████████▍ | 163kB 6.1MB/s eta 0:00:01\r\u001b[K     |████████████████████████████████| 174kB 6.1MB/s \n",
            "\u001b[?25h"
          ],
          "name": "stdout"
        }
      ]
    },
    {
      "cell_type": "code",
      "metadata": {
        "id": "jCB53wPLLWaR"
      },
      "source": [
        "import tensorflow as tf\n",
        "import numpy as np\n",
        "from tensorflow import keras\n",
        "import pandas as pd\n",
        "import matplotlib.pyplot as plt\n",
        "import os\n",
        "from zipfile import ZipFile\n",
        "import tensorflow_model_optimization as tfmot\n",
        "from tensorflow_model_optimization.python.core.api.sparsity import keras as sparsity\n",
        "import zlib\n",
        "\n"
      ],
      "execution_count": 2,
      "outputs": []
    },
    {
      "cell_type": "code",
      "metadata": {
        "colab": {
          "base_uri": "https://localhost:8080/"
        },
        "id": "ZNmNFu8Mjsxl",
        "outputId": "ab546826-effb-4dff-a6c1-c9bbe959f59b"
      },
      "source": [
        "if not os.path.isdir('./HMW'):\n",
        "  !git clone \"https://github.com/RoboTuan/ML4IOT_HMW.git\"  \n",
        "  !mv 'ML4IOT_HMW' 'HMW'\n",
        "\n",
        "ROOT_DIR = 'HMW/HMW2/'\n",
        "tflite_models=ROOT_DIR + \"tflite_models/\""
      ],
      "execution_count": 3,
      "outputs": [
        {
          "output_type": "stream",
          "text": [
            "Cloning into 'ML4IOT_HMW'...\n",
            "remote: Enumerating objects: 170, done.\u001b[K\n",
            "remote: Counting objects: 100% (170/170), done.\u001b[K\n",
            "remote: Compressing objects: 100% (145/145), done.\u001b[K\n",
            "remote: Total 170 (delta 93), reused 62 (delta 19), pack-reused 0\u001b[K\n",
            "Receiving objects: 100% (170/170), 1.30 MiB | 17.05 MiB/s, done.\n",
            "Resolving deltas: 100% (93/93), done.\n"
          ],
          "name": "stdout"
        }
      ]
    },
    {
      "cell_type": "code",
      "metadata": {
        "id": "p-26mjjDSR1F"
      },
      "source": [
        "#parser = argparse.ArgumentParser()\n",
        "#parser.add_argument('--version', type=str, required=True, help='a,b or c')\n",
        "#parser.add_argument('--mfcc', action='store_true', help='use MFCCs')\n",
        "#args = parser.parse_args()\n",
        "\n",
        "model_type='c' #args.version\n",
        "mfcc=True"
      ],
      "execution_count": 4,
      "outputs": []
    },
    {
      "cell_type": "code",
      "metadata": {
        "id": "_Zq_UW3o1R7a"
      },
      "source": [
        ""
      ],
      "execution_count": 4,
      "outputs": []
    },
    {
      "cell_type": "code",
      "metadata": {
        "id": "1hTzDTlo1SCr"
      },
      "source": [
        ""
      ],
      "execution_count": 4,
      "outputs": []
    },
    {
      "cell_type": "code",
      "metadata": {
        "id": "X7K0B4RTTkNI"
      },
      "source": [
        "seed = 42\n",
        "tf.random.set_seed(seed)\n",
        "np.random.seed(seed)"
      ],
      "execution_count": 5,
      "outputs": []
    },
    {
      "cell_type": "code",
      "metadata": {
        "id": "EFbVU7mgTmr5",
        "colab": {
          "base_uri": "https://localhost:8080/"
        },
        "outputId": "bdb1a252-bc32-4806-d864-4da3aaddb1c1"
      },
      "source": [
        "zip_path = tf.keras.utils.get_file(\n",
        "        origin=\"http://storage.googleapis.com/download.tensorflow.org/data/mini_speech_commands.zip\",\n",
        "        fname='mini_speech_commands.zip',\n",
        "        extract=True,\n",
        "        cache_dir='.', cache_subdir='data')\n",
        "data_dir = os.path.join('.', 'data', 'mini_speech_commands')\n",
        "filenames = tf.io.gfile.glob(str(data_dir) + '/*/*')\n",
        "filenames = tf.random.shuffle(filenames)\n",
        "num_samples = len(filenames)\n",
        "total = 8000"
      ],
      "execution_count": 6,
      "outputs": [
        {
          "output_type": "stream",
          "text": [
            "Downloading data from http://storage.googleapis.com/download.tensorflow.org/data/mini_speech_commands.zip\n",
            "182083584/182082353 [==============================] - 1s 0us/step\n"
          ],
          "name": "stdout"
        }
      ]
    },
    {
      "cell_type": "code",
      "metadata": {
        "id": "mmen3RxJWUE7"
      },
      "source": [
        "train =  tf.convert_to_tensor(pd.read_csv('https://raw.githubusercontent.com/RoboTuan/ML4IOT_HMW/main/HMW2/kws_train_split.txt', header=None))\n",
        "validation =  tf.convert_to_tensor(pd.read_csv('https://raw.githubusercontent.com/RoboTuan/ML4IOT_HMW/main/HMW2/kws_val_split.txt', header=None))\n",
        "test =  tf.convert_to_tensor(pd.read_csv('https://raw.githubusercontent.com/RoboTuan/ML4IOT_HMW/main/HMW2/kws_test_split.txt', header=None))\n",
        "\n",
        "train= tf.squeeze(train)\n",
        "validation= tf.squeeze(validation)\n",
        "test= tf.squeeze(test)\n"
      ],
      "execution_count": 7,
      "outputs": []
    },
    {
      "cell_type": "code",
      "metadata": {
        "id": "O46MZr_UV8sM"
      },
      "source": [
        "train_files = train\n",
        "val_files = validation\n",
        "test_files = test"
      ],
      "execution_count": 8,
      "outputs": []
    },
    {
      "cell_type": "code",
      "metadata": {
        "id": "j-MfBnKZcfEF"
      },
      "source": [
        "LABELS = np.array(tf.io.gfile.listdir(str(data_dir)))\n",
        "LABELS = LABELS[LABELS != 'README.md']"
      ],
      "execution_count": 9,
      "outputs": []
    },
    {
      "cell_type": "code",
      "metadata": {
        "id": "C1HWKgl4cgGs"
      },
      "source": [
        "class SignalGenerator:\n",
        "    def __init__(self, labels, sampling_rate, frame_length, frame_step,\n",
        "            num_mel_bins=None, lower_frequency=None, upper_frequency=None,\n",
        "            num_coefficients=None, mfcc=False):\n",
        "        self.labels = labels\n",
        "        self.sampling_rate = sampling_rate\n",
        "        self.frame_length = frame_length\n",
        "        self.frame_step = frame_step\n",
        "        self.num_mel_bins = num_mel_bins\n",
        "        self.lower_frequency = lower_frequency\n",
        "        self.upper_frequency = upper_frequency\n",
        "        self.num_coefficients = num_coefficients\n",
        "        num_spectrogram_bins = (frame_length) // 2 + 1\n",
        "\n",
        "        if mfcc is True:\n",
        "            self.linear_to_mel_weight_matrix = tf.signal.linear_to_mel_weight_matrix(\n",
        "                    self.num_mel_bins, num_spectrogram_bins, self.sampling_rate,\n",
        "                    self.lower_frequency, self.upper_frequency)\n",
        "            self.preprocess = self.preprocess_with_mfcc\n",
        "        else:\n",
        "            self.preprocess = self.preprocess_with_stft\n",
        "\n",
        "    def read(self, file_path):\n",
        "        parts = tf.strings.split(file_path, os.path.sep)\n",
        "        label = parts[-2]\n",
        "        label_id = tf.argmax(label == self.labels)\n",
        "        audio_binary = tf.io.read_file(file_path)\n",
        "        audio, _ = tf.audio.decode_wav(audio_binary)\n",
        "        audio = tf.squeeze(audio, axis=1)\n",
        "\n",
        "        return audio, label_id\n",
        "\n",
        "    def pad(self, audio):\n",
        "        zero_padding = tf.zeros([self.sampling_rate] - tf.shape(audio), dtype=tf.float32)\n",
        "        audio = tf.concat([audio, zero_padding], 0)\n",
        "        audio.set_shape([self.sampling_rate])\n",
        "\n",
        "        return audio\n",
        "    def get_spectrogram(self, audio):\n",
        "        stft = tf.signal.stft(audio, frame_length=self.frame_length,\n",
        "                frame_step=self.frame_step, fft_length=self.frame_length)\n",
        "        spectrogram = tf.abs(stft)\n",
        "\n",
        "        return spectrogram\n",
        "\n",
        "    def get_mfccs(self, spectrogram):\n",
        "        mel_spectrogram = tf.tensordot(spectrogram,\n",
        "                self.linear_to_mel_weight_matrix, 1)\n",
        "        log_mel_spectrogram = tf.math.log(mel_spectrogram + 1.e-6)\n",
        "        mfccs = tf.signal.mfccs_from_log_mel_spectrograms(log_mel_spectrogram)\n",
        "        mfccs = mfccs[..., :self.num_coefficients]\n",
        "\n",
        "        return mfccs\n",
        "\n",
        "    def preprocess_with_stft(self, file_path):\n",
        "        audio, label = self.read(file_path)\n",
        "        audio = self.pad(audio)\n",
        "        spectrogram = self.get_spectrogram(audio)\n",
        "        spectrogram = tf.expand_dims(spectrogram, -1)\n",
        "        spectrogram = tf.image.resize(spectrogram, [32, 32])\n",
        "\n",
        "        return spectrogram, label\n",
        "\n",
        "    def preprocess_with_mfcc(self, file_path):\n",
        "        audio, label = self.read(file_path)\n",
        "        audio = self.pad(audio)\n",
        "        spectrogram = self.get_spectrogram(audio)\n",
        "        mfccs = self.get_mfccs(spectrogram)\n",
        "        mfccs = tf.expand_dims(mfccs, -1)\n",
        "\n",
        "        return mfccs, label\n",
        "\n",
        "    def make_dataset(self, files, train):\n",
        "        ds = tf.data.Dataset.from_tensor_slices(files)\n",
        "        ds = ds.map(self.preprocess, num_parallel_calls=4)\n",
        "        ds = ds.batch(32)\n",
        "        ds = ds.cache()\n",
        "        if train is True:\n",
        "            ds = ds.shuffle(100, reshuffle_each_iteration=True)\n",
        "\n",
        "        return ds\n",
        "    \n",
        "\n"
      ],
      "execution_count": 10,
      "outputs": []
    },
    {
      "cell_type": "code",
      "metadata": {
        "id": "uF2ceXoTc6X_"
      },
      "source": [
        "STFT_OPTIONS = {'frame_length': 256, 'frame_step': 128, 'mfcc': False}\n",
        "MFCC_OPTIONS = {'frame_length': 640, 'frame_step': 320, 'mfcc': True,\n",
        "        'lower_frequency': 20, 'upper_frequency': 4000, 'num_mel_bins': 40,\n",
        "        'num_coefficients': 10}"
      ],
      "execution_count": 11,
      "outputs": []
    },
    {
      "cell_type": "code",
      "metadata": {
        "id": "6mpDzH9GdmBs"
      },
      "source": [
        "#if args.mfcc is True:\n",
        "if mfcc is True:\n",
        "    options = MFCC_OPTIONS\n",
        "    strides = [2, 1]\n",
        "else:\n",
        "    options = STFT_OPTIONS\n",
        "    strides = [2, 2]"
      ],
      "execution_count": 12,
      "outputs": []
    },
    {
      "cell_type": "code",
      "metadata": {
        "id": "Tg8Cg36tdrLd"
      },
      "source": [
        "generator = SignalGenerator(LABELS, 16000, **options)\n",
        "train_ds = generator.make_dataset(train_files, True)\n",
        "val_ds = generator.make_dataset(val_files, False)\n",
        "test_ds = generator.make_dataset(test_files, False)\n",
        "units=8"
      ],
      "execution_count": 13,
      "outputs": []
    },
    {
      "cell_type": "markdown",
      "metadata": {
        "id": "u6ue7OwCvSg-"
      },
      "source": [
        "#Model"
      ]
    },
    {
      "cell_type": "markdown",
      "metadata": {
        "id": "-j7vRZkLziid"
      },
      "source": [
        "##Model A"
      ]
    },
    {
      "cell_type": "code",
      "metadata": {
        "id": "2lcrcEETzlox"
      },
      "source": [
        "#MLP Model definition\n",
        "mlp_model = keras.Sequential([\n",
        "    keras.layers.Flatten(),\n",
        "    keras.layers.Dense(units=256, activation='relu'),\n",
        "    keras.layers.Dense(units=256, activation='relu'),\n",
        "    keras.layers.Dense(units=256, activation='relu'),\n",
        "    keras.layers.Dense(units=8) #if silence 10\n",
        "])"
      ],
      "execution_count": 14,
      "outputs": []
    },
    {
      "cell_type": "markdown",
      "metadata": {
        "id": "sjtKHmqJzmPH"
      },
      "source": [
        "##Model B"
      ]
    },
    {
      "cell_type": "code",
      "metadata": {
        "id": "PXmdPXRyznwO"
      },
      "source": [
        "#CNN_2D Model definition\n",
        "\n",
        "cnn_model = keras.Sequential([\n",
        "    keras.layers.Conv2D(filters=128,kernel_size=[3,3],strides=strides, use_bias=False),\n",
        "    keras.layers.BatchNormalization(momentum=0.1),\n",
        "    keras.layers.ReLU(),\n",
        "    keras.layers.Conv2D(filters=128,kernel_size=[3,3],strides=strides, use_bias=False),\n",
        "    keras.layers.BatchNormalization(momentum=0.1),\n",
        "    keras.layers.ReLU(),\n",
        "    keras.layers.Conv2D(filters=128,kernel_size=[3,3],strides=strides, use_bias=False),\n",
        "    keras.layers.BatchNormalization(momentum=0.1),\n",
        "    keras.layers.ReLU(),\n",
        "    keras.layers.GlobalAveragePooling2D(),\n",
        "    keras.layers.Dense(units=8) #10 if silence\n",
        "])"
      ],
      "execution_count": 15,
      "outputs": []
    },
    {
      "cell_type": "markdown",
      "metadata": {
        "id": "FKkktzv2zoWx"
      },
      "source": [
        "##Model C"
      ]
    },
    {
      "cell_type": "code",
      "metadata": {
        "id": "vgNVG-jzzsUk"
      },
      "source": [
        "ds_cnn_model = keras.Sequential([\n",
        "    keras.layers.Conv2D(filters=256,kernel_size=[3,3],strides=strides, use_bias=False),\n",
        "    keras.layers.BatchNormalization(momentum=0.1),\n",
        "    keras.layers.ReLU(),\n",
        "    keras.layers.DepthwiseConv2D(kernel_size=[3,3],strides=[1, 1], use_bias=False),\n",
        "    keras.layers.Conv2D(filters=256,kernel_size=[1,1],strides=[1,1], use_bias=False),\n",
        "    keras.layers.BatchNormalization(momentum=0.1),\n",
        "    keras.layers.ReLU(),\n",
        "    keras.layers.DepthwiseConv2D(kernel_size=[3,3],strides=[1, 1], use_bias=False),\n",
        "    keras.layers.Conv2D(filters=256,kernel_size=[1,1],strides=[1,1], use_bias=False),\n",
        "    keras.layers.BatchNormalization(momentum=0.1),\n",
        "    keras.layers.ReLU(),\n",
        "    keras.layers.GlobalAveragePooling2D(),\n",
        "    keras.layers.Dense(units=8) #10 if silence else 8\n",
        "])"
      ],
      "execution_count": 16,
      "outputs": []
    },
    {
      "cell_type": "markdown",
      "metadata": {
        "id": "Xcdo-vXFvZpg"
      },
      "source": [
        "##Model definition"
      ]
    },
    {
      "cell_type": "code",
      "metadata": {
        "id": "F58fd8zpvR6m"
      },
      "source": [
        "if model_type=='a':\n",
        "  model=mlp_model\n",
        "  if (mfcc==True):\n",
        "    path= './callback_val_chkp/mfcc_model_a'\n",
        "  else:\n",
        "    path= './callback_val_chkp/stft_model_a'\n",
        "\n",
        "if model_type=='b':\n",
        "  model=cnn_model\n",
        "  if (mfcc==True):\n",
        "    path= './callback_val_chkp/mfcc_model_b'\n",
        "  else:\n",
        "    path= './callback_val_chkp/stft_model_b'\n",
        "\n",
        "if model_type=='c':\n",
        "  model=ds_cnn_model\n",
        "  if (mfcc==True):\n",
        "    path= './callback_val_chkp/mfcc_model_c'\n",
        "  else:\n",
        "    path= './callback_val_chkp/stft_model_c'"
      ],
      "execution_count": 17,
      "outputs": []
    },
    {
      "cell_type": "code",
      "metadata": {
        "id": "DkhUmj-V46H2"
      },
      "source": [
        "\n",
        "cp_callback = keras.callbacks.ModelCheckpoint(\n",
        "    filepath=path,\n",
        "    # './callback_test_chkp/chkp_best',\n",
        "    monitor='val_accuracy',\n",
        "    verbose=0, \n",
        "    save_best_only=True,\n",
        "    # save_best_only=True,\n",
        "    save_weights_only=False,\n",
        "    mode='auto',\n",
        "    save_freq='epoch'\n",
        ")"
      ],
      "execution_count": 18,
      "outputs": []
    },
    {
      "cell_type": "markdown",
      "metadata": {
        "id": "iJQc4JTpvcfi"
      },
      "source": [
        "##Training"
      ]
    },
    {
      "cell_type": "code",
      "metadata": {
        "colab": {
          "base_uri": "https://localhost:8080/"
        },
        "id": "HITYllmYvoXx",
        "outputId": "14b7d4fb-ffe0-4d3d-d52b-0267c421a16b"
      },
      "source": [
        "model.compile(loss=tf.keras.losses.SparseCategoricalCrossentropy(from_logits=True) ,optimizer='adam', metrics=['accuracy'])\n",
        "model.fit(train_ds, epochs=20, validation_data=val_ds,callbacks=[cp_callback])"
      ],
      "execution_count": 19,
      "outputs": [
        {
          "output_type": "stream",
          "text": [
            "Epoch 1/20\n",
            "200/200 [==============================] - ETA: 0s - loss: 1.2274 - accuracy: 0.6161WARNING:tensorflow:From /usr/local/lib/python3.6/dist-packages/tensorflow/python/training/tracking/tracking.py:111: Model.state_updates (from tensorflow.python.keras.engine.training) is deprecated and will be removed in a future version.\n",
            "Instructions for updating:\n",
            "This property should not be used in TensorFlow 2.0, as updates are applied automatically.\n",
            "WARNING:tensorflow:From /usr/local/lib/python3.6/dist-packages/tensorflow/python/training/tracking/tracking.py:111: Layer.updates (from tensorflow.python.keras.engine.base_layer) is deprecated and will be removed in a future version.\n",
            "Instructions for updating:\n",
            "This property should not be used in TensorFlow 2.0, as updates are applied automatically.\n",
            "INFO:tensorflow:Assets written to: ./callback_val_chkp/mfcc_model_c/assets\n",
            "200/200 [==============================] - 120s 599ms/step - loss: 1.2274 - accuracy: 0.6161 - val_loss: 0.7595 - val_accuracy: 0.7663\n",
            "Epoch 2/20\n",
            "200/200 [==============================] - ETA: 0s - loss: 0.6110 - accuracy: 0.8338INFO:tensorflow:Assets written to: ./callback_val_chkp/mfcc_model_c/assets\n",
            "200/200 [==============================] - 28s 141ms/step - loss: 0.6110 - accuracy: 0.8338 - val_loss: 0.4725 - val_accuracy: 0.8612\n",
            "Epoch 3/20\n",
            "200/200 [==============================] - ETA: 0s - loss: 0.4263 - accuracy: 0.8789INFO:tensorflow:Assets written to: ./callback_val_chkp/mfcc_model_c/assets\n",
            "200/200 [==============================] - 28s 141ms/step - loss: 0.4263 - accuracy: 0.8789 - val_loss: 0.4064 - val_accuracy: 0.8737\n",
            "Epoch 4/20\n",
            "200/200 [==============================] - ETA: 0s - loss: 0.3343 - accuracy: 0.9059INFO:tensorflow:Assets written to: ./callback_val_chkp/mfcc_model_c/assets\n",
            "200/200 [==============================] - 28s 142ms/step - loss: 0.3343 - accuracy: 0.9059 - val_loss: 0.3872 - val_accuracy: 0.8825\n",
            "Epoch 5/20\n",
            "200/200 [==============================] - ETA: 0s - loss: 0.2895 - accuracy: 0.9162INFO:tensorflow:Assets written to: ./callback_val_chkp/mfcc_model_c/assets\n",
            "200/200 [==============================] - 28s 142ms/step - loss: 0.2895 - accuracy: 0.9162 - val_loss: 0.2862 - val_accuracy: 0.9187\n",
            "Epoch 6/20\n",
            "200/200 [==============================] - 27s 133ms/step - loss: 0.2468 - accuracy: 0.9294 - val_loss: 0.3197 - val_accuracy: 0.9000\n",
            "Epoch 7/20\n",
            "200/200 [==============================] - ETA: 0s - loss: 0.2105 - accuracy: 0.9397INFO:tensorflow:Assets written to: ./callback_val_chkp/mfcc_model_c/assets\n",
            "200/200 [==============================] - 28s 142ms/step - loss: 0.2105 - accuracy: 0.9397 - val_loss: 0.2749 - val_accuracy: 0.9212\n",
            "Epoch 8/20\n",
            "200/200 [==============================] - ETA: 0s - loss: 0.1882 - accuracy: 0.9459INFO:tensorflow:Assets written to: ./callback_val_chkp/mfcc_model_c/assets\n",
            "200/200 [==============================] - 34s 170ms/step - loss: 0.1882 - accuracy: 0.9459 - val_loss: 0.2337 - val_accuracy: 0.9312\n",
            "Epoch 9/20\n",
            "200/200 [==============================] - 27s 134ms/step - loss: 0.1660 - accuracy: 0.9519 - val_loss: 0.2398 - val_accuracy: 0.9275\n",
            "Epoch 10/20\n",
            "200/200 [==============================] - 27s 133ms/step - loss: 0.1475 - accuracy: 0.9572 - val_loss: 0.2471 - val_accuracy: 0.9212\n",
            "Epoch 11/20\n",
            "200/200 [==============================] - 27s 134ms/step - loss: 0.1337 - accuracy: 0.9617 - val_loss: 0.2423 - val_accuracy: 0.9300\n",
            "Epoch 12/20\n",
            "200/200 [==============================] - 27s 133ms/step - loss: 0.1193 - accuracy: 0.9656 - val_loss: 0.2613 - val_accuracy: 0.9137\n",
            "Epoch 13/20\n",
            "200/200 [==============================] - 27s 134ms/step - loss: 0.1035 - accuracy: 0.9737 - val_loss: 0.2534 - val_accuracy: 0.9262\n",
            "Epoch 14/20\n",
            "200/200 [==============================] - 27s 134ms/step - loss: 0.0974 - accuracy: 0.9722 - val_loss: 0.2627 - val_accuracy: 0.9162\n",
            "Epoch 15/20\n",
            "200/200 [==============================] - 27s 133ms/step - loss: 0.0798 - accuracy: 0.9794 - val_loss: 0.2245 - val_accuracy: 0.9262\n",
            "Epoch 16/20\n",
            "200/200 [==============================] - 27s 133ms/step - loss: 0.0757 - accuracy: 0.9795 - val_loss: 0.2590 - val_accuracy: 0.9137\n",
            "Epoch 17/20\n",
            "200/200 [==============================] - ETA: 0s - loss: 0.0723 - accuracy: 0.9797INFO:tensorflow:Assets written to: ./callback_val_chkp/mfcc_model_c/assets\n",
            "200/200 [==============================] - 28s 142ms/step - loss: 0.0723 - accuracy: 0.9797 - val_loss: 0.2118 - val_accuracy: 0.9350\n",
            "Epoch 18/20\n",
            "200/200 [==============================] - 27s 134ms/step - loss: 0.0548 - accuracy: 0.9872 - val_loss: 0.3265 - val_accuracy: 0.9100\n",
            "Epoch 19/20\n",
            "200/200 [==============================] - 27s 134ms/step - loss: 0.0587 - accuracy: 0.9862 - val_loss: 0.2400 - val_accuracy: 0.9300\n",
            "Epoch 20/20\n",
            "200/200 [==============================] - 27s 134ms/step - loss: 0.0465 - accuracy: 0.9894 - val_loss: 0.2543 - val_accuracy: 0.9287\n"
          ],
          "name": "stdout"
        },
        {
          "output_type": "execute_result",
          "data": {
            "text/plain": [
              "<tensorflow.python.keras.callbacks.History at 0x7f4269145630>"
            ]
          },
          "metadata": {
            "tags": []
          },
          "execution_count": 19
        }
      ]
    },
    {
      "cell_type": "markdown",
      "metadata": {
        "id": "v21zw4Wsv80_"
      },
      "source": [
        "##Validation"
      ]
    },
    {
      "cell_type": "code",
      "metadata": {
        "colab": {
          "base_uri": "https://localhost:8080/"
        },
        "id": "uO2bgmjMv2lP",
        "outputId": "ee9b2578-3b48-4bfe-d1ba-165109a0ea70"
      },
      "source": [
        "#model evaluation on validation set\n",
        "val_accuracy= model.evaluate(val_ds)"
      ],
      "execution_count": 20,
      "outputs": [
        {
          "output_type": "stream",
          "text": [
            "25/25 [==============================] - 1s 32ms/step - loss: 0.2543 - accuracy: 0.9287\n"
          ],
          "name": "stdout"
        }
      ]
    },
    {
      "cell_type": "markdown",
      "metadata": {
        "id": "qD20dg20wWZ9"
      },
      "source": [
        "##Testing"
      ]
    },
    {
      "cell_type": "code",
      "metadata": {
        "colab": {
          "base_uri": "https://localhost:8080/"
        },
        "id": "sxS4hbZdwal-",
        "outputId": "2cd51976-7397-48c8-f44d-baa7f2c8ba2b"
      },
      "source": [
        "test_accuracy= model.evaluate(test_ds)"
      ],
      "execution_count": 21,
      "outputs": [
        {
          "output_type": "stream",
          "text": [
            "25/25 [==============================] - 18s 739ms/step - loss: 0.2549 - accuracy: 0.9175\n"
          ],
          "name": "stdout"
        }
      ]
    },
    {
      "cell_type": "markdown",
      "metadata": {
        "id": "aCHMXjN99T6J"
      },
      "source": [
        "#Pruning"
      ]
    },
    {
      "cell_type": "code",
      "metadata": {
        "id": "lM_KCDoM9TM-"
      },
      "source": [
        "prune_low_magnitude=tfmot.sparsity.keras.prune_low_magnitude\r\n",
        "\r\n",
        "pruning_params = {\r\n",
        "      'pruning_schedule': tfmot.sparsity.keras.PolynomialDecay(initial_sparsity=0.50,final_sparsity=0.90,begin_step=len(train_ds)*5,end_step=len(train_ds)*15)\r\n",
        "}\r\n",
        "\r\n",
        "\r\n",
        "model_for_pruning = prune_low_magnitude(model, **pruning_params)\r\n"
      ],
      "execution_count": 39,
      "outputs": []
    },
    {
      "cell_type": "code",
      "metadata": {
        "id": "KFio1tecYXz-"
      },
      "source": [
        "model_for_pruning.compile(optimizer='adam',\r\n",
        "              loss=tf.keras.losses.SparseCategoricalCrossentropy(from_logits=True),\r\n",
        "              metrics=['accuracy'])"
      ],
      "execution_count": 40,
      "outputs": []
    },
    {
      "cell_type": "code",
      "metadata": {
        "id": "0VQvZAKg-FAp"
      },
      "source": [
        "callbacks = [tfmot.sparsity.keras.UpdatePruningStep()]\r\n"
      ],
      "execution_count": 41,
      "outputs": []
    },
    {
      "cell_type": "code",
      "metadata": {
        "colab": {
          "base_uri": "https://localhost:8080/"
        },
        "id": "bcvCbjJQYY2R",
        "outputId": "29b9534c-5c71-4c09-eac7-74657395fd9f"
      },
      "source": [
        "model_for_pruning.fit(train_ds,epochs=20,validation_data=val_ds,callbacks=callbacks)"
      ],
      "execution_count": 42,
      "outputs": [
        {
          "output_type": "stream",
          "text": [
            "Epoch 1/20\n",
            "200/200 [==============================] - 27s 136ms/step - loss: 0.1384 - accuracy: 0.9547 - val_loss: 0.3404 - val_accuracy: 0.9062\n",
            "Epoch 2/20\n",
            "200/200 [==============================] - 27s 135ms/step - loss: 0.0862 - accuracy: 0.9736 - val_loss: 0.3176 - val_accuracy: 0.9137\n",
            "Epoch 3/20\n",
            "200/200 [==============================] - 27s 135ms/step - loss: 0.0830 - accuracy: 0.9759 - val_loss: 0.3190 - val_accuracy: 0.9137\n",
            "Epoch 4/20\n",
            "200/200 [==============================] - 27s 134ms/step - loss: 0.0538 - accuracy: 0.9856 - val_loss: 0.2822 - val_accuracy: 0.9250\n",
            "Epoch 5/20\n",
            "200/200 [==============================] - 27s 134ms/step - loss: 0.0599 - accuracy: 0.9839 - val_loss: 0.3231 - val_accuracy: 0.9075\n",
            "Epoch 6/20\n",
            "200/200 [==============================] - 27s 135ms/step - loss: 0.0325 - accuracy: 0.9937 - val_loss: 0.2337 - val_accuracy: 0.9262\n",
            "Epoch 7/20\n",
            "200/200 [==============================] - 27s 135ms/step - loss: 0.0167 - accuracy: 0.9986 - val_loss: 0.2485 - val_accuracy: 0.9225\n",
            "Epoch 8/20\n",
            "200/200 [==============================] - 27s 134ms/step - loss: 0.0128 - accuracy: 0.9989 - val_loss: 0.2316 - val_accuracy: 0.9388\n",
            "Epoch 9/20\n",
            "200/200 [==============================] - 27s 134ms/step - loss: 0.0113 - accuracy: 0.9997 - val_loss: 0.2734 - val_accuracy: 0.9262\n",
            "Epoch 10/20\n",
            "200/200 [==============================] - 27s 135ms/step - loss: 0.0125 - accuracy: 0.9995 - val_loss: 0.2624 - val_accuracy: 0.9212\n",
            "Epoch 11/20\n",
            "200/200 [==============================] - 27s 134ms/step - loss: 0.0149 - accuracy: 0.9997 - val_loss: 0.2532 - val_accuracy: 0.9262\n",
            "Epoch 12/20\n",
            "200/200 [==============================] - 27s 135ms/step - loss: 0.0180 - accuracy: 0.9983 - val_loss: 0.2885 - val_accuracy: 0.9212\n",
            "Epoch 13/20\n",
            "200/200 [==============================] - 27s 134ms/step - loss: 0.0208 - accuracy: 0.9980 - val_loss: 0.2990 - val_accuracy: 0.9100\n",
            "Epoch 14/20\n",
            "200/200 [==============================] - 27s 135ms/step - loss: 0.0239 - accuracy: 0.9972 - val_loss: 0.2670 - val_accuracy: 0.9200\n",
            "Epoch 15/20\n",
            "200/200 [==============================] - 27s 134ms/step - loss: 0.0429 - accuracy: 0.9909 - val_loss: 0.3021 - val_accuracy: 0.9212\n",
            "Epoch 16/20\n",
            "200/200 [==============================] - 27s 134ms/step - loss: 0.0332 - accuracy: 0.9950 - val_loss: 0.2618 - val_accuracy: 0.9187\n",
            "Epoch 17/20\n",
            "200/200 [==============================] - 27s 134ms/step - loss: 0.0165 - accuracy: 0.9994 - val_loss: 0.2862 - val_accuracy: 0.9175\n",
            "Epoch 18/20\n",
            "200/200 [==============================] - 27s 135ms/step - loss: 0.0135 - accuracy: 0.9994 - val_loss: 0.2917 - val_accuracy: 0.9187\n",
            "Epoch 19/20\n",
            "200/200 [==============================] - 27s 134ms/step - loss: 0.0121 - accuracy: 0.9998 - val_loss: 0.2630 - val_accuracy: 0.9262\n",
            "Epoch 20/20\n",
            "200/200 [==============================] - 27s 134ms/step - loss: 0.0107 - accuracy: 0.9998 - val_loss: 0.3147 - val_accuracy: 0.9062\n"
          ],
          "name": "stdout"
        },
        {
          "output_type": "execute_result",
          "data": {
            "text/plain": [
              "<tensorflow.python.keras.callbacks.History at 0x7f426075c4a8>"
            ]
          },
          "metadata": {
            "tags": []
          },
          "execution_count": 42
        }
      ]
    },
    {
      "cell_type": "code",
      "metadata": {
        "colab": {
          "base_uri": "https://localhost:8080/"
        },
        "id": "5cuDr45OZ8MY",
        "outputId": "08ff3e08-8b06-4c8e-a63d-382546c685a0"
      },
      "source": [
        "model_for_pruning_accuracy = model_for_pruning.evaluate(\r\n",
        "  test_ds, verbose=0)\r\n",
        " \r\n",
        "print('Pruned test accuracy:', model_for_pruning_accuracy)"
      ],
      "execution_count": 43,
      "outputs": [
        {
          "output_type": "stream",
          "text": [
            "Pruned test accuracy: [0.3257571756839752, 0.9087499976158142]\n"
          ],
          "name": "stdout"
        }
      ]
    },
    {
      "cell_type": "code",
      "metadata": {
        "id": "e7_VpKqLZc_c"
      },
      "source": [
        "model=tfmot.sparsity.keras.strip_pruning(model_for_pruning)"
      ],
      "execution_count": 44,
      "outputs": []
    },
    {
      "cell_type": "markdown",
      "metadata": {
        "id": "5ARlgrITLxuq"
      },
      "source": [
        "##Pruning2"
      ]
    },
    {
      "cell_type": "code",
      "metadata": {
        "id": "2EQaKQNkMsLP",
        "outputId": "69a30628-e72a-4819-9ad5-ec767ec71c47",
        "colab": {
          "base_uri": "https://localhost:8080/"
        }
      },
      "source": [
        ""
      ],
      "execution_count": 46,
      "outputs": [
        {
          "output_type": "stream",
          "text": [
            "Epoch 1/20\n",
            "200/200 [==============================] - 26s 132ms/step - loss: 0.1327 - accuracy: 0.9577 - val_loss: 0.3146 - val_accuracy: 0.9187\n",
            "Epoch 2/20\n",
            "200/200 [==============================] - 27s 133ms/step - loss: 0.0849 - accuracy: 0.9741 - val_loss: 0.3292 - val_accuracy: 0.9112\n",
            "Epoch 3/20\n",
            "200/200 [==============================] - 27s 133ms/step - loss: 0.0384 - accuracy: 0.9898 - val_loss: 0.2627 - val_accuracy: 0.9237\n",
            "Epoch 4/20\n",
            "200/200 [==============================] - 26s 132ms/step - loss: 0.0179 - accuracy: 0.9972 - val_loss: 0.2873 - val_accuracy: 0.9162\n",
            "Epoch 5/20\n",
            "200/200 [==============================] - 27s 133ms/step - loss: 0.0103 - accuracy: 0.9991 - val_loss: 0.2593 - val_accuracy: 0.9350\n",
            "Epoch 6/20\n",
            "200/200 [==============================] - 26s 132ms/step - loss: 0.0064 - accuracy: 0.9998 - val_loss: 0.2796 - val_accuracy: 0.9237\n",
            "Epoch 7/20\n",
            "200/200 [==============================] - 27s 133ms/step - loss: 0.0048 - accuracy: 0.9998 - val_loss: 0.2980 - val_accuracy: 0.9200\n",
            "Epoch 8/20\n",
            "200/200 [==============================] - 26s 132ms/step - loss: 0.0039 - accuracy: 0.9998 - val_loss: 0.2875 - val_accuracy: 0.9275\n",
            "Epoch 9/20\n",
            "200/200 [==============================] - 27s 133ms/step - loss: 0.0025 - accuracy: 1.0000 - val_loss: 0.2862 - val_accuracy: 0.9300\n",
            "Epoch 10/20\n",
            "200/200 [==============================] - 27s 133ms/step - loss: 0.0017 - accuracy: 1.0000 - val_loss: 0.2810 - val_accuracy: 0.9237\n",
            "Epoch 11/20\n",
            "200/200 [==============================] - 26s 132ms/step - loss: 0.0014 - accuracy: 1.0000 - val_loss: 0.3020 - val_accuracy: 0.9212\n",
            "Epoch 12/20\n",
            "200/200 [==============================] - 26s 132ms/step - loss: 0.0012 - accuracy: 1.0000 - val_loss: 0.3012 - val_accuracy: 0.9225\n",
            "Epoch 13/20\n",
            "200/200 [==============================] - 26s 132ms/step - loss: 0.0010 - accuracy: 1.0000 - val_loss: 0.2505 - val_accuracy: 0.9350\n",
            "Epoch 14/20\n",
            "200/200 [==============================] - 26s 132ms/step - loss: 9.0310e-04 - accuracy: 1.0000 - val_loss: 0.2980 - val_accuracy: 0.9300\n",
            "Epoch 15/20\n",
            "200/200 [==============================] - 26s 132ms/step - loss: 8.0049e-04 - accuracy: 1.0000 - val_loss: 0.3027 - val_accuracy: 0.9212\n",
            "Epoch 16/20\n",
            "200/200 [==============================] - 26s 132ms/step - loss: 6.9928e-04 - accuracy: 1.0000 - val_loss: 0.3009 - val_accuracy: 0.9300\n",
            "Epoch 17/20\n",
            "200/200 [==============================] - 27s 133ms/step - loss: 6.0816e-04 - accuracy: 1.0000 - val_loss: 0.2866 - val_accuracy: 0.9275\n",
            "Epoch 18/20\n",
            "200/200 [==============================] - 27s 133ms/step - loss: 5.4765e-04 - accuracy: 1.0000 - val_loss: 0.3035 - val_accuracy: 0.9262\n",
            "Epoch 19/20\n",
            "200/200 [==============================] - 26s 132ms/step - loss: 4.8915e-04 - accuracy: 1.0000 - val_loss: 0.3020 - val_accuracy: 0.9237\n",
            "Epoch 20/20\n",
            "200/200 [==============================] - 26s 132ms/step - loss: 4.1785e-04 - accuracy: 1.0000 - val_loss: 0.2753 - val_accuracy: 0.9275\n"
          ],
          "name": "stdout"
        },
        {
          "output_type": "execute_result",
          "data": {
            "text/plain": [
              "<tensorflow.python.keras.callbacks.History at 0x7f425d6897f0>"
            ]
          },
          "metadata": {
            "tags": []
          },
          "execution_count": 46
        }
      ]
    },
    {
      "cell_type": "code",
      "metadata": {
        "id": "lpUB9OuEMG6q"
      },
      "source": [
        "model_for_pruning2 = prune_low_magnitude(model, **pruning_params)\r\n",
        "model_for_pruning2.compile(optimizer='adam',\r\n",
        "              loss=tf.keras.losses.SparseCategoricalCrossentropy(from_logits=True),\r\n",
        "              metrics=['accuracy'])"
      ],
      "execution_count": 47,
      "outputs": []
    },
    {
      "cell_type": "code",
      "metadata": {
        "id": "vD9Byv60L1qr",
        "outputId": "ab531619-8878-4ef9-ca82-bda41599a7bd",
        "colab": {
          "base_uri": "https://localhost:8080/"
        }
      },
      "source": [
        "model_for_pruning2.fit(train_ds,epochs=20,validation_data=val_ds,callbacks=callbacks)"
      ],
      "execution_count": 48,
      "outputs": [
        {
          "output_type": "stream",
          "text": [
            "Epoch 1/20\n",
            "200/200 [==============================] - 27s 136ms/step - loss: 0.0719 - accuracy: 0.9780 - val_loss: 0.5127 - val_accuracy: 0.8800\n",
            "Epoch 2/20\n",
            "200/200 [==============================] - 27s 133ms/step - loss: 0.0535 - accuracy: 0.9841 - val_loss: 0.4652 - val_accuracy: 0.9050\n",
            "Epoch 3/20\n",
            "200/200 [==============================] - 27s 133ms/step - loss: 0.0128 - accuracy: 0.9972 - val_loss: 0.3851 - val_accuracy: 0.9212\n",
            "Epoch 4/20\n",
            "200/200 [==============================] - 27s 133ms/step - loss: 0.0032 - accuracy: 0.9998 - val_loss: 0.3199 - val_accuracy: 0.9237\n",
            "Epoch 5/20\n",
            "200/200 [==============================] - 27s 133ms/step - loss: 0.0015 - accuracy: 1.0000 - val_loss: 0.3074 - val_accuracy: 0.9325\n",
            "Epoch 6/20\n",
            "200/200 [==============================] - 27s 134ms/step - loss: 0.0014 - accuracy: 1.0000 - val_loss: 0.3416 - val_accuracy: 0.9175\n",
            "Epoch 7/20\n",
            "200/200 [==============================] - 27s 134ms/step - loss: 0.0016 - accuracy: 1.0000 - val_loss: 0.2727 - val_accuracy: 0.9337\n",
            "Epoch 8/20\n",
            "200/200 [==============================] - 27s 134ms/step - loss: 0.0018 - accuracy: 1.0000 - val_loss: 0.2853 - val_accuracy: 0.9312\n",
            "Epoch 9/20\n",
            "200/200 [==============================] - 27s 133ms/step - loss: 0.0023 - accuracy: 1.0000 - val_loss: 0.2645 - val_accuracy: 0.9337\n",
            "Epoch 10/20\n",
            "200/200 [==============================] - 27s 133ms/step - loss: 0.0028 - accuracy: 1.0000 - val_loss: 0.2584 - val_accuracy: 0.9312\n",
            "Epoch 11/20\n",
            "200/200 [==============================] - 27s 134ms/step - loss: 0.0036 - accuracy: 1.0000 - val_loss: 0.2829 - val_accuracy: 0.9287\n",
            "Epoch 12/20\n",
            "200/200 [==============================] - 27s 134ms/step - loss: 0.0068 - accuracy: 0.9995 - val_loss: 0.3464 - val_accuracy: 0.9187\n",
            "Epoch 13/20\n",
            "200/200 [==============================] - 27s 133ms/step - loss: 0.0512 - accuracy: 0.9847 - val_loss: 0.3076 - val_accuracy: 0.9212\n",
            "Epoch 14/20\n",
            "200/200 [==============================] - 27s 134ms/step - loss: 0.0250 - accuracy: 0.9956 - val_loss: 0.2682 - val_accuracy: 0.9275\n",
            "Epoch 15/20\n",
            "200/200 [==============================] - 27s 134ms/step - loss: 0.0103 - accuracy: 0.9998 - val_loss: 0.2585 - val_accuracy: 0.9350\n",
            "Epoch 16/20\n",
            "200/200 [==============================] - 27s 133ms/step - loss: 0.0067 - accuracy: 1.0000 - val_loss: 0.2985 - val_accuracy: 0.9250\n",
            "Epoch 17/20\n",
            "200/200 [==============================] - 27s 134ms/step - loss: 0.0055 - accuracy: 1.0000 - val_loss: 0.2742 - val_accuracy: 0.9262\n",
            "Epoch 18/20\n",
            "200/200 [==============================] - 27s 133ms/step - loss: 0.0048 - accuracy: 1.0000 - val_loss: 0.2930 - val_accuracy: 0.9212\n",
            "Epoch 19/20\n",
            "200/200 [==============================] - 27s 134ms/step - loss: 0.0045 - accuracy: 1.0000 - val_loss: 0.3093 - val_accuracy: 0.9175\n",
            "Epoch 20/20\n",
            "200/200 [==============================] - 27s 134ms/step - loss: 0.0042 - accuracy: 1.0000 - val_loss: 0.3061 - val_accuracy: 0.9087\n"
          ],
          "name": "stdout"
        },
        {
          "output_type": "execute_result",
          "data": {
            "text/plain": [
              "<tensorflow.python.keras.callbacks.History at 0x7f42610499e8>"
            ]
          },
          "metadata": {
            "tags": []
          },
          "execution_count": 48
        }
      ]
    },
    {
      "cell_type": "code",
      "metadata": {
        "id": "XfpBpG5xNj3Z"
      },
      "source": [
        "model=tfmot.sparsity.keras.strip_pruning(model_for_pruning)"
      ],
      "execution_count": 49,
      "outputs": []
    },
    {
      "cell_type": "markdown",
      "metadata": {
        "id": "DBoOxTEXxHMd"
      },
      "source": [
        "##tflite conversion"
      ]
    },
    {
      "cell_type": "code",
      "metadata": {
        "id": "uB8OtLPgxM1L",
        "colab": {
          "base_uri": "https://localhost:8080/"
        },
        "outputId": "668e218c-862d-4f6c-a4a0-dcfd836dca49"
      },
      "source": [
        "ROOT_DIR=\"./callback_val_chkp/\"\n",
        "tflite_models= ROOT_DIR + \"tfliteModels/\"\n",
        "!mkdir ./callback_val_chkp/tfliteModels\n",
        "\n",
        "\n",
        "if model_type=='a':\n",
        "  if (mfcc==True):\n",
        "    saved_model_dir= ROOT_DIR +\"mfcc_model_a\"\n",
        "    tflite_model_dir= tflite_models + \"model_a\"\n",
        "  else:\n",
        "    saved_model_dir= ROOT_DIR +\"stft_model_a\"\n",
        "    tflite_model_dir= tflite_models + \"model_a\"\n",
        "  \n",
        "\n",
        "if model_type=='b':\n",
        "  if (mfcc==True):\n",
        "    saved_model_dir= ROOT_DIR +\"mfcc_model_b\"\n",
        "    tflite_model_dir= tflite_models + \"model_b\"\n",
        "  else:\n",
        "    saved_model_dir= ROOT_DIR +\"stft_model_b\"\n",
        "    tflite_model_dir= tflite_models + \"model_b\"\n",
        "\n",
        "if model_type=='c':\n",
        "  if (mfcc==True):\n",
        "    saved_model_dir= ROOT_DIR +\"mfcc_model_c\"\n",
        "    tflite_model_dir= tflite_models + \"model_c\"\n",
        "  else:\n",
        "    saved_model_dir= ROOT_DIR +\"stft_model_c\"\n",
        "    tflite_model_dir= tflite_models + \"model_c\"\n",
        "\n",
        "\n",
        "\n",
        "\n",
        "converter=tf.lite.TFLiteConverter.from_keras_model(model) #from_saved_model(saved_model_dir)\n",
        "converter.optimizations = [tf.lite.Optimize.DEFAULT]\n",
        "#converter.representative_dataset= representative_data_gen\n",
        "tflite_model=converter.convert()\n",
        "\n",
        "with open(tflite_model_dir, \"wb\") as fp:\n",
        "  tflite_compressed = zlib.compress(tflite_model)\n",
        "  fp.write(tflite_compressed)"
      ],
      "execution_count": 50,
      "outputs": [
        {
          "output_type": "stream",
          "text": [
            "mkdir: cannot create directory ‘./callback_val_chkp/tfliteModels’: File exists\n",
            "INFO:tensorflow:Assets written to: /tmp/tmpgkgmbt3w/assets\n"
          ],
          "name": "stdout"
        },
        {
          "output_type": "stream",
          "text": [
            "INFO:tensorflow:Assets written to: /tmp/tmpgkgmbt3w/assets\n"
          ],
          "name": "stderr"
        }
      ]
    },
    {
      "cell_type": "code",
      "metadata": {
        "id": "M6kdf2831FNE"
      },
      "source": [
        ""
      ],
      "execution_count": null,
      "outputs": []
    },
    {
      "cell_type": "markdown",
      "metadata": {
        "id": "fzw1Xf_irf_z"
      },
      "source": [
        "#Quantization"
      ]
    },
    {
      "cell_type": "code",
      "metadata": {
        "id": "2NRSVYKH4oyS"
      },
      "source": [
        ""
      ],
      "execution_count": null,
      "outputs": []
    },
    {
      "cell_type": "code",
      "metadata": {
        "id": "rGZEKWN9riUE"
      },
      "source": [
        "'''quantize_model = tfmot.quantization.keras.quantize_model\r\n",
        "q_aware_model = quantize_model(model)\r\n",
        "q_aware_model.compile(optimizer='adam',\r\n",
        "              loss=tf.keras.losses.SparseCategoricalCrossentropy(from_logits=True),\r\n",
        "              metrics=['accuracy'])\r\n",
        "q_aware_model.fit(train_ds, epochs=20, validation_data=val_ds,callbacks=[cp_callback])\r\n",
        "\r\n",
        "model=q_aware_model'''"
      ],
      "execution_count": null,
      "outputs": []
    },
    {
      "cell_type": "markdown",
      "metadata": {
        "id": "iIckUXuaw95G"
      },
      "source": [
        "##Size and latency measurement"
      ]
    },
    {
      "cell_type": "markdown",
      "metadata": {
        "id": "3CH-bOBg2Xy7"
      },
      "source": [
        "##Size measurement"
      ]
    },
    {
      "cell_type": "code",
      "metadata": {
        "colab": {
          "base_uri": "https://localhost:8080/"
        },
        "id": "XiHV3SYH2Sl2",
        "outputId": "9fe5df5e-a346-4081-ea1d-5b23ea7a3d40"
      },
      "source": [
        "os.path.getsize(tflite_model_dir)"
      ],
      "execution_count": 53,
      "outputs": [
        {
          "output_type": "execute_result",
          "data": {
            "text/plain": [
              "38154"
            ]
          },
          "metadata": {
            "tags": []
          },
          "execution_count": 53
        }
      ]
    },
    {
      "cell_type": "markdown",
      "metadata": {
        "id": "aWuqE4rknUA6"
      },
      "source": [
        "##Latency measurement"
      ]
    },
    {
      "cell_type": "code",
      "metadata": {
        "colab": {
          "base_uri": "https://localhost:8080/"
        },
        "id": "3tVik05Kn2nB",
        "outputId": "bfcc1bf0-728b-4f79-e6bb-84ac57f66de7"
      },
      "source": [
        " !python ./HMW/HMW2/kws_inference.py --model ./callback_val_chkp/tfliteModels/model_a "
      ],
      "execution_count": 52,
      "outputs": [
        {
          "output_type": "stream",
          "text": [
            "2020-12-13 23:28:45.046811: I tensorflow/stream_executor/platform/default/dso_loader.cc:48] Successfully opened dynamic library libcudart.so.10.1\n",
            "sh: 1: cannot create /sys/devices/system/cpu/cpufreq/policy0/scaling_governor: Directory nonexistent\n",
            "2020-12-13 23:28:47.128206: I tensorflow/stream_executor/platform/default/dso_loader.cc:48] Successfully opened dynamic library libcuda.so.1\n",
            "2020-12-13 23:28:47.138347: E tensorflow/stream_executor/cuda/cuda_driver.cc:314] failed call to cuInit: CUDA_ERROR_NO_DEVICE: no CUDA-capable device is detected\n",
            "2020-12-13 23:28:47.138392: I tensorflow/stream_executor/cuda/cuda_diagnostics.cc:156] kernel driver does not appear to be running on this host (f5683814e6a4): /proc/driver/nvidia/version does not exist\n",
            "2020-12-13 23:28:47.145610: I tensorflow/core/platform/profile_utils/cpu_utils.cc:104] CPU Frequency: 2299995000 Hz\n",
            "2020-12-13 23:28:47.145864: I tensorflow/compiler/xla/service/service.cc:168] XLA service 0x2156840 initialized for platform Host (this does not guarantee that XLA will be used). Devices:\n",
            "2020-12-13 23:28:47.145901: I tensorflow/compiler/xla/service/service.cc:176]   StreamExecutor device (0): Host, Default Version\n",
            "Traceback (most recent call last):\n",
            "  File \"./HMW/HMW2/kws_inference.py\", line 45, in <module>\n",
            "    interpreter = tf.lite.Interpreter(model_path=args.model)\n",
            "  File \"/usr/local/lib/python3.6/dist-packages/tensorflow/lite/python/interpreter.py\", line 198, in __init__\n",
            "    model_path, self._custom_op_registerers))\n",
            "ValueError: Could not open './callback_val_chkp/tfliteModels/model_a'.\n"
          ],
          "name": "stdout"
        }
      ]
    }
  ]
}