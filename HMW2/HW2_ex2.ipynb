{
  "nbformat": 4,
  "nbformat_minor": 0,
  "metadata": {
    "colab": {
      "name": "HW2_ex2.ipynb",
      "provenance": [],
      "authorship_tag": "ABX9TyPjWwPSf/qHw/OpG0QyOiPe",
      "include_colab_link": true
    },
    "kernelspec": {
      "name": "python3",
      "display_name": "Python 3"
    }
  },
  "cells": [
    {
      "cell_type": "markdown",
      "metadata": {
        "id": "view-in-github",
        "colab_type": "text"
      },
      "source": [
        "<a href=\"https://colab.research.google.com/github/RoboTuan/ML4IOT_HMW/blob/main/HMW2/HW2_ex2.ipynb\" target=\"_parent\"><img src=\"https://colab.research.google.com/assets/colab-badge.svg\" alt=\"Open In Colab\"/></a>"
      ]
    },
    {
      "cell_type": "code",
      "metadata": {
        "colab": {
          "base_uri": "https://localhost:8080/"
        },
        "id": "EtNsmv43APVI",
        "outputId": "ae6daf63-01b9-4b36-f35a-4e3a5ed00a69"
      },
      "source": [
        " pip install -q tensorflow-model-optimization"
      ],
      "execution_count": 1,
      "outputs": [
        {
          "output_type": "stream",
          "text": [
            "\u001b[?25l\r\u001b[K     |██                              | 10kB 16.4MB/s eta 0:00:01\r\u001b[K     |███▉                            | 20kB 15.1MB/s eta 0:00:01\r\u001b[K     |█████▊                          | 30kB 8.6MB/s eta 0:00:01\r\u001b[K     |███████▋                        | 40kB 6.9MB/s eta 0:00:01\r\u001b[K     |█████████▌                      | 51kB 4.4MB/s eta 0:00:01\r\u001b[K     |███████████▍                    | 61kB 5.0MB/s eta 0:00:01\r\u001b[K     |█████████████▎                  | 71kB 5.1MB/s eta 0:00:01\r\u001b[K     |███████████████▏                | 81kB 5.4MB/s eta 0:00:01\r\u001b[K     |█████████████████               | 92kB 5.8MB/s eta 0:00:01\r\u001b[K     |███████████████████             | 102kB 5.6MB/s eta 0:00:01\r\u001b[K     |████████████████████▉           | 112kB 5.6MB/s eta 0:00:01\r\u001b[K     |██████████████████████▊         | 122kB 5.6MB/s eta 0:00:01\r\u001b[K     |████████████████████████▊       | 133kB 5.6MB/s eta 0:00:01\r\u001b[K     |██████████████████████████▋     | 143kB 5.6MB/s eta 0:00:01\r\u001b[K     |████████████████████████████▌   | 153kB 5.6MB/s eta 0:00:01\r\u001b[K     |██████████████████████████████▍ | 163kB 5.6MB/s eta 0:00:01\r\u001b[K     |████████████████████████████████| 174kB 5.6MB/s \n",
            "\u001b[?25h"
          ],
          "name": "stdout"
        }
      ]
    },
    {
      "cell_type": "code",
      "metadata": {
        "id": "jCB53wPLLWaR"
      },
      "source": [
        "import tensorflow as tf\n",
        "import numpy as np\n",
        "from tensorflow import keras\n",
        "import pandas as pd\n",
        "import matplotlib.pyplot as plt\n",
        "import os\n",
        "from zipfile import ZipFile\n",
        "import tensorflow_model_optimization as tfmot\n",
        "from tensorflow_model_optimization.python.core.api.sparsity import keras as sparsity\n",
        "import zlib\n",
        "\n"
      ],
      "execution_count": 2,
      "outputs": []
    },
    {
      "cell_type": "code",
      "metadata": {
        "colab": {
          "base_uri": "https://localhost:8080/"
        },
        "id": "ZNmNFu8Mjsxl",
        "outputId": "e0aeb563-c3c8-48cb-a813-e03049d0cb3a"
      },
      "source": [
        "if not os.path.isdir('./HMW'):\n",
        "  !git clone \"https://github.com/RoboTuan/ML4IOT_HMW.git\"  \n",
        "  !mv 'ML4IOT_HMW' 'HMW'\n",
        "\n",
        "ROOT_DIR = 'HMW/HMW2/'\n",
        "tflite_models=ROOT_DIR + \"tflite_models/\""
      ],
      "execution_count": 3,
      "outputs": [
        {
          "output_type": "stream",
          "text": [
            "Cloning into 'ML4IOT_HMW'...\n",
            "remote: Enumerating objects: 174, done.\u001b[K\n",
            "remote: Counting objects: 100% (174/174), done.\u001b[K\n",
            "remote: Compressing objects: 100% (149/149), done.\u001b[K\n",
            "remote: Total 174 (delta 96), reused 62 (delta 19), pack-reused 0\u001b[K\n",
            "Receiving objects: 100% (174/174), 1.30 MiB | 1.59 MiB/s, done.\n",
            "Resolving deltas: 100% (96/96), done.\n"
          ],
          "name": "stdout"
        }
      ]
    },
    {
      "cell_type": "code",
      "metadata": {
        "id": "p-26mjjDSR1F"
      },
      "source": [
        "#parser = argparse.ArgumentParser()\n",
        "#parser.add_argument('--version', type=str, required=True, help='a,b or c')\n",
        "#parser.add_argument('--mfcc', action='store_true', help='use MFCCs')\n",
        "#args = parser.parse_args()\n",
        "\n",
        "model_type='c' #args.version\n",
        "mfcc=True\n",
        "alpha=0.75"
      ],
      "execution_count": 4,
      "outputs": []
    },
    {
      "cell_type": "code",
      "metadata": {
        "id": "X7K0B4RTTkNI"
      },
      "source": [
        "seed = 42\n",
        "tf.random.set_seed(seed)\n",
        "np.random.seed(seed)"
      ],
      "execution_count": 5,
      "outputs": []
    },
    {
      "cell_type": "code",
      "metadata": {
        "id": "EFbVU7mgTmr5",
        "colab": {
          "base_uri": "https://localhost:8080/"
        },
        "outputId": "cc342f4e-c509-4d33-d00b-46c84fb5767e"
      },
      "source": [
        "zip_path = tf.keras.utils.get_file(\n",
        "        origin=\"http://storage.googleapis.com/download.tensorflow.org/data/mini_speech_commands.zip\",\n",
        "        fname='mini_speech_commands.zip',\n",
        "        extract=True,\n",
        "        cache_dir='.', cache_subdir='data')\n",
        "data_dir = os.path.join('.', 'data', 'mini_speech_commands')\n",
        "filenames = tf.io.gfile.glob(str(data_dir) + '/*/*')\n",
        "filenames = tf.random.shuffle(filenames)\n",
        "num_samples = len(filenames)\n",
        "total = 8000"
      ],
      "execution_count": 6,
      "outputs": [
        {
          "output_type": "stream",
          "text": [
            "Downloading data from http://storage.googleapis.com/download.tensorflow.org/data/mini_speech_commands.zip\n",
            "182083584/182082353 [==============================] - 12s 0us/step\n"
          ],
          "name": "stdout"
        }
      ]
    },
    {
      "cell_type": "code",
      "metadata": {
        "id": "mmen3RxJWUE7"
      },
      "source": [
        "train =  tf.convert_to_tensor(pd.read_csv('https://raw.githubusercontent.com/RoboTuan/ML4IOT_HMW/main/HMW2/kws_train_split.txt', header=None))\n",
        "validation =  tf.convert_to_tensor(pd.read_csv('https://raw.githubusercontent.com/RoboTuan/ML4IOT_HMW/main/HMW2/kws_val_split.txt', header=None))\n",
        "test =  tf.convert_to_tensor(pd.read_csv('https://raw.githubusercontent.com/RoboTuan/ML4IOT_HMW/main/HMW2/kws_test_split.txt', header=None))\n",
        "\n",
        "train= tf.squeeze(train)\n",
        "validation= tf.squeeze(validation)\n",
        "test= tf.squeeze(test)\n"
      ],
      "execution_count": 7,
      "outputs": []
    },
    {
      "cell_type": "code",
      "metadata": {
        "id": "O46MZr_UV8sM"
      },
      "source": [
        "train_files = train\n",
        "val_files = validation\n",
        "test_files = test"
      ],
      "execution_count": 8,
      "outputs": []
    },
    {
      "cell_type": "code",
      "metadata": {
        "id": "j-MfBnKZcfEF"
      },
      "source": [
        "LABELS = np.array(tf.io.gfile.listdir(str(data_dir)))\n",
        "LABELS = LABELS[LABELS != 'README.md']"
      ],
      "execution_count": 9,
      "outputs": []
    },
    {
      "cell_type": "code",
      "metadata": {
        "id": "C1HWKgl4cgGs"
      },
      "source": [
        "class SignalGenerator:\n",
        "    def __init__(self, labels, sampling_rate, frame_length, frame_step,\n",
        "            num_mel_bins=None, lower_frequency=None, upper_frequency=None,\n",
        "            num_coefficients=None, mfcc=False):\n",
        "        self.labels = labels\n",
        "        self.sampling_rate = sampling_rate\n",
        "        self.frame_length = frame_length\n",
        "        self.frame_step = frame_step\n",
        "        self.num_mel_bins = num_mel_bins\n",
        "        self.lower_frequency = lower_frequency\n",
        "        self.upper_frequency = upper_frequency\n",
        "        self.num_coefficients = num_coefficients\n",
        "        num_spectrogram_bins = (frame_length) // 2 + 1\n",
        "\n",
        "        if mfcc is True:\n",
        "            self.linear_to_mel_weight_matrix = tf.signal.linear_to_mel_weight_matrix(\n",
        "                    self.num_mel_bins, num_spectrogram_bins, self.sampling_rate,\n",
        "                    self.lower_frequency, self.upper_frequency)\n",
        "            self.preprocess = self.preprocess_with_mfcc\n",
        "        else:\n",
        "            self.preprocess = self.preprocess_with_stft\n",
        "\n",
        "    def read(self, file_path):\n",
        "        parts = tf.strings.split(file_path, os.path.sep)\n",
        "        label = parts[-2]\n",
        "        label_id = tf.argmax(label == self.labels)\n",
        "        audio_binary = tf.io.read_file(file_path)\n",
        "        audio, _ = tf.audio.decode_wav(audio_binary)\n",
        "        audio = tf.squeeze(audio, axis=1)\n",
        "\n",
        "        return audio, label_id\n",
        "\n",
        "    def pad(self, audio):\n",
        "        zero_padding = tf.zeros([self.sampling_rate] - tf.shape(audio), dtype=tf.float32)\n",
        "        audio = tf.concat([audio, zero_padding], 0)\n",
        "        audio.set_shape([self.sampling_rate])\n",
        "\n",
        "        return audio\n",
        "    def get_spectrogram(self, audio):\n",
        "        stft = tf.signal.stft(audio, frame_length=self.frame_length,\n",
        "                frame_step=self.frame_step, fft_length=self.frame_length)\n",
        "        spectrogram = tf.abs(stft)\n",
        "\n",
        "        return spectrogram\n",
        "\n",
        "    def get_mfccs(self, spectrogram):\n",
        "        mel_spectrogram = tf.tensordot(spectrogram,\n",
        "                self.linear_to_mel_weight_matrix, 1)\n",
        "        log_mel_spectrogram = tf.math.log(mel_spectrogram + 1.e-6)\n",
        "        mfccs = tf.signal.mfccs_from_log_mel_spectrograms(log_mel_spectrogram)\n",
        "        mfccs = mfccs[..., :self.num_coefficients]\n",
        "\n",
        "        return mfccs\n",
        "\n",
        "    def preprocess_with_stft(self, file_path):\n",
        "        audio, label = self.read(file_path)\n",
        "        audio = self.pad(audio)\n",
        "        spectrogram = self.get_spectrogram(audio)\n",
        "        spectrogram = tf.expand_dims(spectrogram, -1)\n",
        "        spectrogram = tf.image.resize(spectrogram, [32, 32])\n",
        "\n",
        "        return spectrogram, label\n",
        "\n",
        "    def preprocess_with_mfcc(self, file_path):\n",
        "        audio, label = self.read(file_path)\n",
        "        audio = self.pad(audio)\n",
        "        spectrogram = self.get_spectrogram(audio)\n",
        "        mfccs = self.get_mfccs(spectrogram)\n",
        "        mfccs = tf.expand_dims(mfccs, -1)\n",
        "\n",
        "        return mfccs, label\n",
        "\n",
        "    def make_dataset(self, files, train):\n",
        "        ds = tf.data.Dataset.from_tensor_slices(files)\n",
        "        ds = ds.map(self.preprocess, num_parallel_calls=4)\n",
        "        ds = ds.batch(32)\n",
        "        ds = ds.cache()\n",
        "        if train is True:\n",
        "            ds = ds.shuffle(100, reshuffle_each_iteration=True)\n",
        "\n",
        "        return ds\n",
        "    \n",
        "\n"
      ],
      "execution_count": 10,
      "outputs": []
    },
    {
      "cell_type": "code",
      "metadata": {
        "id": "uF2ceXoTc6X_"
      },
      "source": [
        "STFT_OPTIONS = {'frame_length': 256, 'frame_step': 128, 'mfcc': False}\n",
        "MFCC_OPTIONS = {'frame_length': 640, 'frame_step': 320, 'mfcc': True,\n",
        "        'lower_frequency': 20, 'upper_frequency': 4000, 'num_mel_bins': 40,\n",
        "        'num_coefficients': 10}"
      ],
      "execution_count": 11,
      "outputs": []
    },
    {
      "cell_type": "code",
      "metadata": {
        "id": "6mpDzH9GdmBs"
      },
      "source": [
        "#if args.mfcc is True:\n",
        "if mfcc is True:\n",
        "    options = MFCC_OPTIONS\n",
        "    strides = [2, 1]\n",
        "else:\n",
        "    options = STFT_OPTIONS\n",
        "    strides = [2, 2]"
      ],
      "execution_count": 12,
      "outputs": []
    },
    {
      "cell_type": "code",
      "metadata": {
        "id": "Tg8Cg36tdrLd"
      },
      "source": [
        "generator = SignalGenerator(LABELS, 16000, **options)\n",
        "train_ds = generator.make_dataset(train_files, True)\n",
        "val_ds = generator.make_dataset(val_files, False)\n",
        "test_ds = generator.make_dataset(test_files, False)\n",
        "units=8"
      ],
      "execution_count": 13,
      "outputs": []
    },
    {
      "cell_type": "markdown",
      "metadata": {
        "id": "u6ue7OwCvSg-"
      },
      "source": [
        "#Model"
      ]
    },
    {
      "cell_type": "markdown",
      "metadata": {
        "id": "-j7vRZkLziid"
      },
      "source": [
        "##Model A"
      ]
    },
    {
      "cell_type": "code",
      "metadata": {
        "id": "2lcrcEETzlox"
      },
      "source": [
        "#MLP Model definition\n",
        "mlp_model = keras.Sequential([\n",
        "    keras.layers.Flatten(),\n",
        "    keras.layers.Dense(units=256, activation='relu'),\n",
        "    keras.layers.Dense(units=256, activation='relu'),\n",
        "    keras.layers.Dense(units=256, activation='relu'),\n",
        "    keras.layers.Dense(units=8) #if silence 10\n",
        "])"
      ],
      "execution_count": 14,
      "outputs": []
    },
    {
      "cell_type": "markdown",
      "metadata": {
        "id": "sjtKHmqJzmPH"
      },
      "source": [
        "##Model B"
      ]
    },
    {
      "cell_type": "code",
      "metadata": {
        "id": "PXmdPXRyznwO"
      },
      "source": [
        "#CNN_2D Model definition\n",
        "\n",
        "cnn_model = keras.Sequential([\n",
        "    keras.layers.Conv2D(filters=128,kernel_size=[3,3],strides=strides, use_bias=False),\n",
        "    keras.layers.BatchNormalization(momentum=0.1),\n",
        "    keras.layers.ReLU(),\n",
        "    keras.layers.Conv2D(filters=128,kernel_size=[3,3],strides=strides, use_bias=False),\n",
        "    keras.layers.BatchNormalization(momentum=0.1),\n",
        "    keras.layers.ReLU(),\n",
        "    keras.layers.Conv2D(filters=128,kernel_size=[3,3],strides=strides, use_bias=False),\n",
        "    keras.layers.BatchNormalization(momentum=0.1),\n",
        "    keras.layers.ReLU(),\n",
        "    keras.layers.GlobalAveragePooling2D(),\n",
        "    keras.layers.Dense(units=8) #10 if silence\n",
        "])"
      ],
      "execution_count": 15,
      "outputs": []
    },
    {
      "cell_type": "markdown",
      "metadata": {
        "id": "FKkktzv2zoWx"
      },
      "source": [
        "##Model C"
      ]
    },
    {
      "cell_type": "code",
      "metadata": {
        "id": "vgNVG-jzzsUk"
      },
      "source": [
        "ds_cnn_model = keras.Sequential([\n",
        "    keras.layers.Conv2D(filters=(alpha*256),kernel_size=[3,3],strides=strides, use_bias=False),\n",
        "    keras.layers.BatchNormalization(momentum=0.1),\n",
        "    keras.layers.ReLU(),\n",
        "    keras.layers.DepthwiseConv2D(kernel_size=[3,3],strides=[1, 1], use_bias=False),\n",
        "    keras.layers.Conv2D(filters=(alpha*256),kernel_size=[1,1],strides=[1,1], use_bias=False),\n",
        "    keras.layers.BatchNormalization(momentum=0.1),\n",
        "    keras.layers.ReLU(),\n",
        "    keras.layers.DepthwiseConv2D(kernel_size=[3,3],strides=[1, 1], use_bias=False),\n",
        "    keras.layers.Conv2D(filters=(alpha*256),kernel_size=[1,1],strides=[1,1], use_bias=False),\n",
        "    keras.layers.BatchNormalization(momentum=0.1),\n",
        "    keras.layers.ReLU(),\n",
        "    keras.layers.GlobalAveragePooling2D(),\n",
        "    keras.layers.Dense(units=8) #10 if silence else 8\n",
        "])"
      ],
      "execution_count": 16,
      "outputs": []
    },
    {
      "cell_type": "markdown",
      "metadata": {
        "id": "Xcdo-vXFvZpg"
      },
      "source": [
        "##Model definition"
      ]
    },
    {
      "cell_type": "code",
      "metadata": {
        "id": "F58fd8zpvR6m"
      },
      "source": [
        "if model_type=='a':\n",
        "  model=mlp_model\n",
        "  if (mfcc==True):\n",
        "    path= './callback_val_chkp/mfcc_model_a'\n",
        "  else:\n",
        "    path= './callback_val_chkp/stft_model_a'\n",
        "\n",
        "if model_type=='b':\n",
        "  model=cnn_model\n",
        "  if (mfcc==True):\n",
        "    path= './callback_val_chkp/mfcc_model_b'\n",
        "  else:\n",
        "    path= './callback_val_chkp/stft_model_b'\n",
        "\n",
        "if model_type=='c':\n",
        "  model=ds_cnn_model\n",
        "  if (mfcc==True):\n",
        "    path= './callback_val_chkp/mfcc_model_c'\n",
        "  else:\n",
        "    path= './callback_val_chkp/stft_model_c'"
      ],
      "execution_count": 17,
      "outputs": []
    },
    {
      "cell_type": "code",
      "metadata": {
        "id": "DkhUmj-V46H2"
      },
      "source": [
        "\n",
        "cp_callback = keras.callbacks.ModelCheckpoint(\n",
        "    filepath=path,\n",
        "    # './callback_test_chkp/chkp_best',\n",
        "    monitor='val_accuracy',\n",
        "    verbose=0, \n",
        "    save_best_only=True,\n",
        "    # save_best_only=True,\n",
        "    save_weights_only=False,\n",
        "    mode='auto',\n",
        "    save_freq='epoch'\n",
        ")"
      ],
      "execution_count": 18,
      "outputs": []
    },
    {
      "cell_type": "markdown",
      "metadata": {
        "id": "iJQc4JTpvcfi"
      },
      "source": [
        "##Training"
      ]
    },
    {
      "cell_type": "code",
      "metadata": {
        "colab": {
          "base_uri": "https://localhost:8080/"
        },
        "id": "HITYllmYvoXx",
        "outputId": "d1685c4b-a0fe-4098-b1a8-2b283d154145"
      },
      "source": [
        "model.compile(loss=tf.keras.losses.SparseCategoricalCrossentropy(from_logits=True) ,optimizer='adam', metrics=['accuracy'])\n",
        "model.fit(train_ds, epochs=20, validation_data=val_ds,callbacks=[cp_callback])"
      ],
      "execution_count": 19,
      "outputs": [
        {
          "output_type": "stream",
          "text": [
            "Epoch 1/20\n",
            "200/200 [==============================] - ETA: 0s - loss: 1.3197 - accuracy: 0.5834WARNING:tensorflow:From /usr/local/lib/python3.6/dist-packages/tensorflow/python/training/tracking/tracking.py:111: Model.state_updates (from tensorflow.python.keras.engine.training) is deprecated and will be removed in a future version.\n",
            "Instructions for updating:\n",
            "This property should not be used in TensorFlow 2.0, as updates are applied automatically.\n",
            "WARNING:tensorflow:From /usr/local/lib/python3.6/dist-packages/tensorflow/python/training/tracking/tracking.py:111: Layer.updates (from tensorflow.python.keras.engine.base_layer) is deprecated and will be removed in a future version.\n",
            "Instructions for updating:\n",
            "This property should not be used in TensorFlow 2.0, as updates are applied automatically.\n",
            "INFO:tensorflow:Assets written to: ./callback_val_chkp/mfcc_model_c/assets\n",
            "200/200 [==============================] - 115s 577ms/step - loss: 1.3197 - accuracy: 0.5834 - val_loss: 0.8082 - val_accuracy: 0.7750\n",
            "Epoch 2/20\n",
            "200/200 [==============================] - ETA: 0s - loss: 0.6753 - accuracy: 0.8217INFO:tensorflow:Assets written to: ./callback_val_chkp/mfcc_model_c/assets\n",
            "200/200 [==============================] - 21s 106ms/step - loss: 0.6753 - accuracy: 0.8217 - val_loss: 0.5436 - val_accuracy: 0.8325\n",
            "Epoch 3/20\n",
            "200/200 [==============================] - ETA: 0s - loss: 0.4678 - accuracy: 0.8658INFO:tensorflow:Assets written to: ./callback_val_chkp/mfcc_model_c/assets\n",
            "200/200 [==============================] - 21s 105ms/step - loss: 0.4678 - accuracy: 0.8658 - val_loss: 0.4286 - val_accuracy: 0.8662\n",
            "Epoch 4/20\n",
            "200/200 [==============================] - ETA: 0s - loss: 0.3734 - accuracy: 0.8939INFO:tensorflow:Assets written to: ./callback_val_chkp/mfcc_model_c/assets\n",
            "200/200 [==============================] - 22s 110ms/step - loss: 0.3734 - accuracy: 0.8939 - val_loss: 0.3864 - val_accuracy: 0.8900\n",
            "Epoch 5/20\n",
            "200/200 [==============================] - ETA: 0s - loss: 0.3173 - accuracy: 0.9087INFO:tensorflow:Assets written to: ./callback_val_chkp/mfcc_model_c/assets\n",
            "200/200 [==============================] - 22s 108ms/step - loss: 0.3173 - accuracy: 0.9087 - val_loss: 0.3057 - val_accuracy: 0.9125\n",
            "Epoch 6/20\n",
            "200/200 [==============================] - 20s 98ms/step - loss: 0.2756 - accuracy: 0.9236 - val_loss: 0.3322 - val_accuracy: 0.9050\n",
            "Epoch 7/20\n",
            "200/200 [==============================] - ETA: 0s - loss: 0.2371 - accuracy: 0.9317INFO:tensorflow:Assets written to: ./callback_val_chkp/mfcc_model_c/assets\n",
            "200/200 [==============================] - 22s 108ms/step - loss: 0.2371 - accuracy: 0.9317 - val_loss: 0.2921 - val_accuracy: 0.9162\n",
            "Epoch 8/20\n",
            "200/200 [==============================] - ETA: 0s - loss: 0.2154 - accuracy: 0.9384INFO:tensorflow:Assets written to: ./callback_val_chkp/mfcc_model_c/assets\n",
            "200/200 [==============================] - 22s 109ms/step - loss: 0.2154 - accuracy: 0.9384 - val_loss: 0.2480 - val_accuracy: 0.9237\n",
            "Epoch 9/20\n",
            "200/200 [==============================] - 20s 98ms/step - loss: 0.1892 - accuracy: 0.9469 - val_loss: 0.2750 - val_accuracy: 0.9137\n",
            "Epoch 10/20\n",
            "200/200 [==============================] - ETA: 0s - loss: 0.1766 - accuracy: 0.9491INFO:tensorflow:Assets written to: ./callback_val_chkp/mfcc_model_c/assets\n",
            "200/200 [==============================] - 22s 108ms/step - loss: 0.1766 - accuracy: 0.9491 - val_loss: 0.2451 - val_accuracy: 0.9300\n",
            "Epoch 11/20\n",
            "200/200 [==============================] - 20s 98ms/step - loss: 0.1536 - accuracy: 0.9567 - val_loss: 0.2541 - val_accuracy: 0.9137\n",
            "Epoch 12/20\n",
            "200/200 [==============================] - 19s 97ms/step - loss: 0.1430 - accuracy: 0.9575 - val_loss: 0.3037 - val_accuracy: 0.9150\n",
            "Epoch 13/20\n",
            "200/200 [==============================] - 20s 98ms/step - loss: 0.1277 - accuracy: 0.9650 - val_loss: 0.3049 - val_accuracy: 0.9062\n",
            "Epoch 14/20\n",
            "200/200 [==============================] - 19s 97ms/step - loss: 0.1132 - accuracy: 0.9684 - val_loss: 0.2673 - val_accuracy: 0.9287\n",
            "Epoch 15/20\n",
            "200/200 [==============================] - 19s 97ms/step - loss: 0.1031 - accuracy: 0.9736 - val_loss: 0.2431 - val_accuracy: 0.9187\n",
            "Epoch 16/20\n",
            "200/200 [==============================] - 20s 99ms/step - loss: 0.0938 - accuracy: 0.9742 - val_loss: 0.2390 - val_accuracy: 0.9262\n",
            "Epoch 17/20\n",
            "200/200 [==============================] - 20s 98ms/step - loss: 0.0823 - accuracy: 0.9795 - val_loss: 0.2246 - val_accuracy: 0.9275\n",
            "Epoch 18/20\n",
            "200/200 [==============================] - 20s 98ms/step - loss: 0.0746 - accuracy: 0.9811 - val_loss: 0.2699 - val_accuracy: 0.9187\n",
            "Epoch 19/20\n",
            "200/200 [==============================] - 20s 98ms/step - loss: 0.0595 - accuracy: 0.9870 - val_loss: 0.2213 - val_accuracy: 0.9275\n",
            "Epoch 20/20\n",
            "200/200 [==============================] - 20s 99ms/step - loss: 0.0611 - accuracy: 0.9872 - val_loss: 0.2768 - val_accuracy: 0.9237\n"
          ],
          "name": "stdout"
        },
        {
          "output_type": "execute_result",
          "data": {
            "text/plain": [
              "<tensorflow.python.keras.callbacks.History at 0x7f578d85a048>"
            ]
          },
          "metadata": {
            "tags": []
          },
          "execution_count": 19
        }
      ]
    },
    {
      "cell_type": "markdown",
      "metadata": {
        "id": "v21zw4Wsv80_"
      },
      "source": [
        "##Validation"
      ]
    },
    {
      "cell_type": "code",
      "metadata": {
        "colab": {
          "base_uri": "https://localhost:8080/"
        },
        "id": "uO2bgmjMv2lP",
        "outputId": "4014e8ec-97dc-4241-8475-a685d39f390e"
      },
      "source": [
        "#model evaluation on validation set\n",
        "val_accuracy= model.evaluate(val_ds)"
      ],
      "execution_count": 20,
      "outputs": [
        {
          "output_type": "stream",
          "text": [
            "25/25 [==============================] - 1s 22ms/step - loss: 0.2768 - accuracy: 0.9237\n"
          ],
          "name": "stdout"
        }
      ]
    },
    {
      "cell_type": "markdown",
      "metadata": {
        "id": "qD20dg20wWZ9"
      },
      "source": [
        "##Testing"
      ]
    },
    {
      "cell_type": "code",
      "metadata": {
        "colab": {
          "base_uri": "https://localhost:8080/"
        },
        "id": "sxS4hbZdwal-",
        "outputId": "bbfe67c3-203f-4ab5-90b3-cea1ccd3a393"
      },
      "source": [
        "test_accuracy= model.evaluate(test_ds)"
      ],
      "execution_count": 21,
      "outputs": [
        {
          "output_type": "stream",
          "text": [
            "25/25 [==============================] - 19s 742ms/step - loss: 0.2445 - accuracy: 0.9237\n"
          ],
          "name": "stdout"
        }
      ]
    },
    {
      "cell_type": "markdown",
      "metadata": {
        "id": "aCHMXjN99T6J"
      },
      "source": [
        "#Pruning"
      ]
    },
    {
      "cell_type": "code",
      "metadata": {
        "id": "lM_KCDoM9TM-",
        "colab": {
          "base_uri": "https://localhost:8080/"
        },
        "outputId": "33287736-3f8f-43b5-9b83-88616f61608d"
      },
      "source": [
        "prune_low_magnitude=tfmot.sparsity.keras.prune_low_magnitude\r\n",
        "\r\n",
        "pruning_params = {\r\n",
        "      'pruning_schedule': tfmot.sparsity.keras.PolynomialDecay(initial_sparsity=0.50,final_sparsity=0.90,begin_step=len(train_ds)*5,end_step=len(train_ds)*15)\r\n",
        "}\r\n",
        "\r\n",
        "\r\n",
        "model_for_pruning = prune_low_magnitude(model, **pruning_params)\r\n"
      ],
      "execution_count": 22,
      "outputs": [
        {
          "output_type": "stream",
          "text": [
            "WARNING:tensorflow:From /usr/local/lib/python3.6/dist-packages/tensorflow_model_optimization/python/core/sparsity/keras/pruning_wrapper.py:200: Layer.add_variable (from tensorflow.python.keras.engine.base_layer) is deprecated and will be removed in a future version.\n",
            "Instructions for updating:\n",
            "Please use `layer.add_weight` method instead.\n"
          ],
          "name": "stdout"
        }
      ]
    },
    {
      "cell_type": "code",
      "metadata": {
        "id": "KFio1tecYXz-"
      },
      "source": [
        "model_for_pruning.compile(optimizer='adam',\r\n",
        "              loss=tf.keras.losses.SparseCategoricalCrossentropy(from_logits=True),\r\n",
        "              metrics=['accuracy'])"
      ],
      "execution_count": 23,
      "outputs": []
    },
    {
      "cell_type": "code",
      "metadata": {
        "id": "0VQvZAKg-FAp"
      },
      "source": [
        "callbacks = [tfmot.sparsity.keras.UpdatePruningStep()]\r\n"
      ],
      "execution_count": 24,
      "outputs": []
    },
    {
      "cell_type": "code",
      "metadata": {
        "colab": {
          "base_uri": "https://localhost:8080/"
        },
        "id": "bcvCbjJQYY2R",
        "outputId": "b91fc36c-d3f1-4248-a2dc-732e92713371"
      },
      "source": [
        "model_for_pruning.fit(train_ds,epochs=20,validation_data=val_ds,callbacks=callbacks)"
      ],
      "execution_count": 25,
      "outputs": [
        {
          "output_type": "stream",
          "text": [
            "Epoch 1/20\n",
            "200/200 [==============================] - 20s 100ms/step - loss: 0.0711 - accuracy: 0.9805 - val_loss: 0.2510 - val_accuracy: 0.9337\n",
            "Epoch 2/20\n",
            "200/200 [==============================] - 20s 101ms/step - loss: 0.0568 - accuracy: 0.9862 - val_loss: 0.2738 - val_accuracy: 0.9175\n",
            "Epoch 3/20\n",
            "200/200 [==============================] - 22s 110ms/step - loss: 0.0479 - accuracy: 0.9877 - val_loss: 0.3024 - val_accuracy: 0.9187\n",
            "Epoch 4/20\n",
            "200/200 [==============================] - 20s 100ms/step - loss: 0.0698 - accuracy: 0.9795 - val_loss: 0.3270 - val_accuracy: 0.9100\n",
            "Epoch 5/20\n",
            "200/200 [==============================] - 20s 99ms/step - loss: 0.0525 - accuracy: 0.9853 - val_loss: 0.2676 - val_accuracy: 0.9337\n",
            "Epoch 6/20\n",
            "200/200 [==============================] - 20s 99ms/step - loss: 0.1245 - accuracy: 0.9638 - val_loss: 0.2472 - val_accuracy: 0.9175\n",
            "Epoch 7/20\n",
            "200/200 [==============================] - 20s 100ms/step - loss: 0.1531 - accuracy: 0.9548 - val_loss: 0.2485 - val_accuracy: 0.9300\n",
            "Epoch 8/20\n",
            "200/200 [==============================] - 20s 99ms/step - loss: 0.2178 - accuracy: 0.9327 - val_loss: 0.3105 - val_accuracy: 0.9137\n",
            "Epoch 9/20\n",
            "200/200 [==============================] - 20s 99ms/step - loss: 0.2513 - accuracy: 0.9228 - val_loss: 0.3094 - val_accuracy: 0.9100\n",
            "Epoch 10/20\n",
            "200/200 [==============================] - 20s 99ms/step - loss: 0.3061 - accuracy: 0.9109 - val_loss: 0.3059 - val_accuracy: 0.9100\n",
            "Epoch 11/20\n",
            "200/200 [==============================] - 20s 99ms/step - loss: 0.3356 - accuracy: 0.9072 - val_loss: 0.3212 - val_accuracy: 0.9062\n",
            "Epoch 12/20\n",
            "200/200 [==============================] - 20s 99ms/step - loss: 0.3874 - accuracy: 0.8947 - val_loss: 0.3442 - val_accuracy: 0.9050\n",
            "Epoch 13/20\n",
            "200/200 [==============================] - 20s 99ms/step - loss: 0.3291 - accuracy: 0.9177 - val_loss: 0.3706 - val_accuracy: 0.8950\n",
            "Epoch 14/20\n",
            "200/200 [==============================] - 20s 101ms/step - loss: 0.3128 - accuracy: 0.9200 - val_loss: 0.3301 - val_accuracy: 0.9025\n",
            "Epoch 15/20\n",
            "200/200 [==============================] - 20s 98ms/step - loss: 0.2830 - accuracy: 0.9258 - val_loss: 0.3290 - val_accuracy: 0.9062\n",
            "Epoch 16/20\n",
            "200/200 [==============================] - 19s 97ms/step - loss: 0.2569 - accuracy: 0.9337 - val_loss: 0.3163 - val_accuracy: 0.9000\n",
            "Epoch 17/20\n",
            "200/200 [==============================] - 20s 100ms/step - loss: 0.2404 - accuracy: 0.9347 - val_loss: 0.3059 - val_accuracy: 0.9038\n",
            "Epoch 18/20\n",
            "200/200 [==============================] - 20s 98ms/step - loss: 0.2277 - accuracy: 0.9381 - val_loss: 0.3515 - val_accuracy: 0.8875\n",
            "Epoch 19/20\n",
            "200/200 [==============================] - 20s 98ms/step - loss: 0.2130 - accuracy: 0.9444 - val_loss: 0.2948 - val_accuracy: 0.9187\n",
            "Epoch 20/20\n",
            "200/200 [==============================] - 20s 99ms/step - loss: 0.2011 - accuracy: 0.9467 - val_loss: 0.2917 - val_accuracy: 0.9075\n"
          ],
          "name": "stdout"
        },
        {
          "output_type": "execute_result",
          "data": {
            "text/plain": [
              "<tensorflow.python.keras.callbacks.History at 0x7f57855664e0>"
            ]
          },
          "metadata": {
            "tags": []
          },
          "execution_count": 25
        }
      ]
    },
    {
      "cell_type": "code",
      "metadata": {
        "colab": {
          "base_uri": "https://localhost:8080/"
        },
        "id": "5cuDr45OZ8MY",
        "outputId": "1c80aa93-75ab-48e6-bb2d-5d1d7fdc20dd"
      },
      "source": [
        "model_for_pruning_accuracy = model_for_pruning.evaluate(\r\n",
        "  test_ds, verbose=0)\r\n",
        " \r\n",
        "print('Pruned test accuracy:', model_for_pruning_accuracy)"
      ],
      "execution_count": 26,
      "outputs": [
        {
          "output_type": "stream",
          "text": [
            "Pruned test accuracy: [0.3154958486557007, 0.90625]\n"
          ],
          "name": "stdout"
        }
      ]
    },
    {
      "cell_type": "code",
      "metadata": {
        "id": "e7_VpKqLZc_c"
      },
      "source": [
        "model=tfmot.sparsity.keras.strip_pruning(model_for_pruning)"
      ],
      "execution_count": 27,
      "outputs": []
    },
    {
      "cell_type": "markdown",
      "metadata": {
        "id": "DBoOxTEXxHMd"
      },
      "source": [
        "##tflite conversion"
      ]
    },
    {
      "cell_type": "code",
      "metadata": {
        "id": "uB8OtLPgxM1L",
        "colab": {
          "base_uri": "https://localhost:8080/"
        },
        "outputId": "0f9c288f-fb61-49e7-d7da-0684db0bfa7f"
      },
      "source": [
        "ROOT_DIR=\"./callback_val_chkp/\"\n",
        "tflite_models= ROOT_DIR + \"tfliteModels/\"\n",
        "!mkdir ./callback_val_chkp/tfliteModels\n",
        "\n",
        "\n",
        "if model_type=='a':\n",
        "  if (mfcc==True):\n",
        "    saved_model_dir= ROOT_DIR +\"mfcc_model_a\"\n",
        "    tflite_model_dir= tflite_models + \"model_a\"\n",
        "  else:\n",
        "    saved_model_dir= ROOT_DIR +\"stft_model_a\"\n",
        "    tflite_model_dir= tflite_models + \"model_a\"\n",
        "  \n",
        "\n",
        "if model_type=='b':\n",
        "  if (mfcc==True):\n",
        "    saved_model_dir= ROOT_DIR +\"mfcc_model_b\"\n",
        "    tflite_model_dir= tflite_models + \"model_b\"\n",
        "  else:\n",
        "    saved_model_dir= ROOT_DIR +\"stft_model_b\"\n",
        "    tflite_model_dir= tflite_models + \"model_b\"\n",
        "\n",
        "if model_type=='c':\n",
        "  if (mfcc==True):\n",
        "    saved_model_dir= ROOT_DIR +\"mfcc_model_c\"\n",
        "    tflite_model_dir= tflite_models + \"model_c\"\n",
        "  else:\n",
        "    saved_model_dir= ROOT_DIR +\"stft_model_c\"\n",
        "    tflite_model_dir= tflite_models + \"model_c\"\n",
        "\n",
        "\n",
        "\n",
        "\n",
        "converter=tf.lite.TFLiteConverter.from_keras_model(model) #from_saved_model(saved_model_dir)\n",
        "converter.optimizations = [tf.lite.Optimize.DEFAULT]\n",
        "#converter.representative_dataset= representative_data_gen\n",
        "tflite_model=converter.convert()\n",
        "\n",
        "with open(tflite_model_dir, \"wb\") as fp:\n",
        "  tflite_compressed = zlib.compress(tflite_model)\n",
        "  fp.write(tflite_compressed)"
      ],
      "execution_count": 28,
      "outputs": [
        {
          "output_type": "stream",
          "text": [
            "INFO:tensorflow:Assets written to: /tmp/tmpwd2t6xm3/assets\n"
          ],
          "name": "stdout"
        }
      ]
    },
    {
      "cell_type": "code",
      "metadata": {
        "id": "M6kdf2831FNE"
      },
      "source": [
        ""
      ],
      "execution_count": 28,
      "outputs": []
    },
    {
      "cell_type": "markdown",
      "metadata": {
        "id": "fzw1Xf_irf_z"
      },
      "source": [
        "#Quantization"
      ]
    },
    {
      "cell_type": "code",
      "metadata": {
        "id": "2NRSVYKH4oyS"
      },
      "source": [
        ""
      ],
      "execution_count": 28,
      "outputs": []
    },
    {
      "cell_type": "code",
      "metadata": {
        "colab": {
          "base_uri": "https://localhost:8080/",
          "height": 68
        },
        "id": "rGZEKWN9riUE",
        "outputId": "713f92d2-8ba8-4a86-b77e-d60d7670244b"
      },
      "source": [
        "'''quantize_model = tfmot.quantization.keras.quantize_model\r\n",
        "q_aware_model = quantize_model(model)\r\n",
        "q_aware_model.compile(optimizer='adam',\r\n",
        "              loss=tf.keras.losses.SparseCategoricalCrossentropy(from_logits=True),\r\n",
        "              metrics=['accuracy'])\r\n",
        "q_aware_model.fit(train_ds, epochs=20, validation_data=val_ds,callbacks=[cp_callback])\r\n",
        "\r\n",
        "model=q_aware_model'''"
      ],
      "execution_count": 29,
      "outputs": [
        {
          "output_type": "execute_result",
          "data": {
            "application/vnd.google.colaboratory.intrinsic+json": {
              "type": "string"
            },
            "text/plain": [
              "\"quantize_model = tfmot.quantization.keras.quantize_model\\nq_aware_model = quantize_model(model)\\nq_aware_model.compile(optimizer='adam',\\n              loss=tf.keras.losses.SparseCategoricalCrossentropy(from_logits=True),\\n              metrics=['accuracy'])\\nq_aware_model.fit(train_ds, epochs=20, validation_data=val_ds,callbacks=[cp_callback])\\n\\nmodel=q_aware_model\""
            ]
          },
          "metadata": {
            "tags": []
          },
          "execution_count": 29
        }
      ]
    },
    {
      "cell_type": "markdown",
      "metadata": {
        "id": "iIckUXuaw95G"
      },
      "source": [
        "##Size and latency measurement"
      ]
    },
    {
      "cell_type": "markdown",
      "metadata": {
        "id": "3CH-bOBg2Xy7"
      },
      "source": [
        "##Size measurement"
      ]
    },
    {
      "cell_type": "code",
      "metadata": {
        "colab": {
          "base_uri": "https://localhost:8080/"
        },
        "id": "XiHV3SYH2Sl2",
        "outputId": "d00b9c93-21fa-4886-ac91-5b226aa1fb22"
      },
      "source": [
        "os.path.getsize(tflite_model_dir)"
      ],
      "execution_count": 30,
      "outputs": [
        {
          "output_type": "execute_result",
          "data": {
            "text/plain": [
              "24425"
            ]
          },
          "metadata": {
            "tags": []
          },
          "execution_count": 30
        }
      ]
    },
    {
      "cell_type": "markdown",
      "metadata": {
        "id": "aWuqE4rknUA6"
      },
      "source": [
        "##Latency measurement"
      ]
    },
    {
      "cell_type": "code",
      "metadata": {
        "colab": {
          "base_uri": "https://localhost:8080/"
        },
        "id": "3tVik05Kn2nB",
        "outputId": "2a5b4092-0bbe-4663-9d56-b2647eee4c08"
      },
      "source": [
        " !python ./HMW/HMW2/kws_inference.py --model ./callback_val_chkp/tfliteModels/model_a "
      ],
      "execution_count": 31,
      "outputs": [
        {
          "output_type": "stream",
          "text": [
            "2020-12-14 09:19:06.071046: I tensorflow/stream_executor/platform/default/dso_loader.cc:48] Successfully opened dynamic library libcudart.so.10.1\n",
            "sh: 1: cannot create /sys/devices/system/cpu/cpufreq/policy0/scaling_governor: Directory nonexistent\n",
            "2020-12-14 09:19:08.803071: I tensorflow/stream_executor/platform/default/dso_loader.cc:48] Successfully opened dynamic library libcuda.so.1\n",
            "2020-12-14 09:19:08.813574: E tensorflow/stream_executor/cuda/cuda_driver.cc:314] failed call to cuInit: CUDA_ERROR_NO_DEVICE: no CUDA-capable device is detected\n",
            "2020-12-14 09:19:08.813753: I tensorflow/stream_executor/cuda/cuda_diagnostics.cc:156] kernel driver does not appear to be running on this host (95cbb4335889): /proc/driver/nvidia/version does not exist\n",
            "2020-12-14 09:19:08.836988: I tensorflow/core/platform/profile_utils/cpu_utils.cc:104] CPU Frequency: 2199995000 Hz\n",
            "2020-12-14 09:19:08.837375: I tensorflow/compiler/xla/service/service.cc:168] XLA service 0x2070840 initialized for platform Host (this does not guarantee that XLA will be used). Devices:\n",
            "2020-12-14 09:19:08.837425: I tensorflow/compiler/xla/service/service.cc:176]   StreamExecutor device (0): Host, Default Version\n",
            "Traceback (most recent call last):\n",
            "  File \"./HMW/HMW2/kws_inference.py\", line 45, in <module>\n",
            "    interpreter = tf.lite.Interpreter(model_path=args.model)\n",
            "  File \"/usr/local/lib/python3.6/dist-packages/tensorflow/lite/python/interpreter.py\", line 198, in __init__\n",
            "    model_path, self._custom_op_registerers))\n",
            "ValueError: Could not open './callback_val_chkp/tfliteModels/model_a'.\n"
          ],
          "name": "stdout"
        }
      ]
    }
  ]
}