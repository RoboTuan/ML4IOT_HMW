{
  "nbformat": 4,
  "nbformat_minor": 0,
  "metadata": {
    "colab": {
      "name": "HW2_ex2.ipynb",
      "provenance": [],
      "authorship_tag": "ABX9TyNRHVcO8yMybyvjgCxAtCMs",
      "include_colab_link": true
    },
    "kernelspec": {
      "name": "python3",
      "display_name": "Python 3"
    }
  },
  "cells": [
    {
      "cell_type": "markdown",
      "metadata": {
        "id": "view-in-github",
        "colab_type": "text"
      },
      "source": [
        "<a href=\"https://colab.research.google.com/github/RoboTuan/ML4IOT_HMW/blob/main/HMW2/HW2_ex2.ipynb\" target=\"_parent\"><img src=\"https://colab.research.google.com/assets/colab-badge.svg\" alt=\"Open In Colab\"/></a>"
      ]
    },
    {
      "cell_type": "code",
      "metadata": {
        "colab": {
          "base_uri": "https://localhost:8080/"
        },
        "id": "EtNsmv43APVI",
        "outputId": "734bb4ae-322a-4732-cc07-fca12943108c"
      },
      "source": [
        " pip install -q tensorflow-model-optimization"
      ],
      "execution_count": 1,
      "outputs": [
        {
          "output_type": "stream",
          "text": [
            "\u001b[?25l\r\u001b[K     |██                              | 10kB 20.7MB/s eta 0:00:01\r\u001b[K     |███▉                            | 20kB 26.7MB/s eta 0:00:01\r\u001b[K     |█████▊                          | 30kB 25.2MB/s eta 0:00:01\r\u001b[K     |███████▋                        | 40kB 13.4MB/s eta 0:00:01\r\u001b[K     |█████████▌                      | 51kB 8.3MB/s eta 0:00:01\r\u001b[K     |███████████▍                    | 61kB 8.7MB/s eta 0:00:01\r\u001b[K     |█████████████▎                  | 71kB 8.5MB/s eta 0:00:01\r\u001b[K     |███████████████▏                | 81kB 9.5MB/s eta 0:00:01\r\u001b[K     |█████████████████               | 92kB 9.9MB/s eta 0:00:01\r\u001b[K     |███████████████████             | 102kB 9.9MB/s eta 0:00:01\r\u001b[K     |████████████████████▉           | 112kB 9.9MB/s eta 0:00:01\r\u001b[K     |██████████████████████▊         | 122kB 9.9MB/s eta 0:00:01\r\u001b[K     |████████████████████████▊       | 133kB 9.9MB/s eta 0:00:01\r\u001b[K     |██████████████████████████▋     | 143kB 9.9MB/s eta 0:00:01\r\u001b[K     |████████████████████████████▌   | 153kB 9.9MB/s eta 0:00:01\r\u001b[K     |██████████████████████████████▍ | 163kB 9.9MB/s eta 0:00:01\r\u001b[K     |████████████████████████████████| 174kB 9.9MB/s \n",
            "\u001b[?25h"
          ],
          "name": "stdout"
        }
      ]
    },
    {
      "cell_type": "code",
      "metadata": {
        "id": "jCB53wPLLWaR"
      },
      "source": [
        "import tensorflow as tf\n",
        "import numpy as np\n",
        "from tensorflow import keras\n",
        "import pandas as pd\n",
        "import matplotlib.pyplot as plt\n",
        "import os\n",
        "from zipfile import ZipFile\n",
        "import tensorflow_model_optimization as tfmot\n",
        "from tensorflow_model_optimization.python.core.api.sparsity import keras as sparsity\n",
        "import zlib\n",
        "\n"
      ],
      "execution_count": 2,
      "outputs": []
    },
    {
      "cell_type": "code",
      "metadata": {
        "colab": {
          "base_uri": "https://localhost:8080/"
        },
        "id": "ZNmNFu8Mjsxl",
        "outputId": "fd07bc5c-78d8-4983-b805-14fe622ea111"
      },
      "source": [
        "if not os.path.isdir('./HMW'):\n",
        "  !git clone \"https://github.com/RoboTuan/ML4IOT_HMW.git\"  \n",
        "  !mv 'ML4IOT_HMW' 'HMW'\n",
        "\n",
        "ROOT_DIR = 'HMW/HMW2/'\n",
        "tflite_models=ROOT_DIR + \"tflite_models/\""
      ],
      "execution_count": 3,
      "outputs": [
        {
          "output_type": "stream",
          "text": [
            "Cloning into 'ML4IOT_HMW'...\n",
            "remote: Enumerating objects: 187, done.\u001b[K\n",
            "remote: Counting objects: 100% (187/187), done.\u001b[K\n",
            "remote: Compressing objects: 100% (160/160), done.\u001b[K\n",
            "remote: Total 187 (delta 106), reused 67 (delta 21), pack-reused 0\u001b[K\n",
            "Receiving objects: 100% (187/187), 1.69 MiB | 5.47 MiB/s, done.\n",
            "Resolving deltas: 100% (106/106), done.\n"
          ],
          "name": "stdout"
        }
      ]
    },
    {
      "cell_type": "code",
      "metadata": {
        "id": "p-26mjjDSR1F"
      },
      "source": [
        "#parser = argparse.ArgumentParser()\n",
        "#parser.add_argument('--version', type=str, required=True, help='a,b or c')\n",
        "#parser.add_argument('--mfcc', action='store_true', help='use MFCCs')\n",
        "#args = parser.parse_args()\n",
        "\n",
        "model_type='c' #args.version\n",
        "mfcc=True\n",
        "alpha=0.75"
      ],
      "execution_count": 4,
      "outputs": []
    },
    {
      "cell_type": "code",
      "metadata": {
        "id": "X7K0B4RTTkNI"
      },
      "source": [
        "seed = 42\n",
        "tf.random.set_seed(seed)\n",
        "np.random.seed(seed)"
      ],
      "execution_count": 5,
      "outputs": []
    },
    {
      "cell_type": "code",
      "metadata": {
        "id": "EFbVU7mgTmr5",
        "colab": {
          "base_uri": "https://localhost:8080/"
        },
        "outputId": "b26b5b73-a382-409e-d5f5-cf70cc882ab6"
      },
      "source": [
        "zip_path = tf.keras.utils.get_file(\n",
        "        origin=\"http://storage.googleapis.com/download.tensorflow.org/data/mini_speech_commands.zip\",\n",
        "        fname='mini_speech_commands.zip',\n",
        "        extract=True,\n",
        "        cache_dir='.', cache_subdir='data')\n",
        "data_dir = os.path.join('.', 'data', 'mini_speech_commands')\n",
        "filenames = tf.io.gfile.glob(str(data_dir) + '/*/*')\n",
        "filenames = tf.random.shuffle(filenames)\n",
        "num_samples = len(filenames)\n",
        "total = 8000"
      ],
      "execution_count": 6,
      "outputs": [
        {
          "output_type": "stream",
          "text": [
            "Downloading data from http://storage.googleapis.com/download.tensorflow.org/data/mini_speech_commands.zip\n",
            "182083584/182082353 [==============================] - 3s 0us/step\n"
          ],
          "name": "stdout"
        }
      ]
    },
    {
      "cell_type": "code",
      "metadata": {
        "id": "mmen3RxJWUE7"
      },
      "source": [
        "train_files = tf.strings.split(tf.io.read_file(ROOT_DIR +'kws_train_split.txt'),sep='\\n')[:-1]\n",
        "val_files= tf.strings.split(tf.io.read_file(ROOT_DIR +'kws_val_split.txt'),sep='\\n')[:-1]\n",
        "test_files = tf.strings.split(tf.io.read_file(ROOT_DIR +'kws_test_split.txt'),sep='\\n')[:-1]\n",
        "\n",
        " \n"
      ],
      "execution_count": 7,
      "outputs": []
    },
    {
      "cell_type": "code",
      "metadata": {
        "id": "O46MZr_UV8sM"
      },
      "source": [
        ""
      ],
      "execution_count": 7,
      "outputs": []
    },
    {
      "cell_type": "code",
      "metadata": {
        "id": "j-MfBnKZcfEF"
      },
      "source": [
        "LABELS = np.array(tf.io.gfile.listdir(str(data_dir)))\n",
        "LABELS = LABELS[LABELS != 'README.md']"
      ],
      "execution_count": 8,
      "outputs": []
    },
    {
      "cell_type": "code",
      "metadata": {
        "id": "C1HWKgl4cgGs"
      },
      "source": [
        "class SignalGenerator:\n",
        "    def __init__(self, labels, sampling_rate, frame_length, frame_step,\n",
        "            num_mel_bins=None, lower_frequency=None, upper_frequency=None,\n",
        "            num_coefficients=None, mfcc=False):\n",
        "        self.labels = labels\n",
        "        self.sampling_rate = sampling_rate\n",
        "        self.frame_length = frame_length\n",
        "        self.frame_step = frame_step\n",
        "        self.num_mel_bins = num_mel_bins\n",
        "        self.lower_frequency = lower_frequency\n",
        "        self.upper_frequency = upper_frequency\n",
        "        self.num_coefficients = num_coefficients\n",
        "        num_spectrogram_bins = (frame_length) // 2 + 1\n",
        "\n",
        "        if mfcc is True:\n",
        "            self.linear_to_mel_weight_matrix = tf.signal.linear_to_mel_weight_matrix(\n",
        "                    self.num_mel_bins, num_spectrogram_bins, self.sampling_rate,\n",
        "                    self.lower_frequency, self.upper_frequency)\n",
        "            self.preprocess = self.preprocess_with_mfcc\n",
        "        else:\n",
        "            self.preprocess = self.preprocess_with_stft\n",
        "\n",
        "    def read(self, file_path):\n",
        "        parts = tf.strings.split(file_path, os.path.sep)\n",
        "        label = parts[-2]\n",
        "        label_id = tf.argmax(label == self.labels)\n",
        "        audio_binary = tf.io.read_file(file_path)\n",
        "        audio, _ = tf.audio.decode_wav(audio_binary)\n",
        "        audio = tf.squeeze(audio, axis=1)\n",
        "\n",
        "        return audio, label_id\n",
        "\n",
        "    def pad(self, audio):\n",
        "        zero_padding = tf.zeros([self.sampling_rate] - tf.shape(audio), dtype=tf.float32)\n",
        "        audio = tf.concat([audio, zero_padding], 0)\n",
        "        audio.set_shape([self.sampling_rate])\n",
        "\n",
        "        return audio\n",
        "    def get_spectrogram(self, audio):\n",
        "        stft = tf.signal.stft(audio, frame_length=self.frame_length,\n",
        "                frame_step=self.frame_step, fft_length=self.frame_length)\n",
        "        spectrogram = tf.abs(stft)\n",
        "\n",
        "        return spectrogram\n",
        "\n",
        "    def get_mfccs(self, spectrogram):\n",
        "        mel_spectrogram = tf.tensordot(spectrogram,\n",
        "                self.linear_to_mel_weight_matrix, 1)\n",
        "        log_mel_spectrogram = tf.math.log(mel_spectrogram + 1.e-6)\n",
        "        mfccs = tf.signal.mfccs_from_log_mel_spectrograms(log_mel_spectrogram)\n",
        "        mfccs = mfccs[..., :self.num_coefficients]\n",
        "\n",
        "        return mfccs\n",
        "\n",
        "    def preprocess_with_stft(self, file_path):\n",
        "        audio, label = self.read(file_path)\n",
        "        audio = self.pad(audio)\n",
        "        spectrogram = self.get_spectrogram(audio)\n",
        "        spectrogram = tf.expand_dims(spectrogram, -1)\n",
        "        spectrogram = tf.image.resize(spectrogram, [32, 32])\n",
        "\n",
        "        return spectrogram, label\n",
        "\n",
        "    def preprocess_with_mfcc(self, file_path):\n",
        "        audio, label = self.read(file_path)\n",
        "        audio = self.pad(audio)\n",
        "        spectrogram = self.get_spectrogram(audio)\n",
        "        mfccs = self.get_mfccs(spectrogram)\n",
        "        mfccs = tf.expand_dims(mfccs, -1)\n",
        "\n",
        "        return mfccs, label\n",
        "\n",
        "    def make_dataset(self, files, train):\n",
        "        ds = tf.data.Dataset.from_tensor_slices(files)\n",
        "        ds = ds.map(self.preprocess, num_parallel_calls=4)\n",
        "        ds = ds.batch(32)\n",
        "        ds = ds.cache()\n",
        "        if train is True:\n",
        "            ds = ds.shuffle(100, reshuffle_each_iteration=True)\n",
        "\n",
        "        return ds\n",
        "    \n",
        "\n"
      ],
      "execution_count": 9,
      "outputs": []
    },
    {
      "cell_type": "code",
      "metadata": {
        "id": "uF2ceXoTc6X_"
      },
      "source": [
        "STFT_OPTIONS = {'frame_length': 256, 'frame_step': 128, 'mfcc': False}\n",
        "MFCC_OPTIONS = {'frame_length': 640, 'frame_step': 320, 'mfcc': True,\n",
        "        'lower_frequency': 20, 'upper_frequency': 4000, 'num_mel_bins': 40,\n",
        "        'num_coefficients': 10}"
      ],
      "execution_count": 10,
      "outputs": []
    },
    {
      "cell_type": "code",
      "metadata": {
        "id": "6mpDzH9GdmBs"
      },
      "source": [
        "#if args.mfcc is True:\n",
        "if mfcc is True:\n",
        "    options = MFCC_OPTIONS\n",
        "    strides = [2, 1]\n",
        "else:\n",
        "    options = STFT_OPTIONS\n",
        "    strides = [2, 2]"
      ],
      "execution_count": 11,
      "outputs": []
    },
    {
      "cell_type": "code",
      "metadata": {
        "id": "Tg8Cg36tdrLd"
      },
      "source": [
        "generator = SignalGenerator(LABELS, 16000, **options)\n",
        "train_ds = generator.make_dataset(train_files, True)\n",
        "val_ds = generator.make_dataset(val_files, False)\n",
        "test_ds = generator.make_dataset(test_files, False)\n",
        "units=8"
      ],
      "execution_count": 12,
      "outputs": []
    },
    {
      "cell_type": "code",
      "metadata": {
        "id": "N_hJ3fLKwGxh"
      },
      "source": [
        "dataset_dir= ROOT_DIR + \"dataset\"\r\n",
        "\r\n",
        "tf.data.experimental.save(train_ds, f'{dataset_dir}/train_ds')\r\n",
        "tf.data.experimental.save(val_ds, f'{dataset_dir}/val_ds')\r\n",
        "tf.data.experimental.save(test_ds, f'{dataset_dir}/test_ds')"
      ],
      "execution_count": 13,
      "outputs": []
    },
    {
      "cell_type": "code",
      "metadata": {
        "colab": {
          "base_uri": "https://localhost:8080/",
          "height": 100
        },
        "id": "5cUpzXNwxS7H",
        "outputId": "61138953-252b-4876-96bf-1cf49da17f80"
      },
      "source": [
        "!zip -r test_ds.zip {dataset_dir + \"/test_ds\"}\r\n"
      ],
      "execution_count": 14,
      "outputs": [
        {
          "output_type": "stream",
          "text": [
            "  adding: HMW/HMW2/dataset/test_ds/ (stored 0%)\n",
            "  adding: HMW/HMW2/dataset/test_ds/snapshot.metadata (stored 0%)\n",
            "  adding: HMW/HMW2/dataset/test_ds/15031723494189575379/ (stored 0%)\n",
            "  adding: HMW/HMW2/dataset/test_ds/15031723494189575379/00000000.shard/ (stored 0%)\n",
            "  adding: HMW/HMW2/dataset/test_ds/15031723494189575379/00000000.shard/00000000.snapshot (deflated 8%)\n"
          ],
          "name": "stdout"
        },
        {
          "output_type": "display_data",
          "data": {
            "application/javascript": [
              "\n",
              "    async function download(id, filename, size) {\n",
              "      if (!google.colab.kernel.accessAllowed) {\n",
              "        return;\n",
              "      }\n",
              "      const div = document.createElement('div');\n",
              "      const label = document.createElement('label');\n",
              "      label.textContent = `Downloading \"${filename}\": `;\n",
              "      div.appendChild(label);\n",
              "      const progress = document.createElement('progress');\n",
              "      progress.max = size;\n",
              "      div.appendChild(progress);\n",
              "      document.body.appendChild(div);\n",
              "\n",
              "      const buffers = [];\n",
              "      let downloaded = 0;\n",
              "\n",
              "      const channel = await google.colab.kernel.comms.open(id);\n",
              "      // Send a message to notify the kernel that we're ready.\n",
              "      channel.send({})\n",
              "\n",
              "      for await (const message of channel.messages) {\n",
              "        // Send a message to notify the kernel that we're ready.\n",
              "        channel.send({})\n",
              "        if (message.buffers) {\n",
              "          for (const buffer of message.buffers) {\n",
              "            buffers.push(buffer);\n",
              "            downloaded += buffer.byteLength;\n",
              "            progress.value = downloaded;\n",
              "          }\n",
              "        }\n",
              "      }\n",
              "      const blob = new Blob(buffers, {type: 'application/binary'});\n",
              "      const a = document.createElement('a');\n",
              "      a.href = window.URL.createObjectURL(blob);\n",
              "      a.download = filename;\n",
              "      div.appendChild(a);\n",
              "      a.click();\n",
              "      div.remove();\n",
              "    }\n",
              "  "
            ],
            "text/plain": [
              "<IPython.core.display.Javascript object>"
            ]
          },
          "metadata": {
            "tags": []
          }
        },
        {
          "output_type": "display_data",
          "data": {
            "application/javascript": [
              "download(\"download_50da1ef1-23cd-46e2-8e5c-944cda5d0b2c\", \"test_ds.zip\", 1447047)"
            ],
            "text/plain": [
              "<IPython.core.display.Javascript object>"
            ]
          },
          "metadata": {
            "tags": []
          }
        }
      ]
    },
    {
      "cell_type": "markdown",
      "metadata": {
        "id": "u6ue7OwCvSg-"
      },
      "source": [
        "#Model"
      ]
    },
    {
      "cell_type": "markdown",
      "metadata": {
        "id": "-j7vRZkLziid"
      },
      "source": [
        "##Model A"
      ]
    },
    {
      "cell_type": "code",
      "metadata": {
        "id": "2lcrcEETzlox"
      },
      "source": [
        "#MLP Model definition\n",
        "mlp_model = keras.Sequential([\n",
        "    keras.layers.Flatten(),\n",
        "    keras.layers.Dense(units=256, activation='relu'),\n",
        "    keras.layers.Dense(units=256, activation='relu'),\n",
        "    keras.layers.Dense(units=256, activation='relu'),\n",
        "    keras.layers.Dense(units=8) #if silence 10\n",
        "])"
      ],
      "execution_count": 15,
      "outputs": []
    },
    {
      "cell_type": "markdown",
      "metadata": {
        "id": "sjtKHmqJzmPH"
      },
      "source": [
        "##Model B"
      ]
    },
    {
      "cell_type": "code",
      "metadata": {
        "id": "PXmdPXRyznwO"
      },
      "source": [
        "#CNN_2D Model definition\n",
        "\n",
        "cnn_model = keras.Sequential([\n",
        "    keras.layers.Conv2D(filters=128,kernel_size=[3,3],strides=strides, use_bias=False),\n",
        "    keras.layers.BatchNormalization(momentum=0.1),\n",
        "    keras.layers.ReLU(),\n",
        "    keras.layers.Conv2D(filters=128,kernel_size=[3,3],strides=strides, use_bias=False),\n",
        "    keras.layers.BatchNormalization(momentum=0.1),\n",
        "    keras.layers.ReLU(),\n",
        "    keras.layers.Conv2D(filters=128,kernel_size=[3,3],strides=strides, use_bias=False),\n",
        "    keras.layers.BatchNormalization(momentum=0.1),\n",
        "    keras.layers.ReLU(),\n",
        "    keras.layers.GlobalAveragePooling2D(),\n",
        "    keras.layers.Dense(units=8) #10 if silence\n",
        "])"
      ],
      "execution_count": 16,
      "outputs": []
    },
    {
      "cell_type": "markdown",
      "metadata": {
        "id": "FKkktzv2zoWx"
      },
      "source": [
        "##Model C"
      ]
    },
    {
      "cell_type": "code",
      "metadata": {
        "id": "vgNVG-jzzsUk"
      },
      "source": [
        "ds_cnn_model = keras.Sequential([\n",
        "    keras.layers.Conv2D(filters=(alpha*256),kernel_size=[3,3],strides=strides, use_bias=False),\n",
        "    keras.layers.BatchNormalization(momentum=0.1),\n",
        "    keras.layers.ReLU(),\n",
        "    keras.layers.DepthwiseConv2D(kernel_size=[3,3],strides=[1, 1], use_bias=False),\n",
        "    keras.layers.Conv2D(filters=(alpha*256),kernel_size=[1,1],strides=[1,1], use_bias=False),\n",
        "    keras.layers.BatchNormalization(momentum=0.1),\n",
        "    keras.layers.ReLU(),\n",
        "    keras.layers.DepthwiseConv2D(kernel_size=[3,3],strides=[1, 1], use_bias=False),\n",
        "    keras.layers.Conv2D(filters=(alpha*256),kernel_size=[1,1],strides=[1,1], use_bias=False),\n",
        "    keras.layers.BatchNormalization(momentum=0.1),\n",
        "    keras.layers.ReLU(),\n",
        "    keras.layers.GlobalAveragePooling2D(),\n",
        "    keras.layers.Dense(units=8) #10 if silence else 8\n",
        "])"
      ],
      "execution_count": 17,
      "outputs": []
    },
    {
      "cell_type": "markdown",
      "metadata": {
        "id": "Xcdo-vXFvZpg"
      },
      "source": [
        "##Model definition"
      ]
    },
    {
      "cell_type": "code",
      "metadata": {
        "id": "F58fd8zpvR6m"
      },
      "source": [
        "if model_type=='a':\n",
        "  model=mlp_model\n",
        "  if (mfcc==True):\n",
        "    path= './callback_val_chkp/mfcc_model_a'\n",
        "  else:\n",
        "    path= './callback_val_chkp/stft_model_a'\n",
        "\n",
        "if model_type=='b':\n",
        "  model=cnn_model\n",
        "  if (mfcc==True):\n",
        "    path= './callback_val_chkp/mfcc_model_b'\n",
        "  else:\n",
        "    path= './callback_val_chkp/stft_model_b'\n",
        "\n",
        "if model_type=='c':\n",
        "  model=ds_cnn_model\n",
        "  if (mfcc==True):\n",
        "    path= './callback_val_chkp/mfcc_model_c'\n",
        "  else:\n",
        "    path= './callback_val_chkp/stft_model_c'"
      ],
      "execution_count": 18,
      "outputs": []
    },
    {
      "cell_type": "code",
      "metadata": {
        "id": "DkhUmj-V46H2"
      },
      "source": [
        "\n",
        "cp_callback = keras.callbacks.ModelCheckpoint(\n",
        "    filepath=path,\n",
        "    # './callback_test_chkp/chkp_best',\n",
        "    monitor='val_accuracy',\n",
        "    verbose=0, \n",
        "    save_best_only=True,\n",
        "    # save_best_only=True,\n",
        "    save_weights_only=False,\n",
        "    mode='auto',\n",
        "    save_freq='epoch'\n",
        ")"
      ],
      "execution_count": 19,
      "outputs": []
    },
    {
      "cell_type": "markdown",
      "metadata": {
        "id": "iJQc4JTpvcfi"
      },
      "source": [
        "##Training"
      ]
    },
    {
      "cell_type": "code",
      "metadata": {
        "colab": {
          "base_uri": "https://localhost:8080/"
        },
        "id": "HITYllmYvoXx",
        "outputId": "79dae53a-f767-449f-bac2-66d4b48175e0"
      },
      "source": [
        "model.compile(loss=tf.keras.losses.SparseCategoricalCrossentropy(from_logits=True) ,optimizer='adam', metrics=['accuracy'])\n",
        "model.fit(train_ds, epochs=20, validation_data=val_ds,callbacks=[cp_callback])"
      ],
      "execution_count": 20,
      "outputs": [
        {
          "output_type": "stream",
          "text": [
            "Epoch 1/20\n",
            "200/200 [==============================] - ETA: 0s - loss: 1.2934 - accuracy: 0.6072WARNING:tensorflow:From /usr/local/lib/python3.6/dist-packages/tensorflow/python/training/tracking/tracking.py:111: Model.state_updates (from tensorflow.python.keras.engine.training) is deprecated and will be removed in a future version.\n",
            "Instructions for updating:\n",
            "This property should not be used in TensorFlow 2.0, as updates are applied automatically.\n",
            "WARNING:tensorflow:From /usr/local/lib/python3.6/dist-packages/tensorflow/python/training/tracking/tracking.py:111: Layer.updates (from tensorflow.python.keras.engine.base_layer) is deprecated and will be removed in a future version.\n",
            "Instructions for updating:\n",
            "This property should not be used in TensorFlow 2.0, as updates are applied automatically.\n",
            "INFO:tensorflow:Assets written to: ./callback_val_chkp/mfcc_model_c/assets\n",
            "200/200 [==============================] - 17s 83ms/step - loss: 1.2934 - accuracy: 0.6072 - val_loss: 0.8255 - val_accuracy: 0.7513\n",
            "Epoch 2/20\n",
            "200/200 [==============================] - ETA: 0s - loss: 0.6756 - accuracy: 0.8141INFO:tensorflow:Assets written to: ./callback_val_chkp/mfcc_model_c/assets\n",
            "200/200 [==============================] - 17s 84ms/step - loss: 0.6756 - accuracy: 0.8141 - val_loss: 0.5210 - val_accuracy: 0.8375\n",
            "Epoch 3/20\n",
            "200/200 [==============================] - ETA: 0s - loss: 0.4733 - accuracy: 0.8667INFO:tensorflow:Assets written to: ./callback_val_chkp/mfcc_model_c/assets\n",
            "200/200 [==============================] - 17s 84ms/step - loss: 0.4733 - accuracy: 0.8667 - val_loss: 0.4511 - val_accuracy: 0.8675\n",
            "Epoch 4/20\n",
            "200/200 [==============================] - ETA: 0s - loss: 0.3761 - accuracy: 0.8925INFO:tensorflow:Assets written to: ./callback_val_chkp/mfcc_model_c/assets\n",
            "200/200 [==============================] - 17s 84ms/step - loss: 0.3761 - accuracy: 0.8925 - val_loss: 0.3754 - val_accuracy: 0.8838\n",
            "Epoch 5/20\n",
            "200/200 [==============================] - ETA: 0s - loss: 0.3232 - accuracy: 0.9075INFO:tensorflow:Assets written to: ./callback_val_chkp/mfcc_model_c/assets\n",
            "200/200 [==============================] - 17s 83ms/step - loss: 0.3232 - accuracy: 0.9075 - val_loss: 0.3606 - val_accuracy: 0.8888\n",
            "Epoch 6/20\n",
            "200/200 [==============================] - ETA: 0s - loss: 0.2715 - accuracy: 0.9225INFO:tensorflow:Assets written to: ./callback_val_chkp/mfcc_model_c/assets\n",
            "200/200 [==============================] - 17s 84ms/step - loss: 0.2715 - accuracy: 0.9225 - val_loss: 0.2907 - val_accuracy: 0.9137\n",
            "Epoch 7/20\n",
            "200/200 [==============================] - ETA: 0s - loss: 0.2390 - accuracy: 0.9320INFO:tensorflow:Assets written to: ./callback_val_chkp/mfcc_model_c/assets\n",
            "200/200 [==============================] - 17s 84ms/step - loss: 0.2390 - accuracy: 0.9320 - val_loss: 0.2757 - val_accuracy: 0.9212\n",
            "Epoch 8/20\n",
            "200/200 [==============================] - ETA: 0s - loss: 0.2102 - accuracy: 0.9397INFO:tensorflow:Assets written to: ./callback_val_chkp/mfcc_model_c/assets\n",
            "200/200 [==============================] - 17s 85ms/step - loss: 0.2102 - accuracy: 0.9397 - val_loss: 0.2617 - val_accuracy: 0.9275\n",
            "Epoch 9/20\n",
            "200/200 [==============================] - 15s 77ms/step - loss: 0.1941 - accuracy: 0.9422 - val_loss: 0.2696 - val_accuracy: 0.9250\n",
            "Epoch 10/20\n",
            "200/200 [==============================] - 15s 76ms/step - loss: 0.1708 - accuracy: 0.9536 - val_loss: 0.2648 - val_accuracy: 0.9087\n",
            "Epoch 11/20\n",
            "200/200 [==============================] - 15s 77ms/step - loss: 0.1572 - accuracy: 0.9548 - val_loss: 0.2887 - val_accuracy: 0.9087\n",
            "Epoch 12/20\n",
            "200/200 [==============================] - 15s 76ms/step - loss: 0.1366 - accuracy: 0.9636 - val_loss: 0.2886 - val_accuracy: 0.9137\n",
            "Epoch 13/20\n",
            "200/200 [==============================] - 15s 76ms/step - loss: 0.1238 - accuracy: 0.9658 - val_loss: 0.2962 - val_accuracy: 0.9112\n",
            "Epoch 14/20\n",
            "200/200 [==============================] - 15s 77ms/step - loss: 0.1116 - accuracy: 0.9705 - val_loss: 0.2534 - val_accuracy: 0.9150\n",
            "Epoch 15/20\n",
            "200/200 [==============================] - 15s 77ms/step - loss: 0.0987 - accuracy: 0.9753 - val_loss: 0.2743 - val_accuracy: 0.9187\n",
            "Epoch 16/20\n",
            "200/200 [==============================] - 15s 76ms/step - loss: 0.1121 - accuracy: 0.9664 - val_loss: 0.2398 - val_accuracy: 0.9250\n",
            "Epoch 17/20\n",
            "200/200 [==============================] - 15s 76ms/step - loss: 0.0787 - accuracy: 0.9805 - val_loss: 0.2669 - val_accuracy: 0.9150\n",
            "Epoch 18/20\n",
            "200/200 [==============================] - ETA: 0s - loss: 0.0729 - accuracy: 0.9817INFO:tensorflow:Assets written to: ./callback_val_chkp/mfcc_model_c/assets\n",
            "200/200 [==============================] - 17s 83ms/step - loss: 0.0729 - accuracy: 0.9817 - val_loss: 0.2255 - val_accuracy: 0.9300\n",
            "Epoch 19/20\n",
            "200/200 [==============================] - 15s 75ms/step - loss: 0.0651 - accuracy: 0.9848 - val_loss: 0.2310 - val_accuracy: 0.9287\n",
            "Epoch 20/20\n",
            "200/200 [==============================] - 15s 75ms/step - loss: 0.0541 - accuracy: 0.9872 - val_loss: 0.2481 - val_accuracy: 0.9262\n"
          ],
          "name": "stdout"
        },
        {
          "output_type": "execute_result",
          "data": {
            "text/plain": [
              "<tensorflow.python.keras.callbacks.History at 0x7f66c051ac50>"
            ]
          },
          "metadata": {
            "tags": []
          },
          "execution_count": 20
        }
      ]
    },
    {
      "cell_type": "markdown",
      "metadata": {
        "id": "v21zw4Wsv80_"
      },
      "source": [
        "##Validation"
      ]
    },
    {
      "cell_type": "code",
      "metadata": {
        "colab": {
          "base_uri": "https://localhost:8080/"
        },
        "id": "uO2bgmjMv2lP",
        "outputId": "c6d66431-137a-4837-d0f4-cadaa99d1b4f"
      },
      "source": [
        "#model evaluation on validation set\n",
        "val_accuracy= model.evaluate(val_ds)"
      ],
      "execution_count": 21,
      "outputs": [
        {
          "output_type": "stream",
          "text": [
            "25/25 [==============================] - 0s 17ms/step - loss: 0.2481 - accuracy: 0.9262\n"
          ],
          "name": "stdout"
        }
      ]
    },
    {
      "cell_type": "markdown",
      "metadata": {
        "id": "qD20dg20wWZ9"
      },
      "source": [
        "##Testing"
      ]
    },
    {
      "cell_type": "code",
      "metadata": {
        "colab": {
          "base_uri": "https://localhost:8080/"
        },
        "id": "sxS4hbZdwal-",
        "outputId": "939c1110-b656-4c56-923f-2f25f38bebe8"
      },
      "source": [
        "test_accuracy= model.evaluate(test_ds)"
      ],
      "execution_count": 22,
      "outputs": [
        {
          "output_type": "stream",
          "text": [
            "25/25 [==============================] - 1s 20ms/step - loss: 0.2676 - accuracy: 0.9150\n"
          ],
          "name": "stdout"
        }
      ]
    },
    {
      "cell_type": "markdown",
      "metadata": {
        "id": "aCHMXjN99T6J"
      },
      "source": [
        "#Pruning"
      ]
    },
    {
      "cell_type": "code",
      "metadata": {
        "id": "lM_KCDoM9TM-",
        "colab": {
          "base_uri": "https://localhost:8080/"
        },
        "outputId": "90663e4c-c620-4a64-adec-372ecb588d6a"
      },
      "source": [
        "prune_low_magnitude=tfmot.sparsity.keras.prune_low_magnitude\r\n",
        "\r\n",
        "pruning_params = {\r\n",
        "      'pruning_schedule': tfmot.sparsity.keras.PolynomialDecay(initial_sparsity=0.50,final_sparsity=0.90,begin_step=len(train_ds)*5,end_step=len(train_ds)*15)\r\n",
        "}\r\n",
        "\r\n",
        "\r\n",
        "model_for_pruning = prune_low_magnitude(model, **pruning_params)\r\n"
      ],
      "execution_count": 23,
      "outputs": [
        {
          "output_type": "stream",
          "text": [
            "WARNING:tensorflow:From /usr/local/lib/python3.6/dist-packages/tensorflow_model_optimization/python/core/sparsity/keras/pruning_wrapper.py:200: Layer.add_variable (from tensorflow.python.keras.engine.base_layer) is deprecated and will be removed in a future version.\n",
            "Instructions for updating:\n",
            "Please use `layer.add_weight` method instead.\n"
          ],
          "name": "stdout"
        }
      ]
    },
    {
      "cell_type": "code",
      "metadata": {
        "id": "KFio1tecYXz-"
      },
      "source": [
        "model_for_pruning.compile(optimizer='adam',\r\n",
        "              loss=tf.keras.losses.SparseCategoricalCrossentropy(from_logits=True),\r\n",
        "              metrics=['accuracy'])"
      ],
      "execution_count": 24,
      "outputs": []
    },
    {
      "cell_type": "code",
      "metadata": {
        "id": "0VQvZAKg-FAp"
      },
      "source": [
        "callbacks = [tfmot.sparsity.keras.UpdatePruningStep()]\r\n"
      ],
      "execution_count": 25,
      "outputs": []
    },
    {
      "cell_type": "code",
      "metadata": {
        "colab": {
          "base_uri": "https://localhost:8080/"
        },
        "id": "bcvCbjJQYY2R",
        "outputId": "bf1ca921-7ca0-4e4f-85d6-dbfe7f28ed83"
      },
      "source": [
        "model_for_pruning.fit(train_ds,epochs=20,validation_data=val_ds,callbacks=callbacks) "
      ],
      "execution_count": 26,
      "outputs": [
        {
          "output_type": "stream",
          "text": [
            "Epoch 1/20\n",
            "200/200 [==============================] - 16s 78ms/step - loss: 0.0701 - accuracy: 0.9808 - val_loss: 0.2714 - val_accuracy: 0.9150\n",
            "Epoch 2/20\n",
            "200/200 [==============================] - 15s 77ms/step - loss: 0.0606 - accuracy: 0.9833 - val_loss: 0.2649 - val_accuracy: 0.9237\n",
            "Epoch 3/20\n",
            "200/200 [==============================] - 15s 77ms/step - loss: 0.0511 - accuracy: 0.9875 - val_loss: 0.3672 - val_accuracy: 0.8963\n",
            "Epoch 4/20\n",
            "200/200 [==============================] - 15s 76ms/step - loss: 0.0743 - accuracy: 0.9791 - val_loss: 0.2704 - val_accuracy: 0.9187\n",
            "Epoch 5/20\n",
            "200/200 [==============================] - 15s 77ms/step - loss: 0.0479 - accuracy: 0.9880 - val_loss: 0.2418 - val_accuracy: 0.9287\n",
            "Epoch 6/20\n",
            "200/200 [==============================] - 15s 76ms/step - loss: 0.1353 - accuracy: 0.9589 - val_loss: 0.2720 - val_accuracy: 0.9175\n",
            "Epoch 7/20\n",
            "200/200 [==============================] - 15s 76ms/step - loss: 0.1529 - accuracy: 0.9558 - val_loss: 0.2621 - val_accuracy: 0.9200\n",
            "Epoch 8/20\n",
            "200/200 [==============================] - 15s 76ms/step - loss: 0.2131 - accuracy: 0.9364 - val_loss: 0.2896 - val_accuracy: 0.9087\n",
            "Epoch 9/20\n",
            "200/200 [==============================] - 15s 77ms/step - loss: 0.2723 - accuracy: 0.9206 - val_loss: 0.2692 - val_accuracy: 0.9125\n",
            "Epoch 10/20\n",
            "200/200 [==============================] - 15s 77ms/step - loss: 0.3072 - accuracy: 0.9142 - val_loss: 0.2822 - val_accuracy: 0.9187\n",
            "Epoch 11/20\n",
            "200/200 [==============================] - 15s 77ms/step - loss: 0.3705 - accuracy: 0.8914 - val_loss: 0.3547 - val_accuracy: 0.9013\n",
            "Epoch 12/20\n",
            "200/200 [==============================] - 15s 77ms/step - loss: 0.3463 - accuracy: 0.9048 - val_loss: 0.3542 - val_accuracy: 0.8913\n",
            "Epoch 13/20\n",
            "200/200 [==============================] - 15s 77ms/step - loss: 0.3196 - accuracy: 0.9192 - val_loss: 0.3290 - val_accuracy: 0.8988\n",
            "Epoch 14/20\n",
            "200/200 [==============================] - 15s 77ms/step - loss: 0.3044 - accuracy: 0.9209 - val_loss: 0.3300 - val_accuracy: 0.8963\n",
            "Epoch 15/20\n",
            "200/200 [==============================] - 15s 77ms/step - loss: 0.2699 - accuracy: 0.9305 - val_loss: 0.3247 - val_accuracy: 0.9025\n",
            "Epoch 16/20\n",
            "200/200 [==============================] - 15s 77ms/step - loss: 0.2458 - accuracy: 0.9375 - val_loss: 0.2983 - val_accuracy: 0.9150\n",
            "Epoch 17/20\n",
            "200/200 [==============================] - 15s 77ms/step - loss: 0.2287 - accuracy: 0.9395 - val_loss: 0.3395 - val_accuracy: 0.8900\n",
            "Epoch 18/20\n",
            "200/200 [==============================] - 15s 77ms/step - loss: 0.2137 - accuracy: 0.9434 - val_loss: 0.2881 - val_accuracy: 0.9162\n",
            "Epoch 19/20\n",
            "200/200 [==============================] - 15s 76ms/step - loss: 0.2012 - accuracy: 0.9466 - val_loss: 0.2585 - val_accuracy: 0.9212\n",
            "Epoch 20/20\n",
            "200/200 [==============================] - 15s 77ms/step - loss: 0.1903 - accuracy: 0.9511 - val_loss: 0.2717 - val_accuracy: 0.9137\n"
          ],
          "name": "stdout"
        },
        {
          "output_type": "execute_result",
          "data": {
            "text/plain": [
              "<tensorflow.python.keras.callbacks.History at 0x7f66c04ca9e8>"
            ]
          },
          "metadata": {
            "tags": []
          },
          "execution_count": 26
        }
      ]
    },
    {
      "cell_type": "code",
      "metadata": {
        "colab": {
          "base_uri": "https://localhost:8080/"
        },
        "id": "5cuDr45OZ8MY",
        "outputId": "16b43f0a-a246-46e2-dd27-f017fa315ded"
      },
      "source": [
        "model_for_pruning_accuracy = model_for_pruning.evaluate(\r\n",
        "  test_ds, verbose=0)\r\n",
        " \r\n",
        "print('Pruned test accuracy:', model_for_pruning_accuracy)"
      ],
      "execution_count": 27,
      "outputs": [
        {
          "output_type": "stream",
          "text": [
            "Pruned test accuracy: [0.2909991443157196, 0.9075000286102295]\n"
          ],
          "name": "stdout"
        }
      ]
    },
    {
      "cell_type": "code",
      "metadata": {
        "id": "e7_VpKqLZc_c"
      },
      "source": [
        "model=tfmot.sparsity.keras.strip_pruning(model_for_pruning)"
      ],
      "execution_count": 28,
      "outputs": []
    },
    {
      "cell_type": "markdown",
      "metadata": {
        "id": "DBoOxTEXxHMd"
      },
      "source": [
        "##tflite conversion"
      ]
    },
    {
      "cell_type": "code",
      "metadata": {
        "id": "uB8OtLPgxM1L",
        "colab": {
          "base_uri": "https://localhost:8080/"
        },
        "outputId": "9b896a27-995b-493a-8fc4-033397496a70"
      },
      "source": [
        "ROOT_DIR=\"./callback_val_chkp/\"\n",
        "tflite_models= ROOT_DIR + \"tfliteModels/\"\n",
        "tflite_models_2= ROOT_DIR + \"tfliteModelsNoZip/\"\n",
        "!mkdir ./callback_val_chkp/tfliteModels\n",
        "!mkdir ./callback_val_chkp/tfliteModelsNoZip\n",
        "\n",
        "if model_type=='a':\n",
        "  if (mfcc==True):\n",
        "    saved_model_dir= ROOT_DIR +\"mfcc_model_a\"\n",
        "    tflite_model_dir= tflite_models + \"model_a\"\n",
        "    tflite_model_dir_noZip= tflite_models_2 + \"model_a\"\n",
        "  else:\n",
        "    saved_model_dir= ROOT_DIR +\"stft_model_a\"\n",
        "    tflite_model_dir= tflite_models + \"model_a\"\n",
        "    tflite_model_dir_noZip= tflite_models_2 + \"model_a\"\n",
        "\n",
        "if model_type=='b':\n",
        "  if (mfcc==True):\n",
        "    saved_model_dir= ROOT_DIR +\"mfcc_model_b\"\n",
        "    tflite_model_dir= tflite_models + \"model_b\"\n",
        "    tflite_model_dir_noZip= tflite_models_2 + \"model_b\"\n",
        "  else:\n",
        "    saved_model_dir= ROOT_DIR +\"stft_model_b\"\n",
        "    tflite_model_dir= tflite_models + \"model_b\"\n",
        "    tflite_model_dir_noZip= tflite_models_2 + \"model_b\"\n",
        "\n",
        "if model_type=='c':\n",
        "  if (mfcc==True):\n",
        "    saved_model_dir= ROOT_DIR +\"mfcc_model_c\"\n",
        "    tflite_model_dir= tflite_models + \"model_c\"\n",
        "    tflite_model_dir_noZip= tflite_models_2 + \"model_c\"\n",
        "  else:\n",
        "    saved_model_dir= ROOT_DIR +\"stft_model_c\"\n",
        "    tflite_model_dir= tflite_models + \"model_c\"\n",
        "    tflite_model_dir_noZip= tflite_models_2 + \"model_c\"\n",
        "\n",
        "\n",
        "\n",
        "\n",
        "converter=tf.lite.TFLiteConverter.from_keras_model(model) #from_saved_model(saved_model_dir)\n",
        "converter.optimizations = [tf.lite.Optimize.DEFAULT]\n",
        "#converter.representative_dataset= representative_data_gen\n",
        "tflite_model=converter.convert()\n",
        "\n",
        "with open(tflite_model_dir, \"wb\") as fp:\n",
        "  tflite_compressed = zlib.compress(tflite_model)\n",
        "  fp.write(tflite_compressed)\n",
        "\n",
        "with open(tflite_model_dir_noZip, \"wb\") as fp:\n",
        "  fp.write(tflite_model)"
      ],
      "execution_count": 29,
      "outputs": [
        {
          "output_type": "stream",
          "text": [
            "INFO:tensorflow:Assets written to: /tmp/tmpkvee18gz/assets\n"
          ],
          "name": "stdout"
        }
      ]
    },
    {
      "cell_type": "code",
      "metadata": {
        "id": "M6kdf2831FNE"
      },
      "source": [
        ""
      ],
      "execution_count": 29,
      "outputs": []
    },
    {
      "cell_type": "markdown",
      "metadata": {
        "id": "fzw1Xf_irf_z"
      },
      "source": [
        "#Quantization"
      ]
    },
    {
      "cell_type": "code",
      "metadata": {
        "id": "2NRSVYKH4oyS"
      },
      "source": [
        ""
      ],
      "execution_count": 29,
      "outputs": []
    },
    {
      "cell_type": "code",
      "metadata": {
        "colab": {
          "base_uri": "https://localhost:8080/",
          "height": 68
        },
        "id": "rGZEKWN9riUE",
        "outputId": "b64d3188-e452-4e5d-e051-88cd8de24620"
      },
      "source": [
        "'''quantize_model = tfmot.quantization.keras.quantize_model\r\n",
        "q_aware_model = quantize_model(model)\r\n",
        "q_aware_model.compile(optimizer='adam',\r\n",
        "              loss=tf.keras.losses.SparseCategoricalCrossentropy(from_logits=True),\r\n",
        "              metrics=['accuracy'])\r\n",
        "q_aware_model.fit(train_ds, epochs=20, validation_data=val_ds,callbacks=[cp_callback])\r\n",
        "\r\n",
        "model=q_aware_model'''"
      ],
      "execution_count": 30,
      "outputs": [
        {
          "output_type": "execute_result",
          "data": {
            "application/vnd.google.colaboratory.intrinsic+json": {
              "type": "string"
            },
            "text/plain": [
              "\"quantize_model = tfmot.quantization.keras.quantize_model\\nq_aware_model = quantize_model(model)\\nq_aware_model.compile(optimizer='adam',\\n              loss=tf.keras.losses.SparseCategoricalCrossentropy(from_logits=True),\\n              metrics=['accuracy'])\\nq_aware_model.fit(train_ds, epochs=20, validation_data=val_ds,callbacks=[cp_callback])\\n\\nmodel=q_aware_model\""
            ]
          },
          "metadata": {
            "tags": []
          },
          "execution_count": 30
        }
      ]
    },
    {
      "cell_type": "markdown",
      "metadata": {
        "id": "iIckUXuaw95G"
      },
      "source": [
        "##Size and latency measurement"
      ]
    },
    {
      "cell_type": "markdown",
      "metadata": {
        "id": "3CH-bOBg2Xy7"
      },
      "source": [
        "##Size measurement"
      ]
    },
    {
      "cell_type": "code",
      "metadata": {
        "colab": {
          "base_uri": "https://localhost:8080/"
        },
        "id": "XiHV3SYH2Sl2",
        "outputId": "10a98132-7d00-4278-a88f-17a910cb7465"
      },
      "source": [
        "os.path.getsize(tflite_model_dir)"
      ],
      "execution_count": 31,
      "outputs": [
        {
          "output_type": "execute_result",
          "data": {
            "text/plain": [
              "24431"
            ]
          },
          "metadata": {
            "tags": []
          },
          "execution_count": 31
        }
      ]
    }
  ]
}