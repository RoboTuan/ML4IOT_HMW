{
  "nbformat": 4,
  "nbformat_minor": 0,
  "metadata": {
    "colab": {
      "name": "HW2_ex2.ipynb",
      "provenance": [],
      "authorship_tag": "ABX9TyPVcNPY9Zr02CRly5rM/8zk",
      "include_colab_link": true
    },
    "kernelspec": {
      "name": "python3",
      "display_name": "Python 3"
    }
  },
  "cells": [
    {
      "cell_type": "markdown",
      "metadata": {
        "id": "view-in-github",
        "colab_type": "text"
      },
      "source": [
        "<a href=\"https://colab.research.google.com/github/RoboTuan/ML4IOT_HMW/blob/main/HMW2/HW2_ex2.ipynb\" target=\"_parent\"><img src=\"https://colab.research.google.com/assets/colab-badge.svg\" alt=\"Open In Colab\"/></a>"
      ]
    },
    {
      "cell_type": "code",
      "metadata": {
        "colab": {
          "base_uri": "https://localhost:8080/"
        },
        "id": "EtNsmv43APVI",
        "outputId": "977fba78-7d0e-4655-a186-59c40030afd1"
      },
      "source": [
        " pip install -q tensorflow-model-optimization"
      ],
      "execution_count": 1,
      "outputs": [
        {
          "output_type": "stream",
          "text": [
            "\u001b[?25l\r\u001b[K     |██                              | 10kB 20.4MB/s eta 0:00:01\r\u001b[K     |███▉                            | 20kB 25.2MB/s eta 0:00:01\r\u001b[K     |█████▊                          | 30kB 12.6MB/s eta 0:00:01\r\u001b[K     |███████▋                        | 40kB 10.3MB/s eta 0:00:01\r\u001b[K     |█████████▌                      | 51kB 5.6MB/s eta 0:00:01\r\u001b[K     |███████████▍                    | 61kB 5.7MB/s eta 0:00:01\r\u001b[K     |█████████████▎                  | 71kB 6.3MB/s eta 0:00:01\r\u001b[K     |███████████████▏                | 81kB 6.6MB/s eta 0:00:01\r\u001b[K     |█████████████████               | 92kB 6.4MB/s eta 0:00:01\r\u001b[K     |███████████████████             | 102kB 7.0MB/s eta 0:00:01\r\u001b[K     |████████████████████▉           | 112kB 7.0MB/s eta 0:00:01\r\u001b[K     |██████████████████████▊         | 122kB 7.0MB/s eta 0:00:01\r\u001b[K     |████████████████████████▊       | 133kB 7.0MB/s eta 0:00:01\r\u001b[K     |██████████████████████████▋     | 143kB 7.0MB/s eta 0:00:01\r\u001b[K     |████████████████████████████▌   | 153kB 7.0MB/s eta 0:00:01\r\u001b[K     |██████████████████████████████▍ | 163kB 7.0MB/s eta 0:00:01\r\u001b[K     |████████████████████████████████| 174kB 7.0MB/s \n",
            "\u001b[?25h"
          ],
          "name": "stdout"
        }
      ]
    },
    {
      "cell_type": "code",
      "metadata": {
        "id": "jCB53wPLLWaR"
      },
      "source": [
        "import tensorflow as tf\n",
        "import numpy as np\n",
        "from tensorflow import keras\n",
        "import pandas as pd\n",
        "import matplotlib.pyplot as plt\n",
        "import os\n",
        "from zipfile import ZipFile\n",
        "import tensorflow_model_optimization as tfmot\n",
        "from tensorflow_model_optimization.python.core.api.sparsity import keras as sparsity\n",
        "import zlib\n",
        "\n"
      ],
      "execution_count": 39,
      "outputs": []
    },
    {
      "cell_type": "code",
      "metadata": {
        "colab": {
          "base_uri": "https://localhost:8080/"
        },
        "id": "ZNmNFu8Mjsxl",
        "outputId": "92a5c917-0e9d-4608-c132-70372bf78279"
      },
      "source": [
        "if not os.path.isdir('./HMW'):\n",
        "  !git clone \"https://github.com/RoboTuan/ML4IOT_HMW.git\"  \n",
        "  !mv 'ML4IOT_HMW' 'HMW'\n",
        "\n",
        "ROOT_DIR = 'HMW/HMW2/'\n",
        "tflite_models=ROOT_DIR + \"tflite_models/\""
      ],
      "execution_count": 3,
      "outputs": [
        {
          "output_type": "stream",
          "text": [
            "Cloning into 'ML4IOT_HMW'...\n",
            "remote: Enumerating objects: 166, done.\u001b[K\n",
            "remote: Counting objects: 100% (166/166), done.\u001b[K\n",
            "remote: Compressing objects: 100% (141/141), done.\u001b[K\n",
            "remote: Total 166 (delta 90), reused 62 (delta 19), pack-reused 0\u001b[K\n",
            "Receiving objects: 100% (166/166), 1.30 MiB | 8.56 MiB/s, done.\n",
            "Resolving deltas: 100% (90/90), done.\n"
          ],
          "name": "stdout"
        }
      ]
    },
    {
      "cell_type": "code",
      "metadata": {
        "id": "p-26mjjDSR1F"
      },
      "source": [
        "#parser = argparse.ArgumentParser()\n",
        "#parser.add_argument('--version', type=str, required=True, help='a,b or c')\n",
        "#parser.add_argument('--mfcc', action='store_true', help='use MFCCs')\n",
        "#args = parser.parse_args()\n",
        "\n",
        "model_type='c' #args.version\n",
        "mfcc=True"
      ],
      "execution_count": 4,
      "outputs": []
    },
    {
      "cell_type": "code",
      "metadata": {
        "id": "_Zq_UW3o1R7a"
      },
      "source": [
        ""
      ],
      "execution_count": 4,
      "outputs": []
    },
    {
      "cell_type": "code",
      "metadata": {
        "id": "1hTzDTlo1SCr"
      },
      "source": [
        ""
      ],
      "execution_count": 4,
      "outputs": []
    },
    {
      "cell_type": "code",
      "metadata": {
        "id": "X7K0B4RTTkNI"
      },
      "source": [
        "seed = 42\n",
        "tf.random.set_seed(seed)\n",
        "np.random.seed(seed)"
      ],
      "execution_count": 5,
      "outputs": []
    },
    {
      "cell_type": "code",
      "metadata": {
        "id": "EFbVU7mgTmr5",
        "colab": {
          "base_uri": "https://localhost:8080/"
        },
        "outputId": "9ee2211b-64e9-4b8f-db10-69d55354f65e"
      },
      "source": [
        "zip_path = tf.keras.utils.get_file(\n",
        "        origin=\"http://storage.googleapis.com/download.tensorflow.org/data/mini_speech_commands.zip\",\n",
        "        fname='mini_speech_commands.zip',\n",
        "        extract=True,\n",
        "        cache_dir='.', cache_subdir='data')\n",
        "data_dir = os.path.join('.', 'data', 'mini_speech_commands')\n",
        "filenames = tf.io.gfile.glob(str(data_dir) + '/*/*')\n",
        "filenames = tf.random.shuffle(filenames)\n",
        "num_samples = len(filenames)\n",
        "total = 8000"
      ],
      "execution_count": 6,
      "outputs": [
        {
          "output_type": "stream",
          "text": [
            "Downloading data from http://storage.googleapis.com/download.tensorflow.org/data/mini_speech_commands.zip\n",
            "182083584/182082353 [==============================] - 1s 0us/step\n"
          ],
          "name": "stdout"
        }
      ]
    },
    {
      "cell_type": "code",
      "metadata": {
        "id": "mmen3RxJWUE7"
      },
      "source": [
        "train =  tf.convert_to_tensor(pd.read_csv('https://raw.githubusercontent.com/RoboTuan/ML4IOT_HMW/main/HMW2/kws_train_split.txt', header=None))\n",
        "validation =  tf.convert_to_tensor(pd.read_csv('https://raw.githubusercontent.com/RoboTuan/ML4IOT_HMW/main/HMW2/kws_val_split.txt', header=None))\n",
        "test =  tf.convert_to_tensor(pd.read_csv('https://raw.githubusercontent.com/RoboTuan/ML4IOT_HMW/main/HMW2/kws_test_split.txt', header=None))\n",
        "\n",
        "train= tf.squeeze(train)\n",
        "validation= tf.squeeze(validation)\n",
        "test= tf.squeeze(test)\n"
      ],
      "execution_count": 7,
      "outputs": []
    },
    {
      "cell_type": "code",
      "metadata": {
        "id": "O46MZr_UV8sM"
      },
      "source": [
        "train_files = train\n",
        "val_files = validation\n",
        "test_files = test"
      ],
      "execution_count": 8,
      "outputs": []
    },
    {
      "cell_type": "code",
      "metadata": {
        "id": "j-MfBnKZcfEF"
      },
      "source": [
        "LABELS = np.array(tf.io.gfile.listdir(str(data_dir)))\n",
        "LABELS = LABELS[LABELS != 'README.md']"
      ],
      "execution_count": 9,
      "outputs": []
    },
    {
      "cell_type": "code",
      "metadata": {
        "id": "C1HWKgl4cgGs"
      },
      "source": [
        "class SignalGenerator:\n",
        "    def __init__(self, labels, sampling_rate, frame_length, frame_step,\n",
        "            num_mel_bins=None, lower_frequency=None, upper_frequency=None,\n",
        "            num_coefficients=None, mfcc=False):\n",
        "        self.labels = labels\n",
        "        self.sampling_rate = sampling_rate\n",
        "        self.frame_length = frame_length\n",
        "        self.frame_step = frame_step\n",
        "        self.num_mel_bins = num_mel_bins\n",
        "        self.lower_frequency = lower_frequency\n",
        "        self.upper_frequency = upper_frequency\n",
        "        self.num_coefficients = num_coefficients\n",
        "        num_spectrogram_bins = (frame_length) // 2 + 1\n",
        "\n",
        "        if mfcc is True:\n",
        "            self.linear_to_mel_weight_matrix = tf.signal.linear_to_mel_weight_matrix(\n",
        "                    self.num_mel_bins, num_spectrogram_bins, self.sampling_rate,\n",
        "                    self.lower_frequency, self.upper_frequency)\n",
        "            self.preprocess = self.preprocess_with_mfcc\n",
        "        else:\n",
        "            self.preprocess = self.preprocess_with_stft\n",
        "\n",
        "    def read(self, file_path):\n",
        "        parts = tf.strings.split(file_path, os.path.sep)\n",
        "        label = parts[-2]\n",
        "        label_id = tf.argmax(label == self.labels)\n",
        "        audio_binary = tf.io.read_file(file_path)\n",
        "        audio, _ = tf.audio.decode_wav(audio_binary)\n",
        "        audio = tf.squeeze(audio, axis=1)\n",
        "\n",
        "        return audio, label_id\n",
        "\n",
        "    def pad(self, audio):\n",
        "        zero_padding = tf.zeros([self.sampling_rate] - tf.shape(audio), dtype=tf.float32)\n",
        "        audio = tf.concat([audio, zero_padding], 0)\n",
        "        audio.set_shape([self.sampling_rate])\n",
        "\n",
        "        return audio\n",
        "    def get_spectrogram(self, audio):\n",
        "        stft = tf.signal.stft(audio, frame_length=self.frame_length,\n",
        "                frame_step=self.frame_step, fft_length=self.frame_length)\n",
        "        spectrogram = tf.abs(stft)\n",
        "\n",
        "        return spectrogram\n",
        "\n",
        "    def get_mfccs(self, spectrogram):\n",
        "        mel_spectrogram = tf.tensordot(spectrogram,\n",
        "                self.linear_to_mel_weight_matrix, 1)\n",
        "        log_mel_spectrogram = tf.math.log(mel_spectrogram + 1.e-6)\n",
        "        mfccs = tf.signal.mfccs_from_log_mel_spectrograms(log_mel_spectrogram)\n",
        "        mfccs = mfccs[..., :self.num_coefficients]\n",
        "\n",
        "        return mfccs\n",
        "\n",
        "    def preprocess_with_stft(self, file_path):\n",
        "        audio, label = self.read(file_path)\n",
        "        audio = self.pad(audio)\n",
        "        spectrogram = self.get_spectrogram(audio)\n",
        "        spectrogram = tf.expand_dims(spectrogram, -1)\n",
        "        spectrogram = tf.image.resize(spectrogram, [32, 32])\n",
        "\n",
        "        return spectrogram, label\n",
        "\n",
        "    def preprocess_with_mfcc(self, file_path):\n",
        "        audio, label = self.read(file_path)\n",
        "        audio = self.pad(audio)\n",
        "        spectrogram = self.get_spectrogram(audio)\n",
        "        mfccs = self.get_mfccs(spectrogram)\n",
        "        mfccs = tf.expand_dims(mfccs, -1)\n",
        "\n",
        "        return mfccs, label\n",
        "\n",
        "    def make_dataset(self, files, train):\n",
        "        ds = tf.data.Dataset.from_tensor_slices(files)\n",
        "        ds = ds.map(self.preprocess, num_parallel_calls=4)\n",
        "        ds = ds.batch(32)\n",
        "        ds = ds.cache()\n",
        "        if train is True:\n",
        "            ds = ds.shuffle(100, reshuffle_each_iteration=True)\n",
        "\n",
        "        return ds\n",
        "    \n",
        "\n"
      ],
      "execution_count": 10,
      "outputs": []
    },
    {
      "cell_type": "code",
      "metadata": {
        "id": "uF2ceXoTc6X_"
      },
      "source": [
        "STFT_OPTIONS = {'frame_length': 256, 'frame_step': 128, 'mfcc': False}\n",
        "MFCC_OPTIONS = {'frame_length': 640, 'frame_step': 320, 'mfcc': True,\n",
        "        'lower_frequency': 20, 'upper_frequency': 4000, 'num_mel_bins': 40,\n",
        "        'num_coefficients': 10}"
      ],
      "execution_count": 11,
      "outputs": []
    },
    {
      "cell_type": "code",
      "metadata": {
        "id": "6mpDzH9GdmBs"
      },
      "source": [
        "#if args.mfcc is True:\n",
        "if mfcc is True:\n",
        "    options = MFCC_OPTIONS\n",
        "    strides = [2, 1]\n",
        "else:\n",
        "    options = STFT_OPTIONS\n",
        "    strides = [2, 2]"
      ],
      "execution_count": 12,
      "outputs": []
    },
    {
      "cell_type": "code",
      "metadata": {
        "id": "Tg8Cg36tdrLd"
      },
      "source": [
        "generator = SignalGenerator(LABELS, 16000, **options)\n",
        "train_ds = generator.make_dataset(train_files, True)\n",
        "val_ds = generator.make_dataset(val_files, False)\n",
        "test_ds = generator.make_dataset(test_files, False)\n",
        "units=8"
      ],
      "execution_count": 13,
      "outputs": []
    },
    {
      "cell_type": "markdown",
      "metadata": {
        "id": "u6ue7OwCvSg-"
      },
      "source": [
        "#Model"
      ]
    },
    {
      "cell_type": "markdown",
      "metadata": {
        "id": "-j7vRZkLziid"
      },
      "source": [
        "##Model A"
      ]
    },
    {
      "cell_type": "code",
      "metadata": {
        "id": "2lcrcEETzlox"
      },
      "source": [
        "#MLP Model definition\n",
        "mlp_model = keras.Sequential([\n",
        "    keras.layers.Flatten(),\n",
        "    keras.layers.Dense(units=256, activation='relu'),\n",
        "    keras.layers.Dense(units=256, activation='relu'),\n",
        "    keras.layers.Dense(units=256, activation='relu'),\n",
        "    keras.layers.Dense(units=8) #if silence 10\n",
        "])"
      ],
      "execution_count": 14,
      "outputs": []
    },
    {
      "cell_type": "markdown",
      "metadata": {
        "id": "sjtKHmqJzmPH"
      },
      "source": [
        "##Model B"
      ]
    },
    {
      "cell_type": "code",
      "metadata": {
        "id": "PXmdPXRyznwO"
      },
      "source": [
        "#CNN_2D Model definition\n",
        "\n",
        "cnn_model = keras.Sequential([\n",
        "    keras.layers.Conv2D(filters=128,kernel_size=[3,3],strides=strides, use_bias=False),\n",
        "    keras.layers.BatchNormalization(momentum=0.1),\n",
        "    keras.layers.ReLU(),\n",
        "    keras.layers.Conv2D(filters=128,kernel_size=[3,3],strides=strides, use_bias=False),\n",
        "    keras.layers.BatchNormalization(momentum=0.1),\n",
        "    keras.layers.ReLU(),\n",
        "    keras.layers.Conv2D(filters=128,kernel_size=[3,3],strides=strides, use_bias=False),\n",
        "    keras.layers.BatchNormalization(momentum=0.1),\n",
        "    keras.layers.ReLU(),\n",
        "    keras.layers.GlobalAveragePooling2D(),\n",
        "    keras.layers.Dense(units=8) #10 if silence\n",
        "])"
      ],
      "execution_count": 15,
      "outputs": []
    },
    {
      "cell_type": "markdown",
      "metadata": {
        "id": "FKkktzv2zoWx"
      },
      "source": [
        "##Model C"
      ]
    },
    {
      "cell_type": "code",
      "metadata": {
        "id": "vgNVG-jzzsUk"
      },
      "source": [
        "ds_cnn_model = keras.Sequential([\n",
        "    keras.layers.Conv2D(filters=256,kernel_size=[3,3],strides=strides, use_bias=False),\n",
        "    keras.layers.BatchNormalization(momentum=0.1),\n",
        "    keras.layers.ReLU(),\n",
        "    keras.layers.DepthwiseConv2D(kernel_size=[3,3],strides=[1, 1], use_bias=False),\n",
        "    keras.layers.Conv2D(filters=256,kernel_size=[1,1],strides=[1,1], use_bias=False),\n",
        "    keras.layers.BatchNormalization(momentum=0.1),\n",
        "    keras.layers.ReLU(),\n",
        "    keras.layers.DepthwiseConv2D(kernel_size=[3,3],strides=[1, 1], use_bias=False),\n",
        "    keras.layers.Conv2D(filters=256,kernel_size=[1,1],strides=[1,1], use_bias=False),\n",
        "    keras.layers.BatchNormalization(momentum=0.1),\n",
        "    keras.layers.ReLU(),\n",
        "    keras.layers.GlobalAveragePooling2D(),\n",
        "    keras.layers.Dense(units=8) #10 if silence else 8\n",
        "])"
      ],
      "execution_count": 16,
      "outputs": []
    },
    {
      "cell_type": "markdown",
      "metadata": {
        "id": "Xcdo-vXFvZpg"
      },
      "source": [
        "##Model definition"
      ]
    },
    {
      "cell_type": "code",
      "metadata": {
        "id": "F58fd8zpvR6m"
      },
      "source": [
        "if model_type=='a':\n",
        "  model=mlp_model\n",
        "  if (mfcc==True):\n",
        "    path= './callback_val_chkp/mfcc_model_a'\n",
        "  else:\n",
        "    path= './callback_val_chkp/stft_model_a'\n",
        "\n",
        "if model_type=='b':\n",
        "  model=cnn_model\n",
        "  if (mfcc==True):\n",
        "    path= './callback_val_chkp/mfcc_model_b'\n",
        "  else:\n",
        "    path= './callback_val_chkp/stft_model_b'\n",
        "\n",
        "if model_type=='c':\n",
        "  model=ds_cnn_model\n",
        "  if (mfcc==True):\n",
        "    path= './callback_val_chkp/mfcc_model_c'\n",
        "  else:\n",
        "    path= './callback_val_chkp/stft_model_c'"
      ],
      "execution_count": 17,
      "outputs": []
    },
    {
      "cell_type": "code",
      "metadata": {
        "id": "DkhUmj-V46H2"
      },
      "source": [
        "\n",
        "cp_callback = keras.callbacks.ModelCheckpoint(\n",
        "    filepath=path,\n",
        "    # './callback_test_chkp/chkp_best',\n",
        "    monitor='val_accuracy',\n",
        "    verbose=0, \n",
        "    save_best_only=True,\n",
        "    # save_best_only=True,\n",
        "    save_weights_only=False,\n",
        "    mode='auto',\n",
        "    save_freq='epoch'\n",
        ")"
      ],
      "execution_count": 18,
      "outputs": []
    },
    {
      "cell_type": "markdown",
      "metadata": {
        "id": "iJQc4JTpvcfi"
      },
      "source": [
        "##Training"
      ]
    },
    {
      "cell_type": "code",
      "metadata": {
        "colab": {
          "base_uri": "https://localhost:8080/"
        },
        "id": "HITYllmYvoXx",
        "outputId": "8bd2c8e6-0006-4ce1-aec7-24fe05b945b2"
      },
      "source": [
        "model.compile(loss=tf.keras.losses.SparseCategoricalCrossentropy(from_logits=True) ,optimizer='adam', metrics=['accuracy'])\n",
        "model.fit(train_ds, epochs=20, validation_data=val_ds,callbacks=[cp_callback])"
      ],
      "execution_count": 19,
      "outputs": [
        {
          "output_type": "stream",
          "text": [
            "Epoch 1/20\n",
            "200/200 [==============================] - ETA: 0s - loss: 1.2274 - accuracy: 0.6161WARNING:tensorflow:From /usr/local/lib/python3.6/dist-packages/tensorflow/python/training/tracking/tracking.py:111: Model.state_updates (from tensorflow.python.keras.engine.training) is deprecated and will be removed in a future version.\n",
            "Instructions for updating:\n",
            "This property should not be used in TensorFlow 2.0, as updates are applied automatically.\n",
            "WARNING:tensorflow:From /usr/local/lib/python3.6/dist-packages/tensorflow/python/training/tracking/tracking.py:111: Layer.updates (from tensorflow.python.keras.engine.base_layer) is deprecated and will be removed in a future version.\n",
            "Instructions for updating:\n",
            "This property should not be used in TensorFlow 2.0, as updates are applied automatically.\n",
            "INFO:tensorflow:Assets written to: ./callback_val_chkp/mfcc_model_c/assets\n",
            "200/200 [==============================] - 119s 597ms/step - loss: 1.2274 - accuracy: 0.6161 - val_loss: 0.7595 - val_accuracy: 0.7663\n",
            "Epoch 2/20\n",
            "200/200 [==============================] - ETA: 0s - loss: 0.6110 - accuracy: 0.8338INFO:tensorflow:Assets written to: ./callback_val_chkp/mfcc_model_c/assets\n",
            "200/200 [==============================] - 28s 142ms/step - loss: 0.6110 - accuracy: 0.8338 - val_loss: 0.4725 - val_accuracy: 0.8612\n",
            "Epoch 3/20\n",
            "200/200 [==============================] - ETA: 0s - loss: 0.4263 - accuracy: 0.8789INFO:tensorflow:Assets written to: ./callback_val_chkp/mfcc_model_c/assets\n",
            "200/200 [==============================] - 28s 141ms/step - loss: 0.4263 - accuracy: 0.8789 - val_loss: 0.4064 - val_accuracy: 0.8737\n",
            "Epoch 4/20\n",
            "200/200 [==============================] - ETA: 0s - loss: 0.3343 - accuracy: 0.9059INFO:tensorflow:Assets written to: ./callback_val_chkp/mfcc_model_c/assets\n",
            "200/200 [==============================] - 30s 148ms/step - loss: 0.3343 - accuracy: 0.9059 - val_loss: 0.3872 - val_accuracy: 0.8825\n",
            "Epoch 5/20\n",
            "200/200 [==============================] - ETA: 0s - loss: 0.2895 - accuracy: 0.9162INFO:tensorflow:Assets written to: ./callback_val_chkp/mfcc_model_c/assets\n",
            "200/200 [==============================] - 31s 157ms/step - loss: 0.2895 - accuracy: 0.9162 - val_loss: 0.2862 - val_accuracy: 0.9187\n",
            "Epoch 6/20\n",
            "200/200 [==============================] - 27s 136ms/step - loss: 0.2468 - accuracy: 0.9294 - val_loss: 0.3197 - val_accuracy: 0.9000\n",
            "Epoch 7/20\n",
            "200/200 [==============================] - ETA: 0s - loss: 0.2105 - accuracy: 0.9397INFO:tensorflow:Assets written to: ./callback_val_chkp/mfcc_model_c/assets\n",
            "200/200 [==============================] - 29s 143ms/step - loss: 0.2105 - accuracy: 0.9397 - val_loss: 0.2749 - val_accuracy: 0.9212\n",
            "Epoch 8/20\n",
            "200/200 [==============================] - ETA: 0s - loss: 0.1882 - accuracy: 0.9459INFO:tensorflow:Assets written to: ./callback_val_chkp/mfcc_model_c/assets\n",
            "200/200 [==============================] - 29s 146ms/step - loss: 0.1882 - accuracy: 0.9459 - val_loss: 0.2337 - val_accuracy: 0.9312\n",
            "Epoch 9/20\n",
            "200/200 [==============================] - 27s 135ms/step - loss: 0.1660 - accuracy: 0.9519 - val_loss: 0.2398 - val_accuracy: 0.9275\n",
            "Epoch 10/20\n",
            "200/200 [==============================] - 27s 134ms/step - loss: 0.1475 - accuracy: 0.9572 - val_loss: 0.2471 - val_accuracy: 0.9212\n",
            "Epoch 11/20\n",
            "200/200 [==============================] - 27s 135ms/step - loss: 0.1337 - accuracy: 0.9617 - val_loss: 0.2423 - val_accuracy: 0.9300\n",
            "Epoch 12/20\n",
            "200/200 [==============================] - 27s 135ms/step - loss: 0.1193 - accuracy: 0.9656 - val_loss: 0.2613 - val_accuracy: 0.9137\n",
            "Epoch 13/20\n",
            "200/200 [==============================] - 27s 135ms/step - loss: 0.1035 - accuracy: 0.9737 - val_loss: 0.2534 - val_accuracy: 0.9262\n",
            "Epoch 14/20\n",
            "200/200 [==============================] - 27s 134ms/step - loss: 0.0974 - accuracy: 0.9722 - val_loss: 0.2627 - val_accuracy: 0.9162\n",
            "Epoch 15/20\n",
            "200/200 [==============================] - 27s 134ms/step - loss: 0.0798 - accuracy: 0.9794 - val_loss: 0.2245 - val_accuracy: 0.9262\n",
            "Epoch 16/20\n",
            "200/200 [==============================] - 27s 135ms/step - loss: 0.0757 - accuracy: 0.9795 - val_loss: 0.2590 - val_accuracy: 0.9137\n",
            "Epoch 17/20\n",
            "200/200 [==============================] - ETA: 0s - loss: 0.0723 - accuracy: 0.9797INFO:tensorflow:Assets written to: ./callback_val_chkp/mfcc_model_c/assets\n",
            "200/200 [==============================] - 29s 143ms/step - loss: 0.0723 - accuracy: 0.9797 - val_loss: 0.2118 - val_accuracy: 0.9350\n",
            "Epoch 18/20\n",
            "200/200 [==============================] - 27s 135ms/step - loss: 0.0548 - accuracy: 0.9872 - val_loss: 0.3265 - val_accuracy: 0.9100\n",
            "Epoch 19/20\n",
            "200/200 [==============================] - 27s 136ms/step - loss: 0.0587 - accuracy: 0.9862 - val_loss: 0.2400 - val_accuracy: 0.9300\n",
            "Epoch 20/20\n",
            "200/200 [==============================] - 27s 135ms/step - loss: 0.0465 - accuracy: 0.9894 - val_loss: 0.2543 - val_accuracy: 0.9287\n"
          ],
          "name": "stdout"
        },
        {
          "output_type": "execute_result",
          "data": {
            "text/plain": [
              "<tensorflow.python.keras.callbacks.History at 0x7f5a77b8cb38>"
            ]
          },
          "metadata": {
            "tags": []
          },
          "execution_count": 19
        }
      ]
    },
    {
      "cell_type": "markdown",
      "metadata": {
        "id": "v21zw4Wsv80_"
      },
      "source": [
        "##Validation"
      ]
    },
    {
      "cell_type": "code",
      "metadata": {
        "colab": {
          "base_uri": "https://localhost:8080/"
        },
        "id": "uO2bgmjMv2lP",
        "outputId": "4f7f2cee-41dd-4304-ea38-950da1bd7da0"
      },
      "source": [
        "#model evaluation on validation set\n",
        "val_accuracy= model.evaluate(val_ds)"
      ],
      "execution_count": 20,
      "outputs": [
        {
          "output_type": "stream",
          "text": [
            "25/25 [==============================] - 1s 31ms/step - loss: 0.2543 - accuracy: 0.9287\n"
          ],
          "name": "stdout"
        }
      ]
    },
    {
      "cell_type": "markdown",
      "metadata": {
        "id": "qD20dg20wWZ9"
      },
      "source": [
        "##Testing"
      ]
    },
    {
      "cell_type": "code",
      "metadata": {
        "colab": {
          "base_uri": "https://localhost:8080/"
        },
        "id": "sxS4hbZdwal-",
        "outputId": "70740c20-7cc7-4a73-dbb2-e852e6e677b1"
      },
      "source": [
        "test_accuracy= model.evaluate(test_ds)"
      ],
      "execution_count": 21,
      "outputs": [
        {
          "output_type": "stream",
          "text": [
            "25/25 [==============================] - 18s 738ms/step - loss: 0.2549 - accuracy: 0.9175\n"
          ],
          "name": "stdout"
        }
      ]
    },
    {
      "cell_type": "markdown",
      "metadata": {
        "id": "aCHMXjN99T6J"
      },
      "source": [
        "#Pruning"
      ]
    },
    {
      "cell_type": "code",
      "metadata": {
        "id": "lM_KCDoM9TM-"
      },
      "source": [
        "prune_low_magnitude=tfmot.sparsity.keras.prune_low_magnitude\r\n",
        "\r\n",
        "pruning_params = {\r\n",
        "      'pruning_schedule': tfmot.sparsity.keras.PolynomialDecay(initial_sparsity=0.50,final_sparsity=0.80,begin_step=len(train_ds)*5,end_step=len(train_ds)*15)\r\n",
        "}\r\n",
        "\r\n",
        "\r\n",
        "model_for_pruning = prune_low_magnitude(model, **pruning_params)\r\n"
      ],
      "execution_count": 31,
      "outputs": []
    },
    {
      "cell_type": "code",
      "metadata": {
        "id": "KFio1tecYXz-"
      },
      "source": [
        "model_for_pruning.compile(optimizer='adam',\r\n",
        "              loss=tf.keras.losses.SparseCategoricalCrossentropy(from_logits=True),\r\n",
        "              metrics=['accuracy'])"
      ],
      "execution_count": 33,
      "outputs": []
    },
    {
      "cell_type": "code",
      "metadata": {
        "id": "0VQvZAKg-FAp"
      },
      "source": [
        "callbacks = [tfmot.sparsity.keras.UpdatePruningStep()]\r\n"
      ],
      "execution_count": 34,
      "outputs": []
    },
    {
      "cell_type": "code",
      "metadata": {
        "id": "bcvCbjJQYY2R",
        "outputId": "7a23072c-c16d-4381-ba91-4dd2ca295452",
        "colab": {
          "base_uri": "https://localhost:8080/"
        }
      },
      "source": [
        "model_for_pruning.fit(train_ds,epochs=20,validation_data=val_ds,callbacks=callbacks)"
      ],
      "execution_count": 35,
      "outputs": [
        {
          "output_type": "stream",
          "text": [
            "Epoch 1/20\n",
            "200/200 [==============================] - 27s 137ms/step - loss: 0.0973 - accuracy: 0.9692 - val_loss: 0.3199 - val_accuracy: 0.9087\n",
            "Epoch 2/20\n",
            "200/200 [==============================] - 27s 136ms/step - loss: 0.0566 - accuracy: 0.9845 - val_loss: 0.2529 - val_accuracy: 0.9300\n",
            "Epoch 3/20\n",
            "200/200 [==============================] - 27s 136ms/step - loss: 0.0453 - accuracy: 0.9887 - val_loss: 0.3025 - val_accuracy: 0.9200\n",
            "Epoch 4/20\n",
            "200/200 [==============================] - 27s 135ms/step - loss: 0.0662 - accuracy: 0.9805 - val_loss: 0.3163 - val_accuracy: 0.9175\n",
            "Epoch 5/20\n",
            "200/200 [==============================] - 27s 136ms/step - loss: 0.0380 - accuracy: 0.9912 - val_loss: 0.2775 - val_accuracy: 0.9162\n",
            "Epoch 6/20\n",
            "200/200 [==============================] - 27s 135ms/step - loss: 0.0164 - accuracy: 0.9978 - val_loss: 0.2628 - val_accuracy: 0.9250\n",
            "Epoch 7/20\n",
            "200/200 [==============================] - 27s 135ms/step - loss: 0.0106 - accuracy: 0.9991 - val_loss: 0.2737 - val_accuracy: 0.9250\n",
            "Epoch 8/20\n",
            "200/200 [==============================] - 27s 135ms/step - loss: 0.0083 - accuracy: 0.9997 - val_loss: 0.2689 - val_accuracy: 0.9300\n",
            "Epoch 9/20\n",
            "200/200 [==============================] - 27s 136ms/step - loss: 0.0072 - accuracy: 1.0000 - val_loss: 0.2329 - val_accuracy: 0.9287\n",
            "Epoch 10/20\n",
            "200/200 [==============================] - 27s 135ms/step - loss: 0.0072 - accuracy: 0.9998 - val_loss: 0.2757 - val_accuracy: 0.9175\n",
            "Epoch 11/20\n",
            "200/200 [==============================] - 27s 135ms/step - loss: 0.0076 - accuracy: 1.0000 - val_loss: 0.2567 - val_accuracy: 0.9300\n",
            "Epoch 12/20\n",
            "200/200 [==============================] - 27s 136ms/step - loss: 0.0090 - accuracy: 0.9992 - val_loss: 0.2457 - val_accuracy: 0.9262\n",
            "Epoch 13/20\n",
            "200/200 [==============================] - 27s 135ms/step - loss: 0.0145 - accuracy: 0.9983 - val_loss: 0.2812 - val_accuracy: 0.9225\n",
            "Epoch 14/20\n",
            "200/200 [==============================] - 27s 137ms/step - loss: 0.0346 - accuracy: 0.9912 - val_loss: 0.2822 - val_accuracy: 0.9162\n",
            "Epoch 15/20\n",
            "200/200 [==============================] - 27s 135ms/step - loss: 0.0307 - accuracy: 0.9933 - val_loss: 0.2846 - val_accuracy: 0.9262\n",
            "Epoch 16/20\n",
            "200/200 [==============================] - 27s 135ms/step - loss: 0.0120 - accuracy: 0.9991 - val_loss: 0.2677 - val_accuracy: 0.9262\n",
            "Epoch 17/20\n",
            "200/200 [==============================] - 27s 135ms/step - loss: 0.0064 - accuracy: 0.9997 - val_loss: 0.2757 - val_accuracy: 0.9137\n",
            "Epoch 18/20\n",
            "200/200 [==============================] - 27s 135ms/step - loss: 0.0049 - accuracy: 1.0000 - val_loss: 0.2553 - val_accuracy: 0.9325\n",
            "Epoch 19/20\n",
            "200/200 [==============================] - 27s 136ms/step - loss: 0.0039 - accuracy: 1.0000 - val_loss: 0.2576 - val_accuracy: 0.9300\n",
            "Epoch 20/20\n",
            "200/200 [==============================] - 27s 136ms/step - loss: 0.0032 - accuracy: 1.0000 - val_loss: 0.2474 - val_accuracy: 0.9325\n"
          ],
          "name": "stdout"
        },
        {
          "output_type": "execute_result",
          "data": {
            "text/plain": [
              "<tensorflow.python.keras.callbacks.History at 0x7f5a6e97cc50>"
            ]
          },
          "metadata": {
            "tags": []
          },
          "execution_count": 35
        }
      ]
    },
    {
      "cell_type": "code",
      "metadata": {
        "id": "5cuDr45OZ8MY",
        "outputId": "01c8a908-5536-42e6-8fce-fb628c17f884",
        "colab": {
          "base_uri": "https://localhost:8080/"
        }
      },
      "source": [
        "model_for_pruning_accuracy = model_for_pruning.evaluate(\r\n",
        "  test_ds, verbose=0)\r\n",
        " \r\n",
        "print('Pruned test accuracy:', model_for_pruning_accuracy)"
      ],
      "execution_count": 36,
      "outputs": [
        {
          "output_type": "stream",
          "text": [
            "Pruned test accuracy: [0.2923097312450409, 0.9262499809265137]\n"
          ],
          "name": "stdout"
        }
      ]
    },
    {
      "cell_type": "code",
      "metadata": {
        "id": "e7_VpKqLZc_c"
      },
      "source": [
        "model=tfmot.sparsity.keras.strip_pruning(model_for_pruning)"
      ],
      "execution_count": 37,
      "outputs": []
    },
    {
      "cell_type": "markdown",
      "metadata": {
        "id": "iIckUXuaw95G"
      },
      "source": [
        "##*tflite* conversion, size and latency measurement"
      ]
    },
    {
      "cell_type": "markdown",
      "metadata": {
        "id": "DBoOxTEXxHMd"
      },
      "source": [
        "##tflite conversion"
      ]
    },
    {
      "cell_type": "code",
      "metadata": {
        "id": "uB8OtLPgxM1L",
        "colab": {
          "base_uri": "https://localhost:8080/"
        },
        "outputId": "9092765a-336e-4b95-b827-717bd67423b5"
      },
      "source": [
        "ROOT_DIR=\"./callback_val_chkp/\"\n",
        "tflite_models= ROOT_DIR + \"tfliteModels/\"\n",
        "!mkdir ./callback_val_chkp/tfliteModels\n",
        "\n",
        "\n",
        "if model_type=='a':\n",
        "  if (mfcc==True):\n",
        "    saved_model_dir= ROOT_DIR +\"mfcc_model_a\"\n",
        "    tflite_model_dir= tflite_models + \"model_a\"\n",
        "  else:\n",
        "    saved_model_dir= ROOT_DIR +\"stft_model_a\"\n",
        "    tflite_model_dir= tflite_models + \"model_a\"\n",
        "  \n",
        "\n",
        "if model_type=='b':\n",
        "  if (mfcc==True):\n",
        "    saved_model_dir= ROOT_DIR +\"mfcc_model_b\"\n",
        "    tflite_model_dir= tflite_models + \"model_b\"\n",
        "  else:\n",
        "    saved_model_dir= ROOT_DIR +\"stft_model_b\"\n",
        "    tflite_model_dir= tflite_models + \"model_b\"\n",
        "\n",
        "if model_type=='c':\n",
        "  if (mfcc==True):\n",
        "    saved_model_dir= ROOT_DIR +\"mfcc_model_c\"\n",
        "    tflite_model_dir= tflite_models + \"model_c\"\n",
        "  else:\n",
        "    saved_model_dir= ROOT_DIR +\"stft_model_c\"\n",
        "    tflite_model_dir= tflite_models + \"model_c\"\n",
        "\n",
        "\n",
        "converter=tf.lite.TFLiteConverter.from_keras_model(model) #from_saved_model(saved_model_dir)\n",
        "converter.optimizations = [tf.lite.Optimize.DEFAULT]\n",
        "tflite_model=converter.convert()\n",
        "\n",
        "with open(tflite_model_dir, \"wb\") as fp:\n",
        "  tflite_compressed = zlib.compress(tflite_model)\n",
        "  fp.write(tflite_compressed)"
      ],
      "execution_count": 40,
      "outputs": [
        {
          "output_type": "stream",
          "text": [
            "mkdir: cannot create directory ‘./callback_val_chkp/tfliteModels’: File exists\n",
            "INFO:tensorflow:Assets written to: /tmp/tmp5zcrn5wn/assets\n"
          ],
          "name": "stdout"
        },
        {
          "output_type": "stream",
          "text": [
            "INFO:tensorflow:Assets written to: /tmp/tmp5zcrn5wn/assets\n"
          ],
          "name": "stderr"
        }
      ]
    },
    {
      "cell_type": "markdown",
      "metadata": {
        "id": "3CH-bOBg2Xy7"
      },
      "source": [
        "##Size measurement"
      ]
    },
    {
      "cell_type": "code",
      "metadata": {
        "colab": {
          "base_uri": "https://localhost:8080/"
        },
        "id": "XiHV3SYH2Sl2",
        "outputId": "d506bbfa-c77e-4d06-80e9-1e38f0856c2f"
      },
      "source": [
        "os.path.getsize(tflite_model_dir)"
      ],
      "execution_count": 41,
      "outputs": [
        {
          "output_type": "execute_result",
          "data": {
            "text/plain": [
              "56892"
            ]
          },
          "metadata": {
            "tags": []
          },
          "execution_count": 41
        }
      ]
    },
    {
      "cell_type": "markdown",
      "metadata": {
        "id": "aWuqE4rknUA6"
      },
      "source": [
        "##Latency measurement"
      ]
    },
    {
      "cell_type": "code",
      "metadata": {
        "colab": {
          "base_uri": "https://localhost:8080/"
        },
        "id": "3tVik05Kn2nB",
        "outputId": "a20e799e-d2ac-4cca-dea0-cc1ecaeb11e1"
      },
      "source": [
        " !python ./HMW/HMW2/kws_inference.py --model ./callback_val_chkp/tfliteModels/model_a "
      ],
      "execution_count": 42,
      "outputs": [
        {
          "output_type": "stream",
          "text": [
            "2020-12-13 19:24:06.553482: I tensorflow/stream_executor/platform/default/dso_loader.cc:48] Successfully opened dynamic library libcudart.so.10.1\n",
            "sh: 1: cannot create /sys/devices/system/cpu/cpufreq/policy0/scaling_governor: Directory nonexistent\n",
            "2020-12-13 19:24:08.787505: I tensorflow/stream_executor/platform/default/dso_loader.cc:48] Successfully opened dynamic library libcuda.so.1\n",
            "2020-12-13 19:24:08.797297: E tensorflow/stream_executor/cuda/cuda_driver.cc:314] failed call to cuInit: CUDA_ERROR_NO_DEVICE: no CUDA-capable device is detected\n",
            "2020-12-13 19:24:08.797341: I tensorflow/stream_executor/cuda/cuda_diagnostics.cc:156] kernel driver does not appear to be running on this host (60ec01856c1a): /proc/driver/nvidia/version does not exist\n",
            "2020-12-13 19:24:08.815842: I tensorflow/core/platform/profile_utils/cpu_utils.cc:104] CPU Frequency: 2300000000 Hz\n",
            "2020-12-13 19:24:08.816090: I tensorflow/compiler/xla/service/service.cc:168] XLA service 0x2864840 initialized for platform Host (this does not guarantee that XLA will be used). Devices:\n",
            "2020-12-13 19:24:08.816128: I tensorflow/compiler/xla/service/service.cc:176]   StreamExecutor device (0): Host, Default Version\n",
            "Traceback (most recent call last):\n",
            "  File \"./HMW/HMW2/kws_inference.py\", line 45, in <module>\n",
            "    interpreter = tf.lite.Interpreter(model_path=args.model)\n",
            "  File \"/usr/local/lib/python3.6/dist-packages/tensorflow/lite/python/interpreter.py\", line 198, in __init__\n",
            "    model_path, self._custom_op_registerers))\n",
            "ValueError: Could not open './callback_val_chkp/tfliteModels/model_a'.\n"
          ],
          "name": "stdout"
        }
      ]
    }
  ]
}